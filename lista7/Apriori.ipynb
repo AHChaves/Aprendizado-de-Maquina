{
  "cells": [
    {
      "cell_type": "markdown",
      "metadata": {
        "id": "qm5lmIq9Xe-a"
      },
      "source": [
        "**Regras de associação**\n",
        "\n",
        "**Algoritmo Apriori**\n",
        "\n",
        "**Veja: https://www.youtube.com/watch?v=0v6PiOpsJi8** "
      ]
    },
    {
      "cell_type": "code",
      "execution_count": 89,
      "metadata": {
        "colab": {
          "base_uri": "https://localhost:8080/"
        },
        "id": "2bZM-_AsBVca",
        "outputId": "e27ed3f2-7fed-4087-905b-29fe244fc88a"
      },
      "outputs": [
        {
          "name": "stdout",
          "output_type": "stream",
          "text": [
            "Defaulting to user installation because normal site-packages is not writeable\n",
            "Requirement already satisfied: apyori in /home/arthur/.local/lib/python3.12/site-packages (1.1.2)\n"
          ]
        }
      ],
      "source": [
        "!pip install apyori --break"
      ]
    },
    {
      "cell_type": "code",
      "execution_count": 90,
      "metadata": {
        "id": "m3d_ivF4Bcn5"
      },
      "outputs": [],
      "source": [
        "import pandas as pd\n",
        "from apyori import apriori"
      ]
    },
    {
      "cell_type": "code",
      "execution_count": 91,
      "metadata": {
        "colab": {
          "base_uri": "https://localhost:8080/",
          "height": 418
        },
        "id": "fGx34zCzBkw1",
        "outputId": "84e8d7ca-e1bd-4381-fc70-c2516778281b"
      },
      "outputs": [
        {
          "data": {
            "application/vnd.microsoft.datawrangler.viewer.v0+json": {
              "columns": [
                {
                  "name": "index",
                  "rawType": "int64",
                  "type": "integer"
                },
                {
                  "name": "0",
                  "rawType": "object",
                  "type": "unknown"
                },
                {
                  "name": "1",
                  "rawType": "object",
                  "type": "unknown"
                },
                {
                  "name": "2",
                  "rawType": "object",
                  "type": "unknown"
                },
                {
                  "name": "3",
                  "rawType": "object",
                  "type": "unknown"
                },
                {
                  "name": "4",
                  "rawType": "object",
                  "type": "unknown"
                },
                {
                  "name": "5",
                  "rawType": "object",
                  "type": "unknown"
                },
                {
                  "name": "6",
                  "rawType": "object",
                  "type": "unknown"
                }
              ],
              "conversionMethod": "pd.DataFrame",
              "ref": "02568934-608f-448e-8534-7028f80004c0",
              "rows": [
                [
                  "0",
                  null,
                  "Cafe",
                  null,
                  "Pao",
                  "Manteiga",
                  null,
                  null
                ],
                [
                  "1",
                  "Leite",
                  null,
                  "Cerveja",
                  "Pao",
                  "Manteiga",
                  null,
                  null
                ],
                [
                  "2",
                  null,
                  "Cafe",
                  null,
                  "Pao",
                  "Manteiga",
                  null,
                  null
                ],
                [
                  "3",
                  "Leite",
                  "Cafe",
                  null,
                  "Pao",
                  "Manteiga",
                  null,
                  null
                ],
                [
                  "4",
                  null,
                  null,
                  "Cerveja",
                  null,
                  null,
                  null,
                  null
                ],
                [
                  "5",
                  null,
                  null,
                  null,
                  null,
                  "Manteiga",
                  null,
                  null
                ],
                [
                  "6",
                  null,
                  null,
                  null,
                  "Pao",
                  null,
                  null,
                  null
                ],
                [
                  "7",
                  null,
                  null,
                  null,
                  null,
                  null,
                  null,
                  "Feijao"
                ],
                [
                  "8",
                  null,
                  null,
                  null,
                  null,
                  null,
                  "Arroz",
                  "Feijao"
                ],
                [
                  "9",
                  null,
                  null,
                  null,
                  null,
                  null,
                  "Arroz",
                  null
                ]
              ],
              "shape": {
                "columns": 7,
                "rows": 10
              }
            },
            "text/html": [
              "<div>\n",
              "<style scoped>\n",
              "    .dataframe tbody tr th:only-of-type {\n",
              "        vertical-align: middle;\n",
              "    }\n",
              "\n",
              "    .dataframe tbody tr th {\n",
              "        vertical-align: top;\n",
              "    }\n",
              "\n",
              "    .dataframe thead th {\n",
              "        text-align: right;\n",
              "    }\n",
              "</style>\n",
              "<table border=\"1\" class=\"dataframe\">\n",
              "  <thead>\n",
              "    <tr style=\"text-align: right;\">\n",
              "      <th></th>\n",
              "      <th>0</th>\n",
              "      <th>1</th>\n",
              "      <th>2</th>\n",
              "      <th>3</th>\n",
              "      <th>4</th>\n",
              "      <th>5</th>\n",
              "      <th>6</th>\n",
              "    </tr>\n",
              "  </thead>\n",
              "  <tbody>\n",
              "    <tr>\n",
              "      <th>0</th>\n",
              "      <td>NaN</td>\n",
              "      <td>Cafe</td>\n",
              "      <td>NaN</td>\n",
              "      <td>Pao</td>\n",
              "      <td>Manteiga</td>\n",
              "      <td>NaN</td>\n",
              "      <td>NaN</td>\n",
              "    </tr>\n",
              "    <tr>\n",
              "      <th>1</th>\n",
              "      <td>Leite</td>\n",
              "      <td>NaN</td>\n",
              "      <td>Cerveja</td>\n",
              "      <td>Pao</td>\n",
              "      <td>Manteiga</td>\n",
              "      <td>NaN</td>\n",
              "      <td>NaN</td>\n",
              "    </tr>\n",
              "    <tr>\n",
              "      <th>2</th>\n",
              "      <td>NaN</td>\n",
              "      <td>Cafe</td>\n",
              "      <td>NaN</td>\n",
              "      <td>Pao</td>\n",
              "      <td>Manteiga</td>\n",
              "      <td>NaN</td>\n",
              "      <td>NaN</td>\n",
              "    </tr>\n",
              "    <tr>\n",
              "      <th>3</th>\n",
              "      <td>Leite</td>\n",
              "      <td>Cafe</td>\n",
              "      <td>NaN</td>\n",
              "      <td>Pao</td>\n",
              "      <td>Manteiga</td>\n",
              "      <td>NaN</td>\n",
              "      <td>NaN</td>\n",
              "    </tr>\n",
              "    <tr>\n",
              "      <th>4</th>\n",
              "      <td>NaN</td>\n",
              "      <td>NaN</td>\n",
              "      <td>Cerveja</td>\n",
              "      <td>NaN</td>\n",
              "      <td>NaN</td>\n",
              "      <td>NaN</td>\n",
              "      <td>NaN</td>\n",
              "    </tr>\n",
              "    <tr>\n",
              "      <th>5</th>\n",
              "      <td>NaN</td>\n",
              "      <td>NaN</td>\n",
              "      <td>NaN</td>\n",
              "      <td>NaN</td>\n",
              "      <td>Manteiga</td>\n",
              "      <td>NaN</td>\n",
              "      <td>NaN</td>\n",
              "    </tr>\n",
              "    <tr>\n",
              "      <th>6</th>\n",
              "      <td>NaN</td>\n",
              "      <td>NaN</td>\n",
              "      <td>NaN</td>\n",
              "      <td>Pao</td>\n",
              "      <td>NaN</td>\n",
              "      <td>NaN</td>\n",
              "      <td>NaN</td>\n",
              "    </tr>\n",
              "    <tr>\n",
              "      <th>7</th>\n",
              "      <td>NaN</td>\n",
              "      <td>NaN</td>\n",
              "      <td>NaN</td>\n",
              "      <td>NaN</td>\n",
              "      <td>NaN</td>\n",
              "      <td>NaN</td>\n",
              "      <td>Feijao</td>\n",
              "    </tr>\n",
              "    <tr>\n",
              "      <th>8</th>\n",
              "      <td>NaN</td>\n",
              "      <td>NaN</td>\n",
              "      <td>NaN</td>\n",
              "      <td>NaN</td>\n",
              "      <td>NaN</td>\n",
              "      <td>Arroz</td>\n",
              "      <td>Feijao</td>\n",
              "    </tr>\n",
              "    <tr>\n",
              "      <th>9</th>\n",
              "      <td>NaN</td>\n",
              "      <td>NaN</td>\n",
              "      <td>NaN</td>\n",
              "      <td>NaN</td>\n",
              "      <td>NaN</td>\n",
              "      <td>Arroz</td>\n",
              "      <td>NaN</td>\n",
              "    </tr>\n",
              "  </tbody>\n",
              "</table>\n",
              "</div>"
            ],
            "text/plain": [
              "       0     1        2    3         4      5       6\n",
              "0    NaN  Cafe      NaN  Pao  Manteiga    NaN     NaN\n",
              "1  Leite   NaN  Cerveja  Pao  Manteiga    NaN     NaN\n",
              "2    NaN  Cafe      NaN  Pao  Manteiga    NaN     NaN\n",
              "3  Leite  Cafe      NaN  Pao  Manteiga    NaN     NaN\n",
              "4    NaN   NaN  Cerveja  NaN       NaN    NaN     NaN\n",
              "5    NaN   NaN      NaN  NaN  Manteiga    NaN     NaN\n",
              "6    NaN   NaN      NaN  Pao       NaN    NaN     NaN\n",
              "7    NaN   NaN      NaN  NaN       NaN    NaN  Feijao\n",
              "8    NaN   NaN      NaN  NaN       NaN  Arroz  Feijao\n",
              "9    NaN   NaN      NaN  NaN       NaN  Arroz     NaN"
            ]
          },
          "execution_count": 91,
          "metadata": {},
          "output_type": "execute_result"
        }
      ],
      "source": [
        "#encoding = \"cp1252\", encoding='utf-8', encoding='latin1'etc\n",
        "base= pd.read_csv('../bases/MercadoSim.csv', sep=';',header=None)\n",
        "base"
      ]
    },
    {
      "cell_type": "code",
      "execution_count": 92,
      "metadata": {
        "colab": {
          "base_uri": "https://localhost:8080/"
        },
        "id": "oIBsczbGCxWf",
        "outputId": "73984404-3585-4e7c-8d5e-e77c36f87e81"
      },
      "outputs": [
        {
          "data": {
            "text/plain": [
              "(10, 7)"
            ]
          },
          "execution_count": 92,
          "metadata": {},
          "output_type": "execute_result"
        }
      ],
      "source": [
        "base.shape"
      ]
    },
    {
      "cell_type": "markdown",
      "metadata": {
        "id": "cQyNolxV37tx"
      },
      "source": [
        "**Como estaremos treinando um modelo a priori, que recebe entradas em formato de lista, precisamos transformar o dataframe em uma lista de transações.**"
      ]
    },
    {
      "cell_type": "code",
      "execution_count": 93,
      "metadata": {
        "id": "ZF8i0EdWCMjY"
      },
      "outputs": [],
      "source": [
        "transacoes = [] \n",
        "for i in range(len(base)):\n",
        "    transacoes.append([ str(base.values[i, j]) for j in range(base.shape[1]) if not pd.isna(base.values[i, j])])"
      ]
    },
    {
      "cell_type": "code",
      "execution_count": 94,
      "metadata": {
        "colab": {
          "base_uri": "https://localhost:8080/"
        },
        "id": "XH2CNc6VC3e3",
        "outputId": "04ebd6fd-6d5c-4232-ca87-866c512fcff8"
      },
      "outputs": [
        {
          "data": {
            "text/plain": [
              "[['Cafe', 'Pao', 'Manteiga'],\n",
              " ['Leite', 'Cerveja', 'Pao', 'Manteiga'],\n",
              " ['Cafe', 'Pao', 'Manteiga'],\n",
              " ['Leite', 'Cafe', 'Pao', 'Manteiga'],\n",
              " ['Cerveja'],\n",
              " ['Manteiga'],\n",
              " ['Pao'],\n",
              " ['Feijao'],\n",
              " ['Arroz', 'Feijao'],\n",
              " ['Arroz']]"
            ]
          },
          "execution_count": 94,
          "metadata": {},
          "output_type": "execute_result"
        }
      ],
      "source": [
        "transacoes"
      ]
    },
    {
      "cell_type": "code",
      "execution_count": 95,
      "metadata": {
        "colab": {
          "base_uri": "https://localhost:8080/"
        },
        "id": "jF4Ec_ryDNfw",
        "outputId": "5dc3e8ca-9554-4dd2-b894-7998cb831b1e"
      },
      "outputs": [
        {
          "data": {
            "text/plain": [
              "list"
            ]
          },
          "execution_count": 95,
          "metadata": {},
          "output_type": "execute_result"
        }
      ],
      "source": [
        "type(transacoes)"
      ]
    },
    {
      "cell_type": "markdown",
      "metadata": {
        "id": "ggzA0uJg_3Ns"
      },
      "source": [
        "**Vamos chamar executar o algoritmo apriori e armazenar as regras obtidas**"
      ]
    },
    {
      "cell_type": "code",
      "execution_count": 96,
      "metadata": {
        "colab": {
          "base_uri": "https://localhost:8080/"
        },
        "id": "DuX5YuabzqfQ",
        "outputId": "02c6a77b-140d-4d4c-c5ea-166abbcd7c8b"
      },
      "outputs": [
        {
          "name": "stdout",
          "output_type": "stream",
          "text": [
            "4\n",
            "[RelationRecord(items=frozenset({'Manteiga', 'Cafe'}), support=0.3, ordered_statistics=[OrderedStatistic(items_base=frozenset({'Cafe'}), items_add=frozenset({'Manteiga'}), confidence=1.0, lift=2.0)]), RelationRecord(items=frozenset({'Cafe', 'Pao'}), support=0.3, ordered_statistics=[OrderedStatistic(items_base=frozenset({'Cafe'}), items_add=frozenset({'Pao'}), confidence=1.0, lift=2.0)]), RelationRecord(items=frozenset({'Manteiga', 'Pao'}), support=0.4, ordered_statistics=[OrderedStatistic(items_base=frozenset({'Manteiga'}), items_add=frozenset({'Pao'}), confidence=0.8, lift=1.6), OrderedStatistic(items_base=frozenset({'Pao'}), items_add=frozenset({'Manteiga'}), confidence=0.8, lift=1.6)]), RelationRecord(items=frozenset({'Manteiga', 'Cafe', 'Pao'}), support=0.3, ordered_statistics=[OrderedStatistic(items_base=frozenset({'Cafe'}), items_add=frozenset({'Manteiga', 'Pao'}), confidence=1.0, lift=2.5), OrderedStatistic(items_base=frozenset({'Manteiga', 'Cafe'}), items_add=frozenset({'Pao'}), confidence=1.0, lift=2.0), OrderedStatistic(items_base=frozenset({'Cafe', 'Pao'}), items_add=frozenset({'Manteiga'}), confidence=1.0, lift=2.0)])]\n"
          ]
        }
      ],
      "source": [
        "regras = apriori(transacoes, min_support = 0.3, min_confidence = 0.8)\n",
        "saida = list(regras) \n",
        "print(len(saida))\n",
        "print(saida)"
      ]
    },
    {
      "cell_type": "code",
      "execution_count": 97,
      "metadata": {
        "colab": {
          "base_uri": "https://localhost:8080/"
        },
        "id": "l4vMQUJfHu0e",
        "outputId": "0e70564c-2c6f-4e19-f1fa-891765e3508c"
      },
      "outputs": [
        {
          "name": "stdout",
          "output_type": "stream",
          "text": [
            "RelationRecord(items=frozenset({'Manteiga', 'Cafe'}), support=0.3, ordered_statistics=[OrderedStatistic(items_base=frozenset({'Cafe'}), items_add=frozenset({'Manteiga'}), confidence=1.0, lift=2.0)])\n"
          ]
        }
      ],
      "source": [
        "print(saida[0])"
      ]
    },
    {
      "cell_type": "markdown",
      "metadata": {
        "id": "soknidg94a2y"
      },
      "source": [
        "**Para facilitar a visualização, veja como transformar isso em um dataframe** \n",
        "\n",
        "Extraído de:\n",
        "\n",
        "https://www.section.io/engineering-education/apriori-algorithm-in-python/\n",
        "\n",
        "https://splunktool.com/understanding-apyoris-output"
      ]
    },
    {
      "cell_type": "code",
      "execution_count": 98,
      "metadata": {},
      "outputs": [
        {
          "name": "stdout",
          "output_type": "stream",
          "text": [
            "Itemsets gerados com seus respectivos suportes:\n",
            "                 Itemset  Suporte\n",
            "0       [Manteiga, Cafe]      0.3\n",
            "1            [Cafe, Pao]      0.3\n",
            "2        [Manteiga, Pao]      0.4\n",
            "3  [Manteiga, Cafe, Pao]      0.3\n"
          ]
        }
      ],
      "source": [
        "itemsets_com_suporte = []\n",
        "for resultado in saida:\n",
        "    itemset = list(resultado[0]) \n",
        "    suporte = resultado[1]        \n",
        "    itemsets_com_suporte.append((itemset, suporte))\n",
        "\n",
        "df_itemsets = pd.DataFrame(itemsets_com_suporte, columns=['Itemset', 'Suporte'])\n",
        "\n",
        "#df_itemsets = df_itemsets.sort_values(by='Suporte', ascending=False)\n",
        "\n",
        "print(\"Itemsets gerados com seus respectivos suportes:\")\n",
        "print(df_itemsets)"
      ]
    },
    {
      "cell_type": "code",
      "execution_count": 99,
      "metadata": {},
      "outputs": [
        {
          "data": {
            "application/vnd.microsoft.datawrangler.viewer.v0+json": {
              "columns": [
                {
                  "name": "index",
                  "rawType": "int64",
                  "type": "integer"
                },
                {
                  "name": "Itemset",
                  "rawType": "object",
                  "type": "unknown"
                },
                {
                  "name": "Suporte",
                  "rawType": "float64",
                  "type": "float"
                }
              ],
              "conversionMethod": "pd.DataFrame",
              "ref": "96df3530-8494-4ec9-ab1b-b3578f6c4fa1",
              "rows": [
                [
                  "0",
                  "['Manteiga', 'Cafe']",
                  "0.3"
                ],
                [
                  "1",
                  "['Cafe', 'Pao']",
                  "0.3"
                ],
                [
                  "2",
                  "['Manteiga', 'Pao']",
                  "0.4"
                ],
                [
                  "3",
                  "['Manteiga', 'Cafe', 'Pao']",
                  "0.3"
                ]
              ],
              "shape": {
                "columns": 2,
                "rows": 4
              }
            },
            "text/html": [
              "<div>\n",
              "<style scoped>\n",
              "    .dataframe tbody tr th:only-of-type {\n",
              "        vertical-align: middle;\n",
              "    }\n",
              "\n",
              "    .dataframe tbody tr th {\n",
              "        vertical-align: top;\n",
              "    }\n",
              "\n",
              "    .dataframe thead th {\n",
              "        text-align: right;\n",
              "    }\n",
              "</style>\n",
              "<table border=\"1\" class=\"dataframe\">\n",
              "  <thead>\n",
              "    <tr style=\"text-align: right;\">\n",
              "      <th></th>\n",
              "      <th>Itemset</th>\n",
              "      <th>Suporte</th>\n",
              "    </tr>\n",
              "  </thead>\n",
              "  <tbody>\n",
              "    <tr>\n",
              "      <th>0</th>\n",
              "      <td>[Manteiga, Cafe]</td>\n",
              "      <td>0.3</td>\n",
              "    </tr>\n",
              "    <tr>\n",
              "      <th>1</th>\n",
              "      <td>[Cafe, Pao]</td>\n",
              "      <td>0.3</td>\n",
              "    </tr>\n",
              "    <tr>\n",
              "      <th>2</th>\n",
              "      <td>[Manteiga, Pao]</td>\n",
              "      <td>0.4</td>\n",
              "    </tr>\n",
              "    <tr>\n",
              "      <th>3</th>\n",
              "      <td>[Manteiga, Cafe, Pao]</td>\n",
              "      <td>0.3</td>\n",
              "    </tr>\n",
              "  </tbody>\n",
              "</table>\n",
              "</div>"
            ],
            "text/plain": [
              "                 Itemset  Suporte\n",
              "0       [Manteiga, Cafe]      0.3\n",
              "1            [Cafe, Pao]      0.3\n",
              "2        [Manteiga, Pao]      0.4\n",
              "3  [Manteiga, Cafe, Pao]      0.3"
            ]
          },
          "execution_count": 99,
          "metadata": {},
          "output_type": "execute_result"
        }
      ],
      "source": [
        "df_itemsets"
      ]
    },
    {
      "cell_type": "code",
      "execution_count": 100,
      "metadata": {
        "id": "UWDno2uo4aL0"
      },
      "outputs": [],
      "source": [
        "lhs = []\n",
        "rhs = []\n",
        "suporte = []\n",
        "confianca = []\n",
        "lift = []\n",
        "\n",
        "for resultado in saida:\n",
        "  #print(resultado)\n",
        "  s = resultado[1]\n",
        "  #print(s)\n",
        "  result_rules = resultado[2]\n",
        "  #print(result_rule)\n",
        "  for result_rule in result_rules:\n",
        "    #print(result_rule)\n",
        "    a = list(result_rule[0])\n",
        "    b = list(result_rule[1])\n",
        "    c = result_rule[2]\n",
        "    l = result_rule[3]\n",
        "    #print(a, ' - ', b, ' - ', c, ' - ', l)\n",
        "    lhs.append(a)\n",
        "    rhs.append(b)\n",
        "    suporte.append(s)\n",
        "    confianca.append(c)\n",
        "    lift.append(l)\n",
        "    RegrasFinais = pd.DataFrame({'Lhs': lhs, 'Rhs': rhs, 'suporte': suporte, 'confianca': confianca, 'lift': lift})"
      ]
    },
    {
      "cell_type": "code",
      "execution_count": 101,
      "metadata": {
        "colab": {
          "base_uri": "https://localhost:8080/",
          "height": 959
        },
        "id": "QW7wcZbe431-",
        "outputId": "4034cc1b-c464-498d-e722-0acd0f868550"
      },
      "outputs": [
        {
          "data": {
            "application/vnd.microsoft.datawrangler.viewer.v0+json": {
              "columns": [
                {
                  "name": "index",
                  "rawType": "int64",
                  "type": "integer"
                },
                {
                  "name": "Lhs",
                  "rawType": "object",
                  "type": "unknown"
                },
                {
                  "name": "Rhs",
                  "rawType": "object",
                  "type": "unknown"
                },
                {
                  "name": "suporte",
                  "rawType": "float64",
                  "type": "float"
                },
                {
                  "name": "confianca",
                  "rawType": "float64",
                  "type": "float"
                },
                {
                  "name": "lift",
                  "rawType": "float64",
                  "type": "float"
                }
              ],
              "conversionMethod": "pd.DataFrame",
              "ref": "0383d2bc-6a58-4a2c-827c-4bafcec46c97",
              "rows": [
                [
                  "0",
                  "['Cafe']",
                  "['Manteiga']",
                  "0.3",
                  "1.0",
                  "2.0"
                ],
                [
                  "1",
                  "['Cafe']",
                  "['Pao']",
                  "0.3",
                  "1.0",
                  "2.0"
                ],
                [
                  "2",
                  "['Manteiga']",
                  "['Pao']",
                  "0.4",
                  "0.8",
                  "1.6"
                ],
                [
                  "3",
                  "['Pao']",
                  "['Manteiga']",
                  "0.4",
                  "0.8",
                  "1.6"
                ],
                [
                  "4",
                  "['Cafe']",
                  "['Manteiga', 'Pao']",
                  "0.3",
                  "1.0",
                  "2.5"
                ],
                [
                  "5",
                  "['Manteiga', 'Cafe']",
                  "['Pao']",
                  "0.3",
                  "1.0",
                  "2.0"
                ],
                [
                  "6",
                  "['Cafe', 'Pao']",
                  "['Manteiga']",
                  "0.3",
                  "1.0",
                  "2.0"
                ]
              ],
              "shape": {
                "columns": 5,
                "rows": 7
              }
            },
            "text/html": [
              "<div>\n",
              "<style scoped>\n",
              "    .dataframe tbody tr th:only-of-type {\n",
              "        vertical-align: middle;\n",
              "    }\n",
              "\n",
              "    .dataframe tbody tr th {\n",
              "        vertical-align: top;\n",
              "    }\n",
              "\n",
              "    .dataframe thead th {\n",
              "        text-align: right;\n",
              "    }\n",
              "</style>\n",
              "<table border=\"1\" class=\"dataframe\">\n",
              "  <thead>\n",
              "    <tr style=\"text-align: right;\">\n",
              "      <th></th>\n",
              "      <th>Lhs</th>\n",
              "      <th>Rhs</th>\n",
              "      <th>suporte</th>\n",
              "      <th>confianca</th>\n",
              "      <th>lift</th>\n",
              "    </tr>\n",
              "  </thead>\n",
              "  <tbody>\n",
              "    <tr>\n",
              "      <th>0</th>\n",
              "      <td>[Cafe]</td>\n",
              "      <td>[Manteiga]</td>\n",
              "      <td>0.3</td>\n",
              "      <td>1.0</td>\n",
              "      <td>2.0</td>\n",
              "    </tr>\n",
              "    <tr>\n",
              "      <th>1</th>\n",
              "      <td>[Cafe]</td>\n",
              "      <td>[Pao]</td>\n",
              "      <td>0.3</td>\n",
              "      <td>1.0</td>\n",
              "      <td>2.0</td>\n",
              "    </tr>\n",
              "    <tr>\n",
              "      <th>2</th>\n",
              "      <td>[Manteiga]</td>\n",
              "      <td>[Pao]</td>\n",
              "      <td>0.4</td>\n",
              "      <td>0.8</td>\n",
              "      <td>1.6</td>\n",
              "    </tr>\n",
              "    <tr>\n",
              "      <th>3</th>\n",
              "      <td>[Pao]</td>\n",
              "      <td>[Manteiga]</td>\n",
              "      <td>0.4</td>\n",
              "      <td>0.8</td>\n",
              "      <td>1.6</td>\n",
              "    </tr>\n",
              "    <tr>\n",
              "      <th>4</th>\n",
              "      <td>[Cafe]</td>\n",
              "      <td>[Manteiga, Pao]</td>\n",
              "      <td>0.3</td>\n",
              "      <td>1.0</td>\n",
              "      <td>2.5</td>\n",
              "    </tr>\n",
              "    <tr>\n",
              "      <th>5</th>\n",
              "      <td>[Manteiga, Cafe]</td>\n",
              "      <td>[Pao]</td>\n",
              "      <td>0.3</td>\n",
              "      <td>1.0</td>\n",
              "      <td>2.0</td>\n",
              "    </tr>\n",
              "    <tr>\n",
              "      <th>6</th>\n",
              "      <td>[Cafe, Pao]</td>\n",
              "      <td>[Manteiga]</td>\n",
              "      <td>0.3</td>\n",
              "      <td>1.0</td>\n",
              "      <td>2.0</td>\n",
              "    </tr>\n",
              "  </tbody>\n",
              "</table>\n",
              "</div>"
            ],
            "text/plain": [
              "                Lhs              Rhs  suporte  confianca  lift\n",
              "0            [Cafe]       [Manteiga]      0.3        1.0   2.0\n",
              "1            [Cafe]            [Pao]      0.3        1.0   2.0\n",
              "2        [Manteiga]            [Pao]      0.4        0.8   1.6\n",
              "3             [Pao]       [Manteiga]      0.4        0.8   1.6\n",
              "4            [Cafe]  [Manteiga, Pao]      0.3        1.0   2.5\n",
              "5  [Manteiga, Cafe]            [Pao]      0.3        1.0   2.0\n",
              "6       [Cafe, Pao]       [Manteiga]      0.3        1.0   2.0"
            ]
          },
          "execution_count": 101,
          "metadata": {},
          "output_type": "execute_result"
        }
      ],
      "source": [
        "RegrasFinais"
      ]
    },
    {
      "cell_type": "markdown",
      "metadata": {
        "id": "DJUXykHjhbJ0"
      },
      "source": [
        "**Podemos ordenar estas regras por uma métrica desejada**"
      ]
    },
    {
      "cell_type": "code",
      "execution_count": 102,
      "metadata": {
        "colab": {
          "base_uri": "https://localhost:8080/",
          "height": 959
        },
        "id": "A7X_YwVHhaxf",
        "outputId": "95d4e72b-cfa5-4bba-b5fa-e0f0ae8da836"
      },
      "outputs": [
        {
          "data": {
            "application/vnd.microsoft.datawrangler.viewer.v0+json": {
              "columns": [
                {
                  "name": "index",
                  "rawType": "int64",
                  "type": "integer"
                },
                {
                  "name": "Lhs",
                  "rawType": "object",
                  "type": "unknown"
                },
                {
                  "name": "Rhs",
                  "rawType": "object",
                  "type": "unknown"
                },
                {
                  "name": "suporte",
                  "rawType": "float64",
                  "type": "float"
                },
                {
                  "name": "confianca",
                  "rawType": "float64",
                  "type": "float"
                },
                {
                  "name": "lift",
                  "rawType": "float64",
                  "type": "float"
                }
              ],
              "conversionMethod": "pd.DataFrame",
              "ref": "fccd35e0-1ff3-4690-aff6-06cfe5945496",
              "rows": [
                [
                  "4",
                  "['Cafe']",
                  "['Manteiga', 'Pao']",
                  "0.3",
                  "1.0",
                  "2.5"
                ],
                [
                  "0",
                  "['Cafe']",
                  "['Manteiga']",
                  "0.3",
                  "1.0",
                  "2.0"
                ],
                [
                  "1",
                  "['Cafe']",
                  "['Pao']",
                  "0.3",
                  "1.0",
                  "2.0"
                ],
                [
                  "5",
                  "['Manteiga', 'Cafe']",
                  "['Pao']",
                  "0.3",
                  "1.0",
                  "2.0"
                ],
                [
                  "6",
                  "['Cafe', 'Pao']",
                  "['Manteiga']",
                  "0.3",
                  "1.0",
                  "2.0"
                ],
                [
                  "2",
                  "['Manteiga']",
                  "['Pao']",
                  "0.4",
                  "0.8",
                  "1.6"
                ],
                [
                  "3",
                  "['Pao']",
                  "['Manteiga']",
                  "0.4",
                  "0.8",
                  "1.6"
                ]
              ],
              "shape": {
                "columns": 5,
                "rows": 7
              }
            },
            "text/html": [
              "<div>\n",
              "<style scoped>\n",
              "    .dataframe tbody tr th:only-of-type {\n",
              "        vertical-align: middle;\n",
              "    }\n",
              "\n",
              "    .dataframe tbody tr th {\n",
              "        vertical-align: top;\n",
              "    }\n",
              "\n",
              "    .dataframe thead th {\n",
              "        text-align: right;\n",
              "    }\n",
              "</style>\n",
              "<table border=\"1\" class=\"dataframe\">\n",
              "  <thead>\n",
              "    <tr style=\"text-align: right;\">\n",
              "      <th></th>\n",
              "      <th>Lhs</th>\n",
              "      <th>Rhs</th>\n",
              "      <th>suporte</th>\n",
              "      <th>confianca</th>\n",
              "      <th>lift</th>\n",
              "    </tr>\n",
              "  </thead>\n",
              "  <tbody>\n",
              "    <tr>\n",
              "      <th>4</th>\n",
              "      <td>[Cafe]</td>\n",
              "      <td>[Manteiga, Pao]</td>\n",
              "      <td>0.3</td>\n",
              "      <td>1.0</td>\n",
              "      <td>2.5</td>\n",
              "    </tr>\n",
              "    <tr>\n",
              "      <th>0</th>\n",
              "      <td>[Cafe]</td>\n",
              "      <td>[Manteiga]</td>\n",
              "      <td>0.3</td>\n",
              "      <td>1.0</td>\n",
              "      <td>2.0</td>\n",
              "    </tr>\n",
              "    <tr>\n",
              "      <th>1</th>\n",
              "      <td>[Cafe]</td>\n",
              "      <td>[Pao]</td>\n",
              "      <td>0.3</td>\n",
              "      <td>1.0</td>\n",
              "      <td>2.0</td>\n",
              "    </tr>\n",
              "    <tr>\n",
              "      <th>5</th>\n",
              "      <td>[Manteiga, Cafe]</td>\n",
              "      <td>[Pao]</td>\n",
              "      <td>0.3</td>\n",
              "      <td>1.0</td>\n",
              "      <td>2.0</td>\n",
              "    </tr>\n",
              "    <tr>\n",
              "      <th>6</th>\n",
              "      <td>[Cafe, Pao]</td>\n",
              "      <td>[Manteiga]</td>\n",
              "      <td>0.3</td>\n",
              "      <td>1.0</td>\n",
              "      <td>2.0</td>\n",
              "    </tr>\n",
              "    <tr>\n",
              "      <th>2</th>\n",
              "      <td>[Manteiga]</td>\n",
              "      <td>[Pao]</td>\n",
              "      <td>0.4</td>\n",
              "      <td>0.8</td>\n",
              "      <td>1.6</td>\n",
              "    </tr>\n",
              "    <tr>\n",
              "      <th>3</th>\n",
              "      <td>[Pao]</td>\n",
              "      <td>[Manteiga]</td>\n",
              "      <td>0.4</td>\n",
              "      <td>0.8</td>\n",
              "      <td>1.6</td>\n",
              "    </tr>\n",
              "  </tbody>\n",
              "</table>\n",
              "</div>"
            ],
            "text/plain": [
              "                Lhs              Rhs  suporte  confianca  lift\n",
              "4            [Cafe]  [Manteiga, Pao]      0.3        1.0   2.5\n",
              "0            [Cafe]       [Manteiga]      0.3        1.0   2.0\n",
              "1            [Cafe]            [Pao]      0.3        1.0   2.0\n",
              "5  [Manteiga, Cafe]            [Pao]      0.3        1.0   2.0\n",
              "6       [Cafe, Pao]       [Manteiga]      0.3        1.0   2.0\n",
              "2        [Manteiga]            [Pao]      0.4        0.8   1.6\n",
              "3             [Pao]       [Manteiga]      0.4        0.8   1.6"
            ]
          },
          "execution_count": 102,
          "metadata": {},
          "output_type": "execute_result"
        }
      ],
      "source": [
        "RegrasFinais.sort_values(by='lift', ascending =False)"
      ]
    }
  ],
  "metadata": {
    "colab": {
      "collapsed_sections": [],
      "provenance": []
    },
    "kernelspec": {
      "display_name": "Python 3",
      "name": "python3"
    },
    "language_info": {
      "codemirror_mode": {
        "name": "ipython",
        "version": 3
      },
      "file_extension": ".py",
      "mimetype": "text/x-python",
      "name": "python",
      "nbconvert_exporter": "python",
      "pygments_lexer": "ipython3",
      "version": "3.12.3"
    }
  },
  "nbformat": 4,
  "nbformat_minor": 0
}
