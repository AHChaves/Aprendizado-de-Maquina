{
  "cells": [
    {
      "cell_type": "code",
      "execution_count": 31,
      "metadata": {
        "id": "m3d_ivF4Bcn5"
      },
      "outputs": [],
      "source": [
        "import pandas as pd\n",
        "from mlxtend.preprocessing import TransactionEncoder\n",
        "from mlxtend.frequent_patterns import apriori\n",
        "from mlxtend.frequent_patterns import association_rules"
      ]
    },
    {
      "cell_type": "code",
      "execution_count": 32,
      "metadata": {
        "colab": {
          "base_uri": "https://localhost:8080/",
          "height": 418
        },
        "id": "fGx34zCzBkw1",
        "outputId": "84e8d7ca-e1bd-4381-fc70-c2516778281b"
      },
      "outputs": [
        {
          "data": {
            "application/vnd.microsoft.datawrangler.viewer.v0+json": {
              "columns": [
                {
                  "name": "index",
                  "rawType": "int64",
                  "type": "integer"
                },
                {
                  "name": "0",
                  "rawType": "object",
                  "type": "unknown"
                },
                {
                  "name": "1",
                  "rawType": "object",
                  "type": "unknown"
                },
                {
                  "name": "2",
                  "rawType": "object",
                  "type": "unknown"
                },
                {
                  "name": "3",
                  "rawType": "object",
                  "type": "unknown"
                },
                {
                  "name": "4",
                  "rawType": "object",
                  "type": "unknown"
                },
                {
                  "name": "5",
                  "rawType": "object",
                  "type": "unknown"
                },
                {
                  "name": "6",
                  "rawType": "object",
                  "type": "unknown"
                }
              ],
              "conversionMethod": "pd.DataFrame",
              "ref": "008f2568-cd90-44d5-a943-1ff49bc6ce3b",
              "rows": [
                [
                  "0",
                  null,
                  "Cafe",
                  null,
                  "Pao",
                  "Manteiga",
                  null,
                  null
                ],
                [
                  "1",
                  "Leite",
                  null,
                  "Cerveja",
                  "Pao",
                  "Manteiga",
                  null,
                  null
                ],
                [
                  "2",
                  null,
                  "Cafe",
                  null,
                  "Pao",
                  "Manteiga",
                  null,
                  null
                ],
                [
                  "3",
                  "Leite",
                  "Cafe",
                  null,
                  "Pao",
                  "Manteiga",
                  null,
                  null
                ],
                [
                  "4",
                  null,
                  null,
                  "Cerveja",
                  null,
                  null,
                  null,
                  null
                ],
                [
                  "5",
                  null,
                  null,
                  null,
                  null,
                  "Manteiga",
                  null,
                  null
                ],
                [
                  "6",
                  null,
                  null,
                  null,
                  "Pao",
                  null,
                  null,
                  null
                ],
                [
                  "7",
                  null,
                  null,
                  null,
                  null,
                  null,
                  null,
                  "Feijao"
                ],
                [
                  "8",
                  null,
                  null,
                  null,
                  null,
                  null,
                  "Arroz",
                  "Feijao"
                ],
                [
                  "9",
                  null,
                  null,
                  null,
                  null,
                  null,
                  "Arroz",
                  null
                ]
              ],
              "shape": {
                "columns": 7,
                "rows": 10
              }
            },
            "text/html": [
              "<div>\n",
              "<style scoped>\n",
              "    .dataframe tbody tr th:only-of-type {\n",
              "        vertical-align: middle;\n",
              "    }\n",
              "\n",
              "    .dataframe tbody tr th {\n",
              "        vertical-align: top;\n",
              "    }\n",
              "\n",
              "    .dataframe thead th {\n",
              "        text-align: right;\n",
              "    }\n",
              "</style>\n",
              "<table border=\"1\" class=\"dataframe\">\n",
              "  <thead>\n",
              "    <tr style=\"text-align: right;\">\n",
              "      <th></th>\n",
              "      <th>0</th>\n",
              "      <th>1</th>\n",
              "      <th>2</th>\n",
              "      <th>3</th>\n",
              "      <th>4</th>\n",
              "      <th>5</th>\n",
              "      <th>6</th>\n",
              "    </tr>\n",
              "  </thead>\n",
              "  <tbody>\n",
              "    <tr>\n",
              "      <th>0</th>\n",
              "      <td>NaN</td>\n",
              "      <td>Cafe</td>\n",
              "      <td>NaN</td>\n",
              "      <td>Pao</td>\n",
              "      <td>Manteiga</td>\n",
              "      <td>NaN</td>\n",
              "      <td>NaN</td>\n",
              "    </tr>\n",
              "    <tr>\n",
              "      <th>1</th>\n",
              "      <td>Leite</td>\n",
              "      <td>NaN</td>\n",
              "      <td>Cerveja</td>\n",
              "      <td>Pao</td>\n",
              "      <td>Manteiga</td>\n",
              "      <td>NaN</td>\n",
              "      <td>NaN</td>\n",
              "    </tr>\n",
              "    <tr>\n",
              "      <th>2</th>\n",
              "      <td>NaN</td>\n",
              "      <td>Cafe</td>\n",
              "      <td>NaN</td>\n",
              "      <td>Pao</td>\n",
              "      <td>Manteiga</td>\n",
              "      <td>NaN</td>\n",
              "      <td>NaN</td>\n",
              "    </tr>\n",
              "    <tr>\n",
              "      <th>3</th>\n",
              "      <td>Leite</td>\n",
              "      <td>Cafe</td>\n",
              "      <td>NaN</td>\n",
              "      <td>Pao</td>\n",
              "      <td>Manteiga</td>\n",
              "      <td>NaN</td>\n",
              "      <td>NaN</td>\n",
              "    </tr>\n",
              "    <tr>\n",
              "      <th>4</th>\n",
              "      <td>NaN</td>\n",
              "      <td>NaN</td>\n",
              "      <td>Cerveja</td>\n",
              "      <td>NaN</td>\n",
              "      <td>NaN</td>\n",
              "      <td>NaN</td>\n",
              "      <td>NaN</td>\n",
              "    </tr>\n",
              "    <tr>\n",
              "      <th>5</th>\n",
              "      <td>NaN</td>\n",
              "      <td>NaN</td>\n",
              "      <td>NaN</td>\n",
              "      <td>NaN</td>\n",
              "      <td>Manteiga</td>\n",
              "      <td>NaN</td>\n",
              "      <td>NaN</td>\n",
              "    </tr>\n",
              "    <tr>\n",
              "      <th>6</th>\n",
              "      <td>NaN</td>\n",
              "      <td>NaN</td>\n",
              "      <td>NaN</td>\n",
              "      <td>Pao</td>\n",
              "      <td>NaN</td>\n",
              "      <td>NaN</td>\n",
              "      <td>NaN</td>\n",
              "    </tr>\n",
              "    <tr>\n",
              "      <th>7</th>\n",
              "      <td>NaN</td>\n",
              "      <td>NaN</td>\n",
              "      <td>NaN</td>\n",
              "      <td>NaN</td>\n",
              "      <td>NaN</td>\n",
              "      <td>NaN</td>\n",
              "      <td>Feijao</td>\n",
              "    </tr>\n",
              "    <tr>\n",
              "      <th>8</th>\n",
              "      <td>NaN</td>\n",
              "      <td>NaN</td>\n",
              "      <td>NaN</td>\n",
              "      <td>NaN</td>\n",
              "      <td>NaN</td>\n",
              "      <td>Arroz</td>\n",
              "      <td>Feijao</td>\n",
              "    </tr>\n",
              "    <tr>\n",
              "      <th>9</th>\n",
              "      <td>NaN</td>\n",
              "      <td>NaN</td>\n",
              "      <td>NaN</td>\n",
              "      <td>NaN</td>\n",
              "      <td>NaN</td>\n",
              "      <td>Arroz</td>\n",
              "      <td>NaN</td>\n",
              "    </tr>\n",
              "  </tbody>\n",
              "</table>\n",
              "</div>"
            ],
            "text/plain": [
              "       0     1        2    3         4      5       6\n",
              "0    NaN  Cafe      NaN  Pao  Manteiga    NaN     NaN\n",
              "1  Leite   NaN  Cerveja  Pao  Manteiga    NaN     NaN\n",
              "2    NaN  Cafe      NaN  Pao  Manteiga    NaN     NaN\n",
              "3  Leite  Cafe      NaN  Pao  Manteiga    NaN     NaN\n",
              "4    NaN   NaN  Cerveja  NaN       NaN    NaN     NaN\n",
              "5    NaN   NaN      NaN  NaN  Manteiga    NaN     NaN\n",
              "6    NaN   NaN      NaN  Pao       NaN    NaN     NaN\n",
              "7    NaN   NaN      NaN  NaN       NaN    NaN  Feijao\n",
              "8    NaN   NaN      NaN  NaN       NaN  Arroz  Feijao\n",
              "9    NaN   NaN      NaN  NaN       NaN  Arroz     NaN"
            ]
          },
          "execution_count": 32,
          "metadata": {},
          "output_type": "execute_result"
        }
      ],
      "source": [
        "#encoding = \"cp1252\", encoding='utf-8', encoding='latin1'etc\n",
        "base= pd.read_csv('../bases/MercadoSim.csv', sep=';',header=None)\n",
        "base"
      ]
    },
    {
      "cell_type": "code",
      "execution_count": 33,
      "metadata": {
        "colab": {
          "base_uri": "https://localhost:8080/"
        },
        "id": "oIBsczbGCxWf",
        "outputId": "73984404-3585-4e7c-8d5e-e77c36f87e81"
      },
      "outputs": [
        {
          "data": {
            "text/plain": [
              "(10, 7)"
            ]
          },
          "execution_count": 33,
          "metadata": {},
          "output_type": "execute_result"
        }
      ],
      "source": [
        "base.shape"
      ]
    },
    {
      "cell_type": "markdown",
      "metadata": {
        "id": "cQyNolxV37tx"
      },
      "source": [
        "**Como estaremos treinando um modelo a priori, que recebe entradas em formato de lista, precisamos transformar o dataframe em uma lista de transações.**"
      ]
    },
    {
      "cell_type": "code",
      "execution_count": 34,
      "metadata": {
        "id": "ZF8i0EdWCMjY"
      },
      "outputs": [],
      "source": [
        "transacoes = []\n",
        "for i in range(len(base)):\n",
        "    transacoes.append([str(base.values[i, j]) for j in range(base.shape[1]) if not pd.isna(base.values[i, j])])"
      ]
    },
    {
      "cell_type": "code",
      "execution_count": 35,
      "metadata": {},
      "outputs": [],
      "source": [
        "te = TransactionEncoder()\n",
        "te_ary = te.fit(transacoes).transform(transacoes)\n",
        "df = pd.DataFrame(te_ary, columns=te.columns_)"
      ]
    },
    {
      "cell_type": "markdown",
      "metadata": {
        "id": "ggzA0uJg_3Ns"
      },
      "source": [
        "**Vamos chamar executar o algoritmo apriori e armazenar as regras obtidas**"
      ]
    },
    {
      "cell_type": "code",
      "execution_count": 36,
      "metadata": {
        "colab": {
          "base_uri": "https://localhost:8080/"
        },
        "id": "DuX5YuabzqfQ",
        "outputId": "02c6a77b-140d-4d4c-c5ea-166abbcd7c8b"
      },
      "outputs": [],
      "source": [
        "frequent_itemsets = apriori(df, min_support=0.3, use_colnames=True)"
      ]
    },
    {
      "cell_type": "code",
      "execution_count": 37,
      "metadata": {
        "id": "UWDno2uo4aL0"
      },
      "outputs": [],
      "source": [
        "rules = association_rules(frequent_itemsets, metric=\"confidence\", min_threshold=0.8)"
      ]
    },
    {
      "cell_type": "code",
      "execution_count": 38,
      "metadata": {
        "colab": {
          "base_uri": "https://localhost:8080/",
          "height": 959
        },
        "id": "QW7wcZbe431-",
        "outputId": "4034cc1b-c464-498d-e722-0acd0f868550"
      },
      "outputs": [
        {
          "data": {
            "application/vnd.microsoft.datawrangler.viewer.v0+json": {
              "columns": [
                {
                  "name": "index",
                  "rawType": "int64",
                  "type": "integer"
                },
                {
                  "name": "antecedents",
                  "rawType": "object",
                  "type": "unknown"
                },
                {
                  "name": "consequents",
                  "rawType": "object",
                  "type": "unknown"
                },
                {
                  "name": "antecedent support",
                  "rawType": "float64",
                  "type": "float"
                },
                {
                  "name": "consequent support",
                  "rawType": "float64",
                  "type": "float"
                },
                {
                  "name": "support",
                  "rawType": "float64",
                  "type": "float"
                },
                {
                  "name": "confidence",
                  "rawType": "float64",
                  "type": "float"
                },
                {
                  "name": "lift",
                  "rawType": "float64",
                  "type": "float"
                },
                {
                  "name": "representativity",
                  "rawType": "float64",
                  "type": "float"
                },
                {
                  "name": "leverage",
                  "rawType": "float64",
                  "type": "float"
                },
                {
                  "name": "conviction",
                  "rawType": "float64",
                  "type": "float"
                },
                {
                  "name": "zhangs_metric",
                  "rawType": "float64",
                  "type": "float"
                },
                {
                  "name": "jaccard",
                  "rawType": "float64",
                  "type": "float"
                },
                {
                  "name": "certainty",
                  "rawType": "float64",
                  "type": "float"
                },
                {
                  "name": "kulczynski",
                  "rawType": "float64",
                  "type": "float"
                }
              ],
              "conversionMethod": "pd.DataFrame",
              "ref": "a89aa2a2-5270-4202-b8a9-1ff6558eecb6",
              "rows": [
                [
                  "0",
                  "frozenset({'Cafe'})",
                  "frozenset({'Manteiga'})",
                  "0.3",
                  "0.5",
                  "0.3",
                  "1.0",
                  "2.0",
                  "1.0",
                  "0.15",
                  "inf",
                  "0.7142857142857143",
                  "0.6",
                  "1.0",
                  "0.8"
                ],
                [
                  "1",
                  "frozenset({'Cafe'})",
                  "frozenset({'Pao'})",
                  "0.3",
                  "0.5",
                  "0.3",
                  "1.0",
                  "2.0",
                  "1.0",
                  "0.15",
                  "inf",
                  "0.7142857142857143",
                  "0.6",
                  "1.0",
                  "0.8"
                ],
                [
                  "2",
                  "frozenset({'Pao'})",
                  "frozenset({'Manteiga'})",
                  "0.5",
                  "0.5",
                  "0.4",
                  "0.8",
                  "1.6",
                  "1.0",
                  "0.15000000000000002",
                  "2.5000000000000004",
                  "0.7500000000000001",
                  "0.6666666666666667",
                  "0.6000000000000001",
                  "0.8"
                ],
                [
                  "3",
                  "frozenset({'Manteiga'})",
                  "frozenset({'Pao'})",
                  "0.5",
                  "0.5",
                  "0.4",
                  "0.8",
                  "1.6",
                  "1.0",
                  "0.15000000000000002",
                  "2.5000000000000004",
                  "0.7500000000000001",
                  "0.6666666666666667",
                  "0.6000000000000001",
                  "0.8"
                ],
                [
                  "4",
                  "frozenset({'Pao', 'Cafe'})",
                  "frozenset({'Manteiga'})",
                  "0.3",
                  "0.5",
                  "0.3",
                  "1.0",
                  "2.0",
                  "1.0",
                  "0.15",
                  "inf",
                  "0.7142857142857143",
                  "0.6",
                  "1.0",
                  "0.8"
                ],
                [
                  "5",
                  "frozenset({'Cafe', 'Manteiga'})",
                  "frozenset({'Pao'})",
                  "0.3",
                  "0.5",
                  "0.3",
                  "1.0",
                  "2.0",
                  "1.0",
                  "0.15",
                  "inf",
                  "0.7142857142857143",
                  "0.6",
                  "1.0",
                  "0.8"
                ],
                [
                  "6",
                  "frozenset({'Cafe'})",
                  "frozenset({'Pao', 'Manteiga'})",
                  "0.3",
                  "0.4",
                  "0.3",
                  "1.0",
                  "2.5",
                  "1.0",
                  "0.18",
                  "inf",
                  "0.8571428571428571",
                  "0.75",
                  "1.0",
                  "0.875"
                ]
              ],
              "shape": {
                "columns": 14,
                "rows": 7
              }
            },
            "text/html": [
              "<div>\n",
              "<style scoped>\n",
              "    .dataframe tbody tr th:only-of-type {\n",
              "        vertical-align: middle;\n",
              "    }\n",
              "\n",
              "    .dataframe tbody tr th {\n",
              "        vertical-align: top;\n",
              "    }\n",
              "\n",
              "    .dataframe thead th {\n",
              "        text-align: right;\n",
              "    }\n",
              "</style>\n",
              "<table border=\"1\" class=\"dataframe\">\n",
              "  <thead>\n",
              "    <tr style=\"text-align: right;\">\n",
              "      <th></th>\n",
              "      <th>antecedents</th>\n",
              "      <th>consequents</th>\n",
              "      <th>antecedent support</th>\n",
              "      <th>consequent support</th>\n",
              "      <th>support</th>\n",
              "      <th>confidence</th>\n",
              "      <th>lift</th>\n",
              "      <th>representativity</th>\n",
              "      <th>leverage</th>\n",
              "      <th>conviction</th>\n",
              "      <th>zhangs_metric</th>\n",
              "      <th>jaccard</th>\n",
              "      <th>certainty</th>\n",
              "      <th>kulczynski</th>\n",
              "    </tr>\n",
              "  </thead>\n",
              "  <tbody>\n",
              "    <tr>\n",
              "      <th>0</th>\n",
              "      <td>(Cafe)</td>\n",
              "      <td>(Manteiga)</td>\n",
              "      <td>0.3</td>\n",
              "      <td>0.5</td>\n",
              "      <td>0.3</td>\n",
              "      <td>1.0</td>\n",
              "      <td>2.0</td>\n",
              "      <td>1.0</td>\n",
              "      <td>0.15</td>\n",
              "      <td>inf</td>\n",
              "      <td>0.714286</td>\n",
              "      <td>0.600000</td>\n",
              "      <td>1.0</td>\n",
              "      <td>0.800</td>\n",
              "    </tr>\n",
              "    <tr>\n",
              "      <th>1</th>\n",
              "      <td>(Cafe)</td>\n",
              "      <td>(Pao)</td>\n",
              "      <td>0.3</td>\n",
              "      <td>0.5</td>\n",
              "      <td>0.3</td>\n",
              "      <td>1.0</td>\n",
              "      <td>2.0</td>\n",
              "      <td>1.0</td>\n",
              "      <td>0.15</td>\n",
              "      <td>inf</td>\n",
              "      <td>0.714286</td>\n",
              "      <td>0.600000</td>\n",
              "      <td>1.0</td>\n",
              "      <td>0.800</td>\n",
              "    </tr>\n",
              "    <tr>\n",
              "      <th>2</th>\n",
              "      <td>(Pao)</td>\n",
              "      <td>(Manteiga)</td>\n",
              "      <td>0.5</td>\n",
              "      <td>0.5</td>\n",
              "      <td>0.4</td>\n",
              "      <td>0.8</td>\n",
              "      <td>1.6</td>\n",
              "      <td>1.0</td>\n",
              "      <td>0.15</td>\n",
              "      <td>2.5</td>\n",
              "      <td>0.750000</td>\n",
              "      <td>0.666667</td>\n",
              "      <td>0.6</td>\n",
              "      <td>0.800</td>\n",
              "    </tr>\n",
              "    <tr>\n",
              "      <th>3</th>\n",
              "      <td>(Manteiga)</td>\n",
              "      <td>(Pao)</td>\n",
              "      <td>0.5</td>\n",
              "      <td>0.5</td>\n",
              "      <td>0.4</td>\n",
              "      <td>0.8</td>\n",
              "      <td>1.6</td>\n",
              "      <td>1.0</td>\n",
              "      <td>0.15</td>\n",
              "      <td>2.5</td>\n",
              "      <td>0.750000</td>\n",
              "      <td>0.666667</td>\n",
              "      <td>0.6</td>\n",
              "      <td>0.800</td>\n",
              "    </tr>\n",
              "    <tr>\n",
              "      <th>4</th>\n",
              "      <td>(Pao, Cafe)</td>\n",
              "      <td>(Manteiga)</td>\n",
              "      <td>0.3</td>\n",
              "      <td>0.5</td>\n",
              "      <td>0.3</td>\n",
              "      <td>1.0</td>\n",
              "      <td>2.0</td>\n",
              "      <td>1.0</td>\n",
              "      <td>0.15</td>\n",
              "      <td>inf</td>\n",
              "      <td>0.714286</td>\n",
              "      <td>0.600000</td>\n",
              "      <td>1.0</td>\n",
              "      <td>0.800</td>\n",
              "    </tr>\n",
              "    <tr>\n",
              "      <th>5</th>\n",
              "      <td>(Cafe, Manteiga)</td>\n",
              "      <td>(Pao)</td>\n",
              "      <td>0.3</td>\n",
              "      <td>0.5</td>\n",
              "      <td>0.3</td>\n",
              "      <td>1.0</td>\n",
              "      <td>2.0</td>\n",
              "      <td>1.0</td>\n",
              "      <td>0.15</td>\n",
              "      <td>inf</td>\n",
              "      <td>0.714286</td>\n",
              "      <td>0.600000</td>\n",
              "      <td>1.0</td>\n",
              "      <td>0.800</td>\n",
              "    </tr>\n",
              "    <tr>\n",
              "      <th>6</th>\n",
              "      <td>(Cafe)</td>\n",
              "      <td>(Pao, Manteiga)</td>\n",
              "      <td>0.3</td>\n",
              "      <td>0.4</td>\n",
              "      <td>0.3</td>\n",
              "      <td>1.0</td>\n",
              "      <td>2.5</td>\n",
              "      <td>1.0</td>\n",
              "      <td>0.18</td>\n",
              "      <td>inf</td>\n",
              "      <td>0.857143</td>\n",
              "      <td>0.750000</td>\n",
              "      <td>1.0</td>\n",
              "      <td>0.875</td>\n",
              "    </tr>\n",
              "  </tbody>\n",
              "</table>\n",
              "</div>"
            ],
            "text/plain": [
              "        antecedents      consequents  antecedent support  consequent support  \\\n",
              "0            (Cafe)       (Manteiga)                 0.3                 0.5   \n",
              "1            (Cafe)            (Pao)                 0.3                 0.5   \n",
              "2             (Pao)       (Manteiga)                 0.5                 0.5   \n",
              "3        (Manteiga)            (Pao)                 0.5                 0.5   \n",
              "4       (Pao, Cafe)       (Manteiga)                 0.3                 0.5   \n",
              "5  (Cafe, Manteiga)            (Pao)                 0.3                 0.5   \n",
              "6            (Cafe)  (Pao, Manteiga)                 0.3                 0.4   \n",
              "\n",
              "   support  confidence  lift  representativity  leverage  conviction  \\\n",
              "0      0.3         1.0   2.0               1.0      0.15         inf   \n",
              "1      0.3         1.0   2.0               1.0      0.15         inf   \n",
              "2      0.4         0.8   1.6               1.0      0.15         2.5   \n",
              "3      0.4         0.8   1.6               1.0      0.15         2.5   \n",
              "4      0.3         1.0   2.0               1.0      0.15         inf   \n",
              "5      0.3         1.0   2.0               1.0      0.15         inf   \n",
              "6      0.3         1.0   2.5               1.0      0.18         inf   \n",
              "\n",
              "   zhangs_metric   jaccard  certainty  kulczynski  \n",
              "0       0.714286  0.600000        1.0       0.800  \n",
              "1       0.714286  0.600000        1.0       0.800  \n",
              "2       0.750000  0.666667        0.6       0.800  \n",
              "3       0.750000  0.666667        0.6       0.800  \n",
              "4       0.714286  0.600000        1.0       0.800  \n",
              "5       0.714286  0.600000        1.0       0.800  \n",
              "6       0.857143  0.750000        1.0       0.875  "
            ]
          },
          "execution_count": 38,
          "metadata": {},
          "output_type": "execute_result"
        }
      ],
      "source": [
        "rules"
      ]
    },
    {
      "cell_type": "code",
      "execution_count": 39,
      "metadata": {},
      "outputs": [
        {
          "name": "stdout",
          "output_type": "stream",
          "text": [
            "\n",
            "Itemsets frequentes:\n",
            "   support               itemsets\n",
            "0      0.3                 (Cafe)\n",
            "1      0.5             (Manteiga)\n",
            "2      0.5                  (Pao)\n",
            "3      0.3       (Cafe, Manteiga)\n",
            "4      0.3            (Pao, Cafe)\n",
            "5      0.4        (Pao, Manteiga)\n",
            "6      0.3  (Pao, Cafe, Manteiga)\n"
          ]
        }
      ],
      "source": [
        "print(\"\\nItemsets frequentes:\")\n",
        "print(frequent_itemsets)"
      ]
    },
    {
      "cell_type": "code",
      "execution_count": 48,
      "metadata": {},
      "outputs": [
        {
          "name": "stdout",
          "output_type": "stream",
          "text": [
            "\n",
            "Regras de associação:\n",
            "        antecedents      consequents  support  confidence  leverage  certainty\n",
            "0            (Cafe)       (Manteiga)      0.3         1.0      0.15        1.0\n",
            "1            (Cafe)            (Pao)      0.3         1.0      0.15        1.0\n",
            "2             (Pao)       (Manteiga)      0.4         0.8      0.15        0.6\n",
            "3        (Manteiga)            (Pao)      0.4         0.8      0.15        0.6\n",
            "4       (Pao, Cafe)       (Manteiga)      0.3         1.0      0.15        1.0\n",
            "5  (Cafe, Manteiga)            (Pao)      0.3         1.0      0.15        1.0\n",
            "6            (Cafe)  (Pao, Manteiga)      0.3         1.0      0.18        1.0\n"
          ]
        }
      ],
      "source": [
        "print(\"\\nRegras de associação:\")\n",
        "print(rules[['antecedents', 'consequents', 'support', 'confidence', 'leverage', 'certainty']])"
      ]
    },
    {
      "cell_type": "code",
      "execution_count": null,
      "metadata": {},
      "outputs": [],
      "source": []
    }
  ],
  "metadata": {
    "colab": {
      "collapsed_sections": [],
      "provenance": []
    },
    "kernelspec": {
      "display_name": "Python 3",
      "name": "python3"
    },
    "language_info": {
      "codemirror_mode": {
        "name": "ipython",
        "version": 3
      },
      "file_extension": ".py",
      "mimetype": "text/x-python",
      "name": "python",
      "nbconvert_exporter": "python",
      "pygments_lexer": "ipython3",
      "version": "3.12.3"
    }
  },
  "nbformat": 4,
  "nbformat_minor": 0
}
