{
  "cells": [
    {
      "cell_type": "code",
      "execution_count": 37,
      "metadata": {
        "id": "m3d_ivF4Bcn5"
      },
      "outputs": [],
      "source": [
        "import pandas as pd\n",
        "from apyori import apriori"
      ]
    },
    {
      "cell_type": "code",
      "execution_count": 38,
      "metadata": {
        "colab": {
          "base_uri": "https://localhost:8080/",
          "height": 418
        },
        "id": "fGx34zCzBkw1",
        "outputId": "84e8d7ca-e1bd-4381-fc70-c2516778281b"
      },
      "outputs": [
        {
          "data": {
            "application/vnd.microsoft.datawrangler.viewer.v0+json": {
              "columns": [
                {
                  "name": "index",
                  "rawType": "int64",
                  "type": "integer"
                },
                {
                  "name": "0",
                  "rawType": "object",
                  "type": "unknown"
                },
                {
                  "name": "1",
                  "rawType": "object",
                  "type": "unknown"
                },
                {
                  "name": "2",
                  "rawType": "object",
                  "type": "unknown"
                },
                {
                  "name": "3",
                  "rawType": "object",
                  "type": "unknown"
                },
                {
                  "name": "4",
                  "rawType": "object",
                  "type": "unknown"
                },
                {
                  "name": "5",
                  "rawType": "object",
                  "type": "unknown"
                },
                {
                  "name": "6",
                  "rawType": "object",
                  "type": "unknown"
                }
              ],
              "conversionMethod": "pd.DataFrame",
              "ref": "241ab8f9-ca42-4f67-b97b-09f3711ec090",
              "rows": [
                [
                  "0",
                  null,
                  "Cafe",
                  null,
                  "Pao",
                  "Manteiga",
                  null,
                  null
                ],
                [
                  "1",
                  "Leite",
                  null,
                  "Cerveja",
                  "Pao",
                  "Manteiga",
                  null,
                  null
                ],
                [
                  "2",
                  null,
                  "Cafe",
                  null,
                  "Pao",
                  "Manteiga",
                  null,
                  null
                ],
                [
                  "3",
                  "Leite",
                  "Cafe",
                  null,
                  "Pao",
                  "Manteiga",
                  null,
                  null
                ],
                [
                  "4",
                  null,
                  null,
                  "Cerveja",
                  null,
                  null,
                  null,
                  null
                ],
                [
                  "5",
                  null,
                  null,
                  null,
                  null,
                  "Manteiga",
                  null,
                  null
                ],
                [
                  "6",
                  null,
                  null,
                  null,
                  "Pao",
                  null,
                  null,
                  null
                ],
                [
                  "7",
                  null,
                  null,
                  null,
                  null,
                  null,
                  null,
                  "Feijao"
                ],
                [
                  "8",
                  null,
                  null,
                  null,
                  null,
                  null,
                  "Arroz",
                  "Feijao"
                ],
                [
                  "9",
                  null,
                  null,
                  null,
                  null,
                  null,
                  "Arroz",
                  null
                ]
              ],
              "shape": {
                "columns": 7,
                "rows": 10
              }
            },
            "text/html": [
              "<div>\n",
              "<style scoped>\n",
              "    .dataframe tbody tr th:only-of-type {\n",
              "        vertical-align: middle;\n",
              "    }\n",
              "\n",
              "    .dataframe tbody tr th {\n",
              "        vertical-align: top;\n",
              "    }\n",
              "\n",
              "    .dataframe thead th {\n",
              "        text-align: right;\n",
              "    }\n",
              "</style>\n",
              "<table border=\"1\" class=\"dataframe\">\n",
              "  <thead>\n",
              "    <tr style=\"text-align: right;\">\n",
              "      <th></th>\n",
              "      <th>0</th>\n",
              "      <th>1</th>\n",
              "      <th>2</th>\n",
              "      <th>3</th>\n",
              "      <th>4</th>\n",
              "      <th>5</th>\n",
              "      <th>6</th>\n",
              "    </tr>\n",
              "  </thead>\n",
              "  <tbody>\n",
              "    <tr>\n",
              "      <th>0</th>\n",
              "      <td>NaN</td>\n",
              "      <td>Cafe</td>\n",
              "      <td>NaN</td>\n",
              "      <td>Pao</td>\n",
              "      <td>Manteiga</td>\n",
              "      <td>NaN</td>\n",
              "      <td>NaN</td>\n",
              "    </tr>\n",
              "    <tr>\n",
              "      <th>1</th>\n",
              "      <td>Leite</td>\n",
              "      <td>NaN</td>\n",
              "      <td>Cerveja</td>\n",
              "      <td>Pao</td>\n",
              "      <td>Manteiga</td>\n",
              "      <td>NaN</td>\n",
              "      <td>NaN</td>\n",
              "    </tr>\n",
              "    <tr>\n",
              "      <th>2</th>\n",
              "      <td>NaN</td>\n",
              "      <td>Cafe</td>\n",
              "      <td>NaN</td>\n",
              "      <td>Pao</td>\n",
              "      <td>Manteiga</td>\n",
              "      <td>NaN</td>\n",
              "      <td>NaN</td>\n",
              "    </tr>\n",
              "    <tr>\n",
              "      <th>3</th>\n",
              "      <td>Leite</td>\n",
              "      <td>Cafe</td>\n",
              "      <td>NaN</td>\n",
              "      <td>Pao</td>\n",
              "      <td>Manteiga</td>\n",
              "      <td>NaN</td>\n",
              "      <td>NaN</td>\n",
              "    </tr>\n",
              "    <tr>\n",
              "      <th>4</th>\n",
              "      <td>NaN</td>\n",
              "      <td>NaN</td>\n",
              "      <td>Cerveja</td>\n",
              "      <td>NaN</td>\n",
              "      <td>NaN</td>\n",
              "      <td>NaN</td>\n",
              "      <td>NaN</td>\n",
              "    </tr>\n",
              "    <tr>\n",
              "      <th>5</th>\n",
              "      <td>NaN</td>\n",
              "      <td>NaN</td>\n",
              "      <td>NaN</td>\n",
              "      <td>NaN</td>\n",
              "      <td>Manteiga</td>\n",
              "      <td>NaN</td>\n",
              "      <td>NaN</td>\n",
              "    </tr>\n",
              "    <tr>\n",
              "      <th>6</th>\n",
              "      <td>NaN</td>\n",
              "      <td>NaN</td>\n",
              "      <td>NaN</td>\n",
              "      <td>Pao</td>\n",
              "      <td>NaN</td>\n",
              "      <td>NaN</td>\n",
              "      <td>NaN</td>\n",
              "    </tr>\n",
              "    <tr>\n",
              "      <th>7</th>\n",
              "      <td>NaN</td>\n",
              "      <td>NaN</td>\n",
              "      <td>NaN</td>\n",
              "      <td>NaN</td>\n",
              "      <td>NaN</td>\n",
              "      <td>NaN</td>\n",
              "      <td>Feijao</td>\n",
              "    </tr>\n",
              "    <tr>\n",
              "      <th>8</th>\n",
              "      <td>NaN</td>\n",
              "      <td>NaN</td>\n",
              "      <td>NaN</td>\n",
              "      <td>NaN</td>\n",
              "      <td>NaN</td>\n",
              "      <td>Arroz</td>\n",
              "      <td>Feijao</td>\n",
              "    </tr>\n",
              "    <tr>\n",
              "      <th>9</th>\n",
              "      <td>NaN</td>\n",
              "      <td>NaN</td>\n",
              "      <td>NaN</td>\n",
              "      <td>NaN</td>\n",
              "      <td>NaN</td>\n",
              "      <td>Arroz</td>\n",
              "      <td>NaN</td>\n",
              "    </tr>\n",
              "  </tbody>\n",
              "</table>\n",
              "</div>"
            ],
            "text/plain": [
              "       0     1        2    3         4      5       6\n",
              "0    NaN  Cafe      NaN  Pao  Manteiga    NaN     NaN\n",
              "1  Leite   NaN  Cerveja  Pao  Manteiga    NaN     NaN\n",
              "2    NaN  Cafe      NaN  Pao  Manteiga    NaN     NaN\n",
              "3  Leite  Cafe      NaN  Pao  Manteiga    NaN     NaN\n",
              "4    NaN   NaN  Cerveja  NaN       NaN    NaN     NaN\n",
              "5    NaN   NaN      NaN  NaN  Manteiga    NaN     NaN\n",
              "6    NaN   NaN      NaN  Pao       NaN    NaN     NaN\n",
              "7    NaN   NaN      NaN  NaN       NaN    NaN  Feijao\n",
              "8    NaN   NaN      NaN  NaN       NaN  Arroz  Feijao\n",
              "9    NaN   NaN      NaN  NaN       NaN  Arroz     NaN"
            ]
          },
          "execution_count": 36,
          "metadata": {},
          "output_type": "execute_result"
        }
      ],
      "source": [
        "#encoding = \"cp1252\", encoding='utf-8', encoding='latin1'etc\n",
        "base= pd.read_csv('../bases/MercadoSim.csv', sep=';',header=None)\n",
        "base"
      ]
    },
    {
      "cell_type": "code",
      "execution_count": 39,
      "metadata": {
        "colab": {
          "base_uri": "https://localhost:8080/"
        },
        "id": "oIBsczbGCxWf",
        "outputId": "73984404-3585-4e7c-8d5e-e77c36f87e81"
      },
      "outputs": [
        {
          "data": {
            "text/plain": [
              "(10, 7)"
            ]
          },
          "execution_count": 37,
          "metadata": {},
          "output_type": "execute_result"
        }
      ],
      "source": [
        "base.shape"
      ]
    },
    {
      "cell_type": "markdown",
      "metadata": {
        "id": "cQyNolxV37tx"
      },
      "source": [
        "**Como estaremos treinando um modelo a priori, que recebe entradas em formato de lista, precisamos transformar o dataframe em uma lista de transações.**"
      ]
    },
    {
      "cell_type": "code",
      "execution_count": null,
      "metadata": {
        "id": "ZF8i0EdWCMjY"
      },
      "outputs": [],
      "source": [
        "transacoes = [] \n",
        "for i in range(len(base)):\n",
        "    transacoes.append([ str(base.values[i, j]) for j in range(base.shape[1]) if not pd.isna(base.values[i, j])])"
      ]
    },
    {
      "cell_type": "code",
      "execution_count": 41,
      "metadata": {},
      "outputs": [
        {
          "data": {
            "text/plain": [
              "[['Cafe', 'Pao', 'Manteiga'],\n",
              " ['Leite', 'Cerveja', 'Pao', 'Manteiga'],\n",
              " ['Cafe', 'Pao', 'Manteiga'],\n",
              " ['Leite', 'Cafe', 'Pao', 'Manteiga'],\n",
              " ['Cerveja'],\n",
              " ['Manteiga'],\n",
              " ['Pao'],\n",
              " ['Feijao'],\n",
              " ['Arroz', 'Feijao'],\n",
              " ['Arroz']]"
            ]
          },
          "execution_count": 41,
          "metadata": {},
          "output_type": "execute_result"
        }
      ],
      "source": [
        "transacoes"
      ]
    },
    {
      "cell_type": "code",
      "execution_count": 42,
      "metadata": {},
      "outputs": [],
      "source": [
        "todos_itens = set()\n",
        "for transacao in transacoes:\n",
        "    for item in transacao:\n",
        "        todos_itens.add(item)\n",
        "todos_itens = list(todos_itens)"
      ]
    },
    {
      "cell_type": "code",
      "execution_count": 43,
      "metadata": {},
      "outputs": [
        {
          "data": {
            "text/plain": [
              "['Cafe', 'Arroz', 'Feijao', 'Cerveja', 'Manteiga', 'Pao', 'Leite']"
            ]
          },
          "execution_count": 43,
          "metadata": {},
          "output_type": "execute_result"
        }
      ],
      "source": [
        "todos_itens"
      ]
    },
    {
      "cell_type": "code",
      "execution_count": 44,
      "metadata": {},
      "outputs": [],
      "source": [
        "transacoes_expandidas = []\n",
        "for transacao in transacoes:\n",
        "    transacao_expandida = transacao.copy()\n",
        "    for item in todos_itens:\n",
        "        if item not in transacao:\n",
        "            transacao_expandida.append(f\"NÃO_{item}\")\n",
        "    transacoes_expandidas.append(transacao_expandida)\n"
      ]
    },
    {
      "cell_type": "code",
      "execution_count": 45,
      "metadata": {},
      "outputs": [
        {
          "data": {
            "text/plain": [
              "['Arroz',\n",
              " 'NÃO_Cafe',\n",
              " 'NÃO_Feijao',\n",
              " 'NÃO_Cerveja',\n",
              " 'NÃO_Manteiga',\n",
              " 'NÃO_Pao',\n",
              " 'NÃO_Leite']"
            ]
          },
          "execution_count": 45,
          "metadata": {},
          "output_type": "execute_result"
        }
      ],
      "source": [
        "transacao_expandida"
      ]
    },
    {
      "cell_type": "markdown",
      "metadata": {
        "id": "ggzA0uJg_3Ns"
      },
      "source": [
        "**Vamos chamar executar o algoritmo apriori e armazenar as regras obtidas**"
      ]
    },
    {
      "cell_type": "code",
      "execution_count": 46,
      "metadata": {
        "colab": {
          "base_uri": "https://localhost:8080/"
        },
        "id": "DuX5YuabzqfQ",
        "outputId": "02c6a77b-140d-4d4c-c5ea-166abbcd7c8b"
      },
      "outputs": [
        {
          "data": {
            "text/plain": [
              "117"
            ]
          },
          "execution_count": 40,
          "metadata": {},
          "output_type": "execute_result"
        }
      ],
      "source": [
        "regras = apriori(transacoes_expandidas, min_support=0.3, min_confidence=0.8)\n",
        "saida = list(regras)\n",
        "len(saida)"
      ]
    },
    {
      "cell_type": "markdown",
      "metadata": {
        "id": "soknidg94a2y"
      },
      "source": [
        "**Para facilitar a visualização, veja como transformar isso em um dataframe** \n",
        "\n",
        "Extraído de:\n",
        "\n",
        "https://www.section.io/engineering-education/apriori-algorithm-in-python/\n",
        "\n",
        "https://splunktool.com/understanding-apyoris-output"
      ]
    },
    {
      "cell_type": "code",
      "execution_count": 47,
      "metadata": {},
      "outputs": [
        {
          "name": "stdout",
          "output_type": "stream",
          "text": [
            "Itemsets gerados com seus respectivos suportes:\n",
            "                                               Itemset  Suporte\n",
            "0                                          [não_Arroz]      0.8\n",
            "1                                        [não_Cerveja]      0.8\n",
            "2                                         [não_Feijao]      0.8\n",
            "3                                          [não_Leite]      0.8\n",
            "4                                     [Cafe, Manteiga]      0.3\n",
            "..                                                 ...      ...\n",
            "112  [Pao, não_Feijao, não_Cerveja, Manteiga, não_A...      0.3\n",
            "113  [não_Leite, não_Feijao, não_Cerveja, Manteiga,...      0.3\n",
            "114  [não_Leite, Pao, não_Feijao, não_Cerveja, não_...      0.3\n",
            "115  [não_Leite, não_Manteiga, não_Cerveja, não_Pao...      0.3\n",
            "116  [Pao, não_Feijao, não_Cerveja, Manteiga, Cafe,...      0.3\n",
            "\n",
            "[117 rows x 2 columns]\n"
          ]
        }
      ],
      "source": [
        "itemsets_com_suporte = []\n",
        "for resultado in saida:\n",
        "    itemset = list(resultado[0]) \n",
        "    suporte = resultado[1]        \n",
        "    itemsets_com_suporte.append((itemset, suporte))\n",
        "\n",
        "df_itemsets = pd.DataFrame(itemsets_com_suporte, columns=['Itemset', 'Suporte'])\n",
        "\n",
        "#df_itemsets = df_itemsets.sort_values(by='Suporte', ascending=False)\n",
        "\n",
        "print(\"Itemsets gerados com seus respectivos suportes:\")\n",
        "print(df_itemsets)"
      ]
    },
    {
      "cell_type": "code",
      "execution_count": 48,
      "metadata": {},
      "outputs": [
        {
          "data": {
            "application/vnd.microsoft.datawrangler.viewer.v0+json": {
              "columns": [
                {
                  "name": "index",
                  "rawType": "int64",
                  "type": "integer"
                },
                {
                  "name": "Itemset",
                  "rawType": "object",
                  "type": "unknown"
                },
                {
                  "name": "Suporte",
                  "rawType": "float64",
                  "type": "float"
                }
              ],
              "conversionMethod": "pd.DataFrame",
              "ref": "8ef36ddc-8153-4966-ba2a-d674fa230a03",
              "rows": [
                [
                  "0",
                  "['não_Arroz']",
                  "0.8"
                ],
                [
                  "1",
                  "['não_Cerveja']",
                  "0.8"
                ],
                [
                  "2",
                  "['não_Feijao']",
                  "0.8"
                ],
                [
                  "3",
                  "['não_Leite']",
                  "0.8"
                ],
                [
                  "4",
                  "['Cafe', 'Manteiga']",
                  "0.3"
                ],
                [
                  "5",
                  "['Cafe', 'Pao']",
                  "0.3"
                ],
                [
                  "6",
                  "['Cafe', 'não_Arroz']",
                  "0.3"
                ],
                [
                  "7",
                  "['Cafe', 'não_Cerveja']",
                  "0.3"
                ],
                [
                  "8",
                  "['Cafe', 'não_Feijao']",
                  "0.3"
                ],
                [
                  "9",
                  "['Manteiga', 'Pao']",
                  "0.4"
                ],
                [
                  "10",
                  "['não_Arroz', 'Manteiga']",
                  "0.5"
                ],
                [
                  "11",
                  "['não_Cerveja', 'Manteiga']",
                  "0.4"
                ],
                [
                  "12",
                  "['Manteiga', 'não_Feijao']",
                  "0.5"
                ],
                [
                  "13",
                  "['não_Arroz', 'Pao']",
                  "0.5"
                ],
                [
                  "14",
                  "['não_Cerveja', 'Pao']",
                  "0.4"
                ],
                [
                  "15",
                  "['Pao', 'não_Feijao']",
                  "0.5"
                ],
                [
                  "16",
                  "['não_Arroz', 'não_Feijao']",
                  "0.7"
                ],
                [
                  "17",
                  "['não_Cafe', 'não_Leite']",
                  "0.6"
                ],
                [
                  "18",
                  "['não_Manteiga', 'não_Cafe']",
                  "0.5"
                ],
                [
                  "19",
                  "['não_Pao', 'não_Cafe']",
                  "0.5"
                ],
                [
                  "20",
                  "['não_Cerveja', 'não_Leite']",
                  "0.7"
                ],
                [
                  "21",
                  "['não_Manteiga', 'não_Cerveja']",
                  "0.4"
                ],
                [
                  "22",
                  "['não_Pao', 'não_Cerveja']",
                  "0.4"
                ],
                [
                  "23",
                  "['não_Manteiga', 'não_Leite']",
                  "0.5"
                ],
                [
                  "24",
                  "['não_Pao', 'não_Leite']",
                  "0.5"
                ],
                [
                  "25",
                  "['não_Pao', 'não_Manteiga']",
                  "0.4"
                ],
                [
                  "26",
                  "['Cafe', 'Manteiga', 'Pao']",
                  "0.3"
                ],
                [
                  "27",
                  "['Cafe', 'não_Arroz', 'Manteiga']",
                  "0.3"
                ],
                [
                  "28",
                  "['Cafe', 'não_Cerveja', 'Manteiga']",
                  "0.3"
                ],
                [
                  "29",
                  "['Cafe', 'Manteiga', 'não_Feijao']",
                  "0.3"
                ],
                [
                  "30",
                  "['Cafe', 'não_Arroz', 'Pao']",
                  "0.3"
                ],
                [
                  "31",
                  "['Cafe', 'não_Cerveja', 'Pao']",
                  "0.3"
                ],
                [
                  "32",
                  "['Cafe', 'Pao', 'não_Feijao']",
                  "0.3"
                ],
                [
                  "33",
                  "['Cafe', 'não_Cerveja', 'não_Arroz']",
                  "0.3"
                ],
                [
                  "34",
                  "['Cafe', 'não_Arroz', 'não_Feijao']",
                  "0.3"
                ],
                [
                  "35",
                  "['Cafe', 'não_Cerveja', 'não_Feijao']",
                  "0.3"
                ],
                [
                  "36",
                  "['não_Arroz', 'Manteiga', 'Pao']",
                  "0.4"
                ],
                [
                  "37",
                  "['Manteiga', 'Pao', 'não_Feijao']",
                  "0.4"
                ],
                [
                  "38",
                  "['não_Cerveja', 'não_Arroz', 'Manteiga']",
                  "0.4"
                ],
                [
                  "39",
                  "['não_Arroz', 'Manteiga', 'não_Feijao']",
                  "0.5"
                ],
                [
                  "40",
                  "['não_Arroz', 'Manteiga', 'não_Leite']",
                  "0.3"
                ],
                [
                  "41",
                  "['não_Cerveja', 'Manteiga', 'não_Feijao']",
                  "0.4"
                ],
                [
                  "42",
                  "['não_Cerveja', 'Manteiga', 'não_Leite']",
                  "0.3"
                ],
                [
                  "43",
                  "['Manteiga', 'não_Leite', 'não_Feijao']",
                  "0.3"
                ],
                [
                  "44",
                  "['não_Cerveja', 'não_Arroz', 'Pao']",
                  "0.4"
                ],
                [
                  "45",
                  "['não_Arroz', 'Pao', 'não_Feijao']",
                  "0.5"
                ],
                [
                  "46",
                  "['não_Arroz', 'não_Leite', 'Pao']",
                  "0.3"
                ],
                [
                  "47",
                  "['não_Cerveja', 'Pao', 'não_Feijao']",
                  "0.4"
                ],
                [
                  "48",
                  "['não_Cerveja', 'não_Leite', 'Pao']",
                  "0.3"
                ],
                [
                  "49",
                  "['não_Leite', 'Pao', 'não_Feijao']",
                  "0.3"
                ]
              ],
              "shape": {
                "columns": 2,
                "rows": 117
              }
            },
            "text/html": [
              "<div>\n",
              "<style scoped>\n",
              "    .dataframe tbody tr th:only-of-type {\n",
              "        vertical-align: middle;\n",
              "    }\n",
              "\n",
              "    .dataframe tbody tr th {\n",
              "        vertical-align: top;\n",
              "    }\n",
              "\n",
              "    .dataframe thead th {\n",
              "        text-align: right;\n",
              "    }\n",
              "</style>\n",
              "<table border=\"1\" class=\"dataframe\">\n",
              "  <thead>\n",
              "    <tr style=\"text-align: right;\">\n",
              "      <th></th>\n",
              "      <th>Itemset</th>\n",
              "      <th>Suporte</th>\n",
              "    </tr>\n",
              "  </thead>\n",
              "  <tbody>\n",
              "    <tr>\n",
              "      <th>0</th>\n",
              "      <td>[não_Arroz]</td>\n",
              "      <td>0.8</td>\n",
              "    </tr>\n",
              "    <tr>\n",
              "      <th>1</th>\n",
              "      <td>[não_Cerveja]</td>\n",
              "      <td>0.8</td>\n",
              "    </tr>\n",
              "    <tr>\n",
              "      <th>2</th>\n",
              "      <td>[não_Feijao]</td>\n",
              "      <td>0.8</td>\n",
              "    </tr>\n",
              "    <tr>\n",
              "      <th>3</th>\n",
              "      <td>[não_Leite]</td>\n",
              "      <td>0.8</td>\n",
              "    </tr>\n",
              "    <tr>\n",
              "      <th>4</th>\n",
              "      <td>[Cafe, Manteiga]</td>\n",
              "      <td>0.3</td>\n",
              "    </tr>\n",
              "    <tr>\n",
              "      <th>...</th>\n",
              "      <td>...</td>\n",
              "      <td>...</td>\n",
              "    </tr>\n",
              "    <tr>\n",
              "      <th>112</th>\n",
              "      <td>[Pao, não_Feijao, não_Cerveja, Manteiga, não_A...</td>\n",
              "      <td>0.3</td>\n",
              "    </tr>\n",
              "    <tr>\n",
              "      <th>113</th>\n",
              "      <td>[não_Leite, não_Feijao, não_Cerveja, Manteiga,...</td>\n",
              "      <td>0.3</td>\n",
              "    </tr>\n",
              "    <tr>\n",
              "      <th>114</th>\n",
              "      <td>[não_Leite, Pao, não_Feijao, não_Cerveja, não_...</td>\n",
              "      <td>0.3</td>\n",
              "    </tr>\n",
              "    <tr>\n",
              "      <th>115</th>\n",
              "      <td>[não_Leite, não_Manteiga, não_Cerveja, não_Pao...</td>\n",
              "      <td>0.3</td>\n",
              "    </tr>\n",
              "    <tr>\n",
              "      <th>116</th>\n",
              "      <td>[Pao, não_Feijao, não_Cerveja, Manteiga, Cafe,...</td>\n",
              "      <td>0.3</td>\n",
              "    </tr>\n",
              "  </tbody>\n",
              "</table>\n",
              "<p>117 rows × 2 columns</p>\n",
              "</div>"
            ],
            "text/plain": [
              "                                               Itemset  Suporte\n",
              "0                                          [não_Arroz]      0.8\n",
              "1                                        [não_Cerveja]      0.8\n",
              "2                                         [não_Feijao]      0.8\n",
              "3                                          [não_Leite]      0.8\n",
              "4                                     [Cafe, Manteiga]      0.3\n",
              "..                                                 ...      ...\n",
              "112  [Pao, não_Feijao, não_Cerveja, Manteiga, não_A...      0.3\n",
              "113  [não_Leite, não_Feijao, não_Cerveja, Manteiga,...      0.3\n",
              "114  [não_Leite, Pao, não_Feijao, não_Cerveja, não_...      0.3\n",
              "115  [não_Leite, não_Manteiga, não_Cerveja, não_Pao...      0.3\n",
              "116  [Pao, não_Feijao, não_Cerveja, Manteiga, Cafe,...      0.3\n",
              "\n",
              "[117 rows x 2 columns]"
            ]
          },
          "execution_count": 42,
          "metadata": {},
          "output_type": "execute_result"
        }
      ],
      "source": [
        "df_itemsets"
      ]
    },
    {
      "cell_type": "code",
      "execution_count": 49,
      "metadata": {
        "id": "UWDno2uo4aL0"
      },
      "outputs": [],
      "source": [
        "lhs = []\n",
        "rhs = []\n",
        "suporte = []\n",
        "confianca = []\n",
        "lift = []\n",
        "\n",
        "for resultado in saida:\n",
        "    s = resultado[1]\n",
        "    result_rules = resultado[2]\n",
        "    for result_rule in result_rules:\n",
        "        a = list(result_rule[0])\n",
        "        b = list(result_rule[1])\n",
        "        c = result_rule[2]\n",
        "        l = result_rule[3]\n",
        "        \n",
        "        # Filtrar para incluir apenas regras que envolvem ausência de itens\n",
        "        if any(item.startswith(\"NÃO_\") for item in a + b):\n",
        "            lhs.append(a)\n",
        "            rhs.append(b)\n",
        "            suporte.append(s)\n",
        "            confianca.append(c)\n",
        "            lift.append(l)\n",
        "\n",
        "# Criar DataFrame com as regras\n",
        "RegrasFinais = pd.DataFrame({\n",
        "    'Lhs': lhs,\n",
        "    'Rhs': rhs,\n",
        "    'suporte': suporte,\n",
        "    'confianca': confianca,\n",
        "    'lift': lift\n",
        "})\n",
        "\n",
        "RegrasFinais = RegrasFinais[\n",
        "    (RegrasFinais['lift'] != 1.0) &  # Remove lift neutro\n",
        "    (RegrasFinais['Lhs'].apply(len) > 1)  # Mantém apenas regras com combinações de itens\n",
        "]"
      ]
    },
    {
      "cell_type": "code",
      "execution_count": 50,
      "metadata": {
        "colab": {
          "base_uri": "https://localhost:8080/",
          "height": 959
        },
        "id": "QW7wcZbe431-",
        "outputId": "4034cc1b-c464-498d-e722-0acd0f868550"
      },
      "outputs": [
        {
          "data": {
            "application/vnd.microsoft.datawrangler.viewer.v0+json": {
              "columns": [
                {
                  "name": "index",
                  "rawType": "int64",
                  "type": "integer"
                },
                {
                  "name": "Lhs",
                  "rawType": "object",
                  "type": "unknown"
                },
                {
                  "name": "Rhs",
                  "rawType": "object",
                  "type": "unknown"
                },
                {
                  "name": "suporte",
                  "rawType": "float64",
                  "type": "float"
                },
                {
                  "name": "confianca",
                  "rawType": "float64",
                  "type": "float"
                },
                {
                  "name": "lift",
                  "rawType": "float64",
                  "type": "float"
                }
              ],
              "conversionMethod": "pd.DataFrame",
              "ref": "1529674d-e284-42e9-9b9a-605d8e2d4533",
              "rows": [
                [
                  "0",
                  "[]",
                  "['não_Arroz']",
                  "0.8",
                  "0.8",
                  "1.0"
                ],
                [
                  "1",
                  "[]",
                  "['não_Cerveja']",
                  "0.8",
                  "0.8",
                  "1.0"
                ],
                [
                  "2",
                  "[]",
                  "['não_Feijao']",
                  "0.8",
                  "0.8",
                  "1.0"
                ],
                [
                  "3",
                  "[]",
                  "['não_Leite']",
                  "0.8",
                  "0.8",
                  "1.0"
                ],
                [
                  "6",
                  "['Cafe']",
                  "['não_Arroz']",
                  "0.3",
                  "1.0",
                  "1.25"
                ],
                [
                  "7",
                  "['Cafe']",
                  "['não_Cerveja']",
                  "0.3",
                  "1.0",
                  "1.25"
                ],
                [
                  "8",
                  "['Cafe']",
                  "['não_Feijao']",
                  "0.3",
                  "1.0",
                  "1.25"
                ],
                [
                  "11",
                  "['Manteiga']",
                  "['não_Arroz']",
                  "0.5",
                  "1.0",
                  "1.25"
                ],
                [
                  "12",
                  "['Manteiga']",
                  "['não_Cerveja']",
                  "0.4",
                  "0.8",
                  "1.0"
                ],
                [
                  "13",
                  "['Manteiga']",
                  "['não_Feijao']",
                  "0.5",
                  "1.0",
                  "1.25"
                ],
                [
                  "14",
                  "['Pao']",
                  "['não_Arroz']",
                  "0.5",
                  "1.0",
                  "1.25"
                ],
                [
                  "15",
                  "['Pao']",
                  "['não_Cerveja']",
                  "0.4",
                  "0.8",
                  "1.0"
                ],
                [
                  "16",
                  "['Pao']",
                  "['não_Feijao']",
                  "0.5",
                  "1.0",
                  "1.25"
                ],
                [
                  "17",
                  "['não_Arroz']",
                  "['não_Feijao']",
                  "0.7",
                  "0.8749999999999999",
                  "1.0937499999999998"
                ],
                [
                  "18",
                  "['não_Feijao']",
                  "['não_Arroz']",
                  "0.7",
                  "0.8749999999999999",
                  "1.0937499999999998"
                ],
                [
                  "19",
                  "['não_Cafe']",
                  "['não_Leite']",
                  "0.6",
                  "0.8571428571428572",
                  "1.0714285714285714"
                ],
                [
                  "20",
                  "['não_Manteiga']",
                  "['não_Cafe']",
                  "0.5",
                  "1.0",
                  "1.4285714285714286"
                ],
                [
                  "21",
                  "['não_Pao']",
                  "['não_Cafe']",
                  "0.5",
                  "1.0",
                  "1.4285714285714286"
                ],
                [
                  "22",
                  "['não_Cerveja']",
                  "['não_Leite']",
                  "0.7",
                  "0.8749999999999999",
                  "1.0937499999999998"
                ],
                [
                  "23",
                  "['não_Leite']",
                  "['não_Cerveja']",
                  "0.7",
                  "0.8749999999999999",
                  "1.0937499999999998"
                ],
                [
                  "24",
                  "['não_Manteiga']",
                  "['não_Cerveja']",
                  "0.4",
                  "0.8",
                  "1.0"
                ],
                [
                  "25",
                  "['não_Pao']",
                  "['não_Cerveja']",
                  "0.4",
                  "0.8",
                  "1.0"
                ],
                [
                  "26",
                  "['não_Manteiga']",
                  "['não_Leite']",
                  "0.5",
                  "1.0",
                  "1.25"
                ],
                [
                  "27",
                  "['não_Pao']",
                  "['não_Leite']",
                  "0.5",
                  "1.0",
                  "1.25"
                ],
                [
                  "28",
                  "['não_Manteiga']",
                  "['não_Pao']",
                  "0.4",
                  "0.8",
                  "1.6"
                ],
                [
                  "29",
                  "['não_Pao']",
                  "['não_Manteiga']",
                  "0.4",
                  "0.8",
                  "1.6"
                ],
                [
                  "33",
                  "['Cafe']",
                  "['não_Arroz', 'Manteiga']",
                  "0.3",
                  "1.0",
                  "2.0"
                ],
                [
                  "34",
                  "['Cafe', 'Manteiga']",
                  "['não_Arroz']",
                  "0.3",
                  "1.0",
                  "1.25"
                ],
                [
                  "35",
                  "['Cafe', 'não_Arroz']",
                  "['Manteiga']",
                  "0.3",
                  "1.0",
                  "2.0"
                ],
                [
                  "36",
                  "['Cafe']",
                  "['não_Cerveja', 'Manteiga']",
                  "0.3",
                  "1.0",
                  "2.5"
                ],
                [
                  "37",
                  "['Cafe', 'Manteiga']",
                  "['não_Cerveja']",
                  "0.3",
                  "1.0",
                  "1.25"
                ],
                [
                  "38",
                  "['Cafe', 'não_Cerveja']",
                  "['Manteiga']",
                  "0.3",
                  "1.0",
                  "2.0"
                ],
                [
                  "39",
                  "['Cafe']",
                  "['Manteiga', 'não_Feijao']",
                  "0.3",
                  "1.0",
                  "2.0"
                ],
                [
                  "40",
                  "['Cafe', 'Manteiga']",
                  "['não_Feijao']",
                  "0.3",
                  "1.0",
                  "1.25"
                ],
                [
                  "41",
                  "['Cafe', 'não_Feijao']",
                  "['Manteiga']",
                  "0.3",
                  "1.0",
                  "2.0"
                ],
                [
                  "42",
                  "['Cafe']",
                  "['não_Arroz', 'Pao']",
                  "0.3",
                  "1.0",
                  "2.0"
                ],
                [
                  "43",
                  "['Cafe', 'Pao']",
                  "['não_Arroz']",
                  "0.3",
                  "1.0",
                  "1.25"
                ],
                [
                  "44",
                  "['Cafe', 'não_Arroz']",
                  "['Pao']",
                  "0.3",
                  "1.0",
                  "2.0"
                ],
                [
                  "45",
                  "['Cafe']",
                  "['não_Cerveja', 'Pao']",
                  "0.3",
                  "1.0",
                  "2.5"
                ],
                [
                  "46",
                  "['Cafe', 'Pao']",
                  "['não_Cerveja']",
                  "0.3",
                  "1.0",
                  "1.25"
                ],
                [
                  "47",
                  "['Cafe', 'não_Cerveja']",
                  "['Pao']",
                  "0.3",
                  "1.0",
                  "2.0"
                ],
                [
                  "48",
                  "['Cafe']",
                  "['Pao', 'não_Feijao']",
                  "0.3",
                  "1.0",
                  "2.0"
                ],
                [
                  "49",
                  "['Cafe', 'Pao']",
                  "['não_Feijao']",
                  "0.3",
                  "1.0",
                  "1.25"
                ],
                [
                  "50",
                  "['Cafe', 'não_Feijao']",
                  "['Pao']",
                  "0.3",
                  "1.0",
                  "2.0"
                ],
                [
                  "51",
                  "['Cafe']",
                  "['não_Arroz', 'não_Cerveja']",
                  "0.3",
                  "1.0",
                  "1.6666666666666667"
                ],
                [
                  "52",
                  "['Cafe', 'não_Arroz']",
                  "['não_Cerveja']",
                  "0.3",
                  "1.0",
                  "1.25"
                ],
                [
                  "53",
                  "['Cafe', 'não_Cerveja']",
                  "['não_Arroz']",
                  "0.3",
                  "1.0",
                  "1.25"
                ],
                [
                  "54",
                  "['Cafe']",
                  "['não_Arroz', 'não_Feijao']",
                  "0.3",
                  "1.0",
                  "1.4285714285714286"
                ],
                [
                  "55",
                  "['Cafe', 'não_Arroz']",
                  "['não_Feijao']",
                  "0.3",
                  "1.0",
                  "1.25"
                ],
                [
                  "56",
                  "['Cafe', 'não_Feijao']",
                  "['não_Arroz']",
                  "0.3",
                  "1.0",
                  "1.25"
                ]
              ],
              "shape": {
                "columns": 5,
                "rows": 442
              }
            },
            "text/html": [
              "<div>\n",
              "<style scoped>\n",
              "    .dataframe tbody tr th:only-of-type {\n",
              "        vertical-align: middle;\n",
              "    }\n",
              "\n",
              "    .dataframe tbody tr th {\n",
              "        vertical-align: top;\n",
              "    }\n",
              "\n",
              "    .dataframe thead th {\n",
              "        text-align: right;\n",
              "    }\n",
              "</style>\n",
              "<table border=\"1\" class=\"dataframe\">\n",
              "  <thead>\n",
              "    <tr style=\"text-align: right;\">\n",
              "      <th></th>\n",
              "      <th>Lhs</th>\n",
              "      <th>Rhs</th>\n",
              "      <th>suporte</th>\n",
              "      <th>confianca</th>\n",
              "      <th>lift</th>\n",
              "    </tr>\n",
              "  </thead>\n",
              "  <tbody>\n",
              "    <tr>\n",
              "      <th>0</th>\n",
              "      <td>[]</td>\n",
              "      <td>[não_Arroz]</td>\n",
              "      <td>0.8</td>\n",
              "      <td>0.8</td>\n",
              "      <td>1.000000</td>\n",
              "    </tr>\n",
              "    <tr>\n",
              "      <th>1</th>\n",
              "      <td>[]</td>\n",
              "      <td>[não_Cerveja]</td>\n",
              "      <td>0.8</td>\n",
              "      <td>0.8</td>\n",
              "      <td>1.000000</td>\n",
              "    </tr>\n",
              "    <tr>\n",
              "      <th>2</th>\n",
              "      <td>[]</td>\n",
              "      <td>[não_Feijao]</td>\n",
              "      <td>0.8</td>\n",
              "      <td>0.8</td>\n",
              "      <td>1.000000</td>\n",
              "    </tr>\n",
              "    <tr>\n",
              "      <th>3</th>\n",
              "      <td>[]</td>\n",
              "      <td>[não_Leite]</td>\n",
              "      <td>0.8</td>\n",
              "      <td>0.8</td>\n",
              "      <td>1.000000</td>\n",
              "    </tr>\n",
              "    <tr>\n",
              "      <th>6</th>\n",
              "      <td>[Cafe]</td>\n",
              "      <td>[não_Arroz]</td>\n",
              "      <td>0.3</td>\n",
              "      <td>1.0</td>\n",
              "      <td>1.250000</td>\n",
              "    </tr>\n",
              "    <tr>\n",
              "      <th>...</th>\n",
              "      <td>...</td>\n",
              "      <td>...</td>\n",
              "      <td>...</td>\n",
              "      <td>...</td>\n",
              "      <td>...</td>\n",
              "    </tr>\n",
              "    <tr>\n",
              "      <th>444</th>\n",
              "      <td>[Pao, não_Feijao, Manteiga, Cafe, não_Arroz]</td>\n",
              "      <td>[não_Cerveja]</td>\n",
              "      <td>0.3</td>\n",
              "      <td>1.0</td>\n",
              "      <td>1.250000</td>\n",
              "    </tr>\n",
              "    <tr>\n",
              "      <th>445</th>\n",
              "      <td>[Pao, não_Feijao, não_Cerveja, Manteiga, Cafe]</td>\n",
              "      <td>[não_Arroz]</td>\n",
              "      <td>0.3</td>\n",
              "      <td>1.0</td>\n",
              "      <td>1.250000</td>\n",
              "    </tr>\n",
              "    <tr>\n",
              "      <th>446</th>\n",
              "      <td>[não_Feijao, não_Cerveja, Manteiga, Cafe, não_...</td>\n",
              "      <td>[Pao]</td>\n",
              "      <td>0.3</td>\n",
              "      <td>1.0</td>\n",
              "      <td>2.000000</td>\n",
              "    </tr>\n",
              "    <tr>\n",
              "      <th>447</th>\n",
              "      <td>[Pao, não_Feijao, não_Cerveja, Cafe, não_Arroz]</td>\n",
              "      <td>[Manteiga]</td>\n",
              "      <td>0.3</td>\n",
              "      <td>1.0</td>\n",
              "      <td>2.000000</td>\n",
              "    </tr>\n",
              "    <tr>\n",
              "      <th>448</th>\n",
              "      <td>[Pao, não_Feijao, não_Cerveja, Manteiga, não_A...</td>\n",
              "      <td>[Cafe]</td>\n",
              "      <td>0.3</td>\n",
              "      <td>1.0</td>\n",
              "      <td>3.333333</td>\n",
              "    </tr>\n",
              "  </tbody>\n",
              "</table>\n",
              "<p>442 rows × 5 columns</p>\n",
              "</div>"
            ],
            "text/plain": [
              "                                                   Lhs            Rhs  \\\n",
              "0                                                   []    [não_Arroz]   \n",
              "1                                                   []  [não_Cerveja]   \n",
              "2                                                   []   [não_Feijao]   \n",
              "3                                                   []    [não_Leite]   \n",
              "6                                               [Cafe]    [não_Arroz]   \n",
              "..                                                 ...            ...   \n",
              "444       [Pao, não_Feijao, Manteiga, Cafe, não_Arroz]  [não_Cerveja]   \n",
              "445     [Pao, não_Feijao, não_Cerveja, Manteiga, Cafe]    [não_Arroz]   \n",
              "446  [não_Feijao, não_Cerveja, Manteiga, Cafe, não_...          [Pao]   \n",
              "447    [Pao, não_Feijao, não_Cerveja, Cafe, não_Arroz]     [Manteiga]   \n",
              "448  [Pao, não_Feijao, não_Cerveja, Manteiga, não_A...         [Cafe]   \n",
              "\n",
              "     suporte  confianca      lift  \n",
              "0        0.8        0.8  1.000000  \n",
              "1        0.8        0.8  1.000000  \n",
              "2        0.8        0.8  1.000000  \n",
              "3        0.8        0.8  1.000000  \n",
              "6        0.3        1.0  1.250000  \n",
              "..       ...        ...       ...  \n",
              "444      0.3        1.0  1.250000  \n",
              "445      0.3        1.0  1.250000  \n",
              "446      0.3        1.0  2.000000  \n",
              "447      0.3        1.0  2.000000  \n",
              "448      0.3        1.0  3.333333  \n",
              "\n",
              "[442 rows x 5 columns]"
            ]
          },
          "execution_count": 44,
          "metadata": {},
          "output_type": "execute_result"
        }
      ],
      "source": [
        "RegrasFinais"
      ]
    },
    {
      "cell_type": "markdown",
      "metadata": {
        "id": "DJUXykHjhbJ0"
      },
      "source": [
        "**Podemos ordenar estas regras por uma métrica desejada**"
      ]
    },
    {
      "cell_type": "code",
      "execution_count": 51,
      "metadata": {
        "colab": {
          "base_uri": "https://localhost:8080/",
          "height": 959
        },
        "id": "A7X_YwVHhaxf",
        "outputId": "95d4e72b-cfa5-4bba-b5fa-e0f0ae8da836"
      },
      "outputs": [
        {
          "data": {
            "application/vnd.microsoft.datawrangler.viewer.v0+json": {
              "columns": [
                {
                  "name": "index",
                  "rawType": "int64",
                  "type": "integer"
                },
                {
                  "name": "Lhs",
                  "rawType": "object",
                  "type": "unknown"
                },
                {
                  "name": "Rhs",
                  "rawType": "object",
                  "type": "unknown"
                },
                {
                  "name": "suporte",
                  "rawType": "float64",
                  "type": "float"
                },
                {
                  "name": "confianca",
                  "rawType": "float64",
                  "type": "float"
                },
                {
                  "name": "lift",
                  "rawType": "float64",
                  "type": "float"
                }
              ],
              "conversionMethod": "pd.DataFrame",
              "ref": "5ca8dbdd-b1a1-456c-a2cc-295911729afe",
              "rows": [
                [
                  "448",
                  "['Pao', 'não_Feijao', 'não_Cerveja', 'Manteiga', 'não_Arroz']",
                  "['Cafe']",
                  "0.3",
                  "1.0",
                  "3.3333333333333335"
                ],
                [
                  "326",
                  "['não_Cerveja', 'Manteiga', 'Pao']",
                  "['Cafe', 'não_Arroz']",
                  "0.3",
                  "1.0",
                  "3.3333333333333335"
                ],
                [
                  "358",
                  "['não_Cerveja', 'Manteiga', 'Pao']",
                  "['Cafe', 'não_Feijao']",
                  "0.3",
                  "1.0",
                  "3.3333333333333335"
                ],
                [
                  "414",
                  "['Cafe']",
                  "['Pao', 'não_Feijao', 'não_Cerveja', 'Manteiga', 'não_Arroz']",
                  "0.3",
                  "1.0",
                  "3.3333333333333335"
                ],
                [
                  "162",
                  "['não_Cerveja', 'Manteiga', 'Pao']",
                  "['Cafe']",
                  "0.3",
                  "1.0",
                  "3.3333333333333335"
                ],
                [
                  "351",
                  "['Cafe', 'não_Feijao']",
                  "['não_Cerveja', 'Manteiga', 'Pao']",
                  "0.3",
                  "1.0",
                  "3.3333333333333335"
                ],
                [
                  "428",
                  "['Cafe', 'não_Arroz', 'não_Feijao']",
                  "['não_Cerveja', 'Manteiga', 'Pao']",
                  "0.3",
                  "1.0",
                  "3.3333333333333335"
                ],
                [
                  "430",
                  "['não_Cerveja', 'Manteiga', 'Pao']",
                  "['Cafe', 'não_Arroz', 'não_Feijao']",
                  "0.3",
                  "1.0",
                  "3.3333333333333335"
                ],
                [
                  "155",
                  "['Cafe']",
                  "['não_Cerveja', 'Manteiga', 'Pao']",
                  "0.3",
                  "1.0",
                  "3.3333333333333335"
                ],
                [
                  "347",
                  "['Cafe']",
                  "['não_Cerveja', 'Manteiga', 'Pao', 'não_Feijao']",
                  "0.3",
                  "1.0",
                  "3.3333333333333335"
                ],
                [
                  "419",
                  "['Cafe', 'não_Feijao']",
                  "['não_Arroz', 'não_Cerveja', 'Manteiga', 'Pao']",
                  "0.3",
                  "1.0",
                  "3.3333333333333335"
                ],
                [
                  "331",
                  "['não_Cerveja', 'não_Arroz', 'Manteiga', 'Pao']",
                  "['Cafe']",
                  "0.3",
                  "1.0",
                  "3.3333333333333335"
                ],
                [
                  "363",
                  "['não_Cerveja', 'Manteiga', 'Pao', 'não_Feijao']",
                  "['Cafe']",
                  "0.3",
                  "1.0",
                  "3.3333333333333335"
                ],
                [
                  "315",
                  "['Cafe']",
                  "['não_Arroz', 'não_Cerveja', 'Manteiga', 'Pao']",
                  "0.3",
                  "1.0",
                  "3.3333333333333335"
                ],
                [
                  "417",
                  "['Cafe', 'não_Arroz']",
                  "['não_Cerveja', 'Manteiga', 'Pao', 'não_Feijao']",
                  "0.3",
                  "1.0",
                  "3.3333333333333335"
                ],
                [
                  "441",
                  "['não_Cerveja', 'não_Arroz', 'Manteiga', 'Pao']",
                  "['Cafe', 'não_Feijao']",
                  "0.3",
                  "1.0",
                  "3.3333333333333335"
                ],
                [
                  "442",
                  "['não_Cerveja', 'Manteiga', 'Pao', 'não_Feijao']",
                  "['Cafe', 'não_Arroz']",
                  "0.3",
                  "1.0",
                  "3.3333333333333335"
                ],
                [
                  "318",
                  "['Cafe', 'não_Arroz']",
                  "['não_Cerveja', 'Manteiga', 'Pao']",
                  "0.3",
                  "1.0",
                  "3.3333333333333335"
                ],
                [
                  "368",
                  "['Cafe', 'não_Feijao']",
                  "['não_Arroz', 'não_Cerveja', 'Manteiga']",
                  "0.3",
                  "1.0",
                  "2.5"
                ],
                [
                  "163",
                  "['Cafe']",
                  "['Manteiga', 'Pao', 'não_Feijao']",
                  "0.3",
                  "1.0",
                  "2.5"
                ],
                [
                  "172",
                  "['Cafe', 'não_Arroz']",
                  "['não_Cerveja', 'Manteiga']",
                  "0.3",
                  "1.0",
                  "2.5"
                ],
                [
                  "170",
                  "['Cafe']",
                  "['não_Arroz', 'não_Cerveja', 'Manteiga']",
                  "0.3",
                  "1.0",
                  "2.5"
                ],
                [
                  "364",
                  "['Cafe']",
                  "['não_Arroz', 'não_Cerveja', 'Manteiga', 'não_Feijao']",
                  "0.3",
                  "1.0",
                  "2.5"
                ],
                [
                  "383",
                  "['Cafe', 'não_Feijao']",
                  "['não_Arroz', 'não_Cerveja', 'Pao']",
                  "0.3",
                  "1.0",
                  "2.5"
                ],
                [
                  "166",
                  "['Cafe', 'não_Feijao']",
                  "['Manteiga', 'Pao']",
                  "0.3",
                  "1.0",
                  "2.5"
                ],
                [
                  "379",
                  "['Cafe']",
                  "['não_Arroz', 'não_Cerveja', 'Pao', 'não_Feijao']",
                  "0.3",
                  "1.0",
                  "2.5"
                ],
                [
                  "381",
                  "['Cafe', 'não_Arroz']",
                  "['não_Cerveja', 'Pao', 'não_Feijao']",
                  "0.3",
                  "1.0",
                  "2.5"
                ],
                [
                  "373",
                  "['Cafe', 'não_Arroz', 'não_Feijao']",
                  "['não_Cerveja', 'Manteiga']",
                  "0.3",
                  "1.0",
                  "2.5"
                ],
                [
                  "157",
                  "['Cafe', 'Pao']",
                  "['não_Cerveja', 'Manteiga']",
                  "0.3",
                  "1.0",
                  "2.5"
                ],
                [
                  "156",
                  "['Cafe', 'Manteiga']",
                  "['não_Cerveja', 'Pao']",
                  "0.3",
                  "1.0",
                  "2.5"
                ],
                [
                  "184",
                  "['Cafe']",
                  "['não_Cerveja', 'Manteiga', 'não_Feijao']",
                  "0.3",
                  "1.0",
                  "2.5"
                ],
                [
                  "151",
                  "['Cafe', 'não_Arroz']",
                  "['Manteiga', 'Pao']",
                  "0.3",
                  "1.0",
                  "2.5"
                ],
                [
                  "148",
                  "['Cafe']",
                  "['não_Arroz', 'Manteiga', 'Pao']",
                  "0.3",
                  "1.0",
                  "2.5"
                ],
                [
                  "366",
                  "['Cafe', 'não_Arroz']",
                  "['não_Cerveja', 'Manteiga', 'não_Feijao']",
                  "0.3",
                  "1.0",
                  "2.5"
                ],
                [
                  "356",
                  "['Cafe', 'Pao', 'não_Feijao']",
                  "['não_Cerveja', 'Manteiga']",
                  "0.3",
                  "1.0",
                  "2.5"
                ],
                [
                  "187",
                  "['Cafe', 'não_Feijao']",
                  "['não_Cerveja', 'Manteiga']",
                  "0.3",
                  "1.0",
                  "2.5"
                ],
                [
                  "336",
                  "['Cafe', 'não_Feijao']",
                  "['não_Arroz', 'Manteiga', 'Pao']",
                  "0.3",
                  "1.0",
                  "2.5"
                ],
                [
                  "316",
                  "['Cafe', 'Manteiga']",
                  "['não_Arroz', 'não_Cerveja', 'Pao']",
                  "0.3",
                  "1.0",
                  "2.5"
                ],
                [
                  "317",
                  "['Cafe', 'Pao']",
                  "['não_Arroz', 'não_Cerveja', 'Manteiga']",
                  "0.3",
                  "1.0",
                  "2.5"
                ],
                [
                  "319",
                  "['Cafe', 'não_Cerveja']",
                  "['não_Arroz', 'Manteiga', 'Pao']",
                  "0.3",
                  "1.0",
                  "2.5"
                ],
                [
                  "321",
                  "['Cafe', 'não_Arroz', 'Manteiga']",
                  "['não_Cerveja', 'Pao']",
                  "0.3",
                  "1.0",
                  "2.5"
                ],
                [
                  "323",
                  "['Cafe', 'não_Arroz', 'Pao']",
                  "['não_Cerveja', 'Manteiga']",
                  "0.3",
                  "1.0",
                  "2.5"
                ],
                [
                  "325",
                  "['Cafe', 'não_Cerveja', 'não_Arroz']",
                  "['Manteiga', 'Pao']",
                  "0.3",
                  "1.0",
                  "2.5"
                ],
                [
                  "332",
                  "['Cafe']",
                  "['não_Arroz', 'Manteiga', 'Pao', 'não_Feijao']",
                  "0.3",
                  "1.0",
                  "2.5"
                ],
                [
                  "335",
                  "['Cafe', 'não_Arroz']",
                  "['Manteiga', 'Pao', 'não_Feijao']",
                  "0.3",
                  "1.0",
                  "2.5"
                ],
                [
                  "342",
                  "['Cafe', 'não_Arroz', 'não_Feijao']",
                  "['Manteiga', 'Pao']",
                  "0.3",
                  "1.0",
                  "2.5"
                ],
                [
                  "191",
                  "['Cafe']",
                  "['não_Arroz', 'não_Cerveja', 'Pao']",
                  "0.3",
                  "1.0",
                  "2.5"
                ],
                [
                  "348",
                  "['Cafe', 'Manteiga']",
                  "['não_Cerveja', 'Pao', 'não_Feijao']",
                  "0.3",
                  "1.0",
                  "2.5"
                ],
                [
                  "349",
                  "['Cafe', 'Pao']",
                  "['não_Cerveja', 'Manteiga', 'não_Feijao']",
                  "0.3",
                  "1.0",
                  "2.5"
                ],
                [
                  "350",
                  "['Cafe', 'não_Cerveja']",
                  "['Manteiga', 'Pao', 'não_Feijao']",
                  "0.3",
                  "1.0",
                  "2.5"
                ]
              ],
              "shape": {
                "columns": 5,
                "rows": 442
              }
            },
            "text/html": [
              "<div>\n",
              "<style scoped>\n",
              "    .dataframe tbody tr th:only-of-type {\n",
              "        vertical-align: middle;\n",
              "    }\n",
              "\n",
              "    .dataframe tbody tr th {\n",
              "        vertical-align: top;\n",
              "    }\n",
              "\n",
              "    .dataframe thead th {\n",
              "        text-align: right;\n",
              "    }\n",
              "</style>\n",
              "<table border=\"1\" class=\"dataframe\">\n",
              "  <thead>\n",
              "    <tr style=\"text-align: right;\">\n",
              "      <th></th>\n",
              "      <th>Lhs</th>\n",
              "      <th>Rhs</th>\n",
              "      <th>suporte</th>\n",
              "      <th>confianca</th>\n",
              "      <th>lift</th>\n",
              "    </tr>\n",
              "  </thead>\n",
              "  <tbody>\n",
              "    <tr>\n",
              "      <th>448</th>\n",
              "      <td>[Pao, não_Feijao, não_Cerveja, Manteiga, não_A...</td>\n",
              "      <td>[Cafe]</td>\n",
              "      <td>0.3</td>\n",
              "      <td>1.0</td>\n",
              "      <td>3.333333</td>\n",
              "    </tr>\n",
              "    <tr>\n",
              "      <th>326</th>\n",
              "      <td>[não_Cerveja, Manteiga, Pao]</td>\n",
              "      <td>[Cafe, não_Arroz]</td>\n",
              "      <td>0.3</td>\n",
              "      <td>1.0</td>\n",
              "      <td>3.333333</td>\n",
              "    </tr>\n",
              "    <tr>\n",
              "      <th>358</th>\n",
              "      <td>[não_Cerveja, Manteiga, Pao]</td>\n",
              "      <td>[Cafe, não_Feijao]</td>\n",
              "      <td>0.3</td>\n",
              "      <td>1.0</td>\n",
              "      <td>3.333333</td>\n",
              "    </tr>\n",
              "    <tr>\n",
              "      <th>414</th>\n",
              "      <td>[Cafe]</td>\n",
              "      <td>[Pao, não_Feijao, não_Cerveja, Manteiga, não_A...</td>\n",
              "      <td>0.3</td>\n",
              "      <td>1.0</td>\n",
              "      <td>3.333333</td>\n",
              "    </tr>\n",
              "    <tr>\n",
              "      <th>162</th>\n",
              "      <td>[não_Cerveja, Manteiga, Pao]</td>\n",
              "      <td>[Cafe]</td>\n",
              "      <td>0.3</td>\n",
              "      <td>1.0</td>\n",
              "      <td>3.333333</td>\n",
              "    </tr>\n",
              "    <tr>\n",
              "      <th>...</th>\n",
              "      <td>...</td>\n",
              "      <td>...</td>\n",
              "      <td>...</td>\n",
              "      <td>...</td>\n",
              "      <td>...</td>\n",
              "    </tr>\n",
              "    <tr>\n",
              "      <th>95</th>\n",
              "      <td>[não_Cafe, não_Feijao]</td>\n",
              "      <td>[não_Arroz]</td>\n",
              "      <td>0.4</td>\n",
              "      <td>0.8</td>\n",
              "      <td>1.000000</td>\n",
              "    </tr>\n",
              "    <tr>\n",
              "      <th>94</th>\n",
              "      <td>[não_Arroz, não_Cafe]</td>\n",
              "      <td>[não_Feijao]</td>\n",
              "      <td>0.4</td>\n",
              "      <td>0.8</td>\n",
              "      <td>1.000000</td>\n",
              "    </tr>\n",
              "    <tr>\n",
              "      <th>91</th>\n",
              "      <td>[Pao, não_Feijao]</td>\n",
              "      <td>[não_Cerveja]</td>\n",
              "      <td>0.4</td>\n",
              "      <td>0.8</td>\n",
              "      <td>1.000000</td>\n",
              "    </tr>\n",
              "    <tr>\n",
              "      <th>83</th>\n",
              "      <td>[não_Arroz, Pao]</td>\n",
              "      <td>[não_Cerveja]</td>\n",
              "      <td>0.4</td>\n",
              "      <td>0.8</td>\n",
              "      <td>1.000000</td>\n",
              "    </tr>\n",
              "    <tr>\n",
              "      <th>0</th>\n",
              "      <td>[]</td>\n",
              "      <td>[não_Arroz]</td>\n",
              "      <td>0.8</td>\n",
              "      <td>0.8</td>\n",
              "      <td>1.000000</td>\n",
              "    </tr>\n",
              "  </tbody>\n",
              "</table>\n",
              "<p>442 rows × 5 columns</p>\n",
              "</div>"
            ],
            "text/plain": [
              "                                                   Lhs  \\\n",
              "448  [Pao, não_Feijao, não_Cerveja, Manteiga, não_A...   \n",
              "326                       [não_Cerveja, Manteiga, Pao]   \n",
              "358                       [não_Cerveja, Manteiga, Pao]   \n",
              "414                                             [Cafe]   \n",
              "162                       [não_Cerveja, Manteiga, Pao]   \n",
              "..                                                 ...   \n",
              "95                              [não_Cafe, não_Feijao]   \n",
              "94                               [não_Arroz, não_Cafe]   \n",
              "91                                   [Pao, não_Feijao]   \n",
              "83                                    [não_Arroz, Pao]   \n",
              "0                                                   []   \n",
              "\n",
              "                                                   Rhs  suporte  confianca  \\\n",
              "448                                             [Cafe]      0.3        1.0   \n",
              "326                                  [Cafe, não_Arroz]      0.3        1.0   \n",
              "358                                 [Cafe, não_Feijao]      0.3        1.0   \n",
              "414  [Pao, não_Feijao, não_Cerveja, Manteiga, não_A...      0.3        1.0   \n",
              "162                                             [Cafe]      0.3        1.0   \n",
              "..                                                 ...      ...        ...   \n",
              "95                                         [não_Arroz]      0.4        0.8   \n",
              "94                                        [não_Feijao]      0.4        0.8   \n",
              "91                                       [não_Cerveja]      0.4        0.8   \n",
              "83                                       [não_Cerveja]      0.4        0.8   \n",
              "0                                          [não_Arroz]      0.8        0.8   \n",
              "\n",
              "         lift  \n",
              "448  3.333333  \n",
              "326  3.333333  \n",
              "358  3.333333  \n",
              "414  3.333333  \n",
              "162  3.333333  \n",
              "..        ...  \n",
              "95   1.000000  \n",
              "94   1.000000  \n",
              "91   1.000000  \n",
              "83   1.000000  \n",
              "0    1.000000  \n",
              "\n",
              "[442 rows x 5 columns]"
            ]
          },
          "execution_count": 45,
          "metadata": {},
          "output_type": "execute_result"
        }
      ],
      "source": [
        "RegrasFinais.sort_values(by='lift', ascending =False)"
      ]
    }
  ],
  "metadata": {
    "colab": {
      "collapsed_sections": [],
      "provenance": []
    },
    "kernelspec": {
      "display_name": "Python 3",
      "name": "python3"
    },
    "language_info": {
      "codemirror_mode": {
        "name": "ipython",
        "version": 3
      },
      "file_extension": ".py",
      "mimetype": "text/x-python",
      "name": "python",
      "nbconvert_exporter": "python",
      "pygments_lexer": "ipython3",
      "version": "3.12.3"
    }
  },
  "nbformat": 4,
  "nbformat_minor": 0
}
