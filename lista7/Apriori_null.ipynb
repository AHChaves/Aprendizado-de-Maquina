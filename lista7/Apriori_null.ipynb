{
  "cells": [
    {
      "cell_type": "code",
      "execution_count": 37,
      "metadata": {
        "id": "m3d_ivF4Bcn5"
      },
      "outputs": [],
      "source": [
        "import pandas as pd\n",
        "from apyori import apriori"
      ]
    },
    {
      "cell_type": "code",
      "execution_count": 38,
      "metadata": {
        "colab": {
          "base_uri": "https://localhost:8080/",
          "height": 418
        },
        "id": "fGx34zCzBkw1",
        "outputId": "84e8d7ca-e1bd-4381-fc70-c2516778281b"
      },
      "outputs": [
        {
          "data": {
            "application/vnd.microsoft.datawrangler.viewer.v0+json": {
              "columns": [
                {
                  "name": "index",
                  "rawType": "int64",
                  "type": "integer"
                },
                {
                  "name": "0",
                  "rawType": "object",
                  "type": "unknown"
                },
                {
                  "name": "1",
                  "rawType": "object",
                  "type": "unknown"
                },
                {
                  "name": "2",
                  "rawType": "object",
                  "type": "unknown"
                },
                {
                  "name": "3",
                  "rawType": "object",
                  "type": "unknown"
                },
                {
                  "name": "4",
                  "rawType": "object",
                  "type": "unknown"
                },
                {
                  "name": "5",
                  "rawType": "object",
                  "type": "unknown"
                },
                {
                  "name": "6",
                  "rawType": "object",
                  "type": "unknown"
                }
              ],
              "conversionMethod": "pd.DataFrame",
              "ref": "e01da35b-a6ff-4e38-98b0-3ee2041f5f39",
              "rows": [
                [
                  "0",
                  null,
                  "Cafe",
                  null,
                  "Pao",
                  "Manteiga",
                  null,
                  null
                ],
                [
                  "1",
                  "Leite",
                  null,
                  "Cerveja",
                  "Pao",
                  "Manteiga",
                  null,
                  null
                ],
                [
                  "2",
                  null,
                  "Cafe",
                  null,
                  "Pao",
                  "Manteiga",
                  null,
                  null
                ],
                [
                  "3",
                  "Leite",
                  "Cafe",
                  null,
                  "Pao",
                  "Manteiga",
                  null,
                  null
                ],
                [
                  "4",
                  null,
                  null,
                  "Cerveja",
                  null,
                  null,
                  null,
                  null
                ],
                [
                  "5",
                  null,
                  null,
                  null,
                  null,
                  "Manteiga",
                  null,
                  null
                ],
                [
                  "6",
                  null,
                  null,
                  null,
                  "Pao",
                  null,
                  null,
                  null
                ],
                [
                  "7",
                  null,
                  null,
                  null,
                  null,
                  null,
                  null,
                  "Feijao"
                ],
                [
                  "8",
                  null,
                  null,
                  null,
                  null,
                  null,
                  "Arroz",
                  "Feijao"
                ],
                [
                  "9",
                  null,
                  null,
                  null,
                  null,
                  null,
                  "Arroz",
                  null
                ]
              ],
              "shape": {
                "columns": 7,
                "rows": 10
              }
            },
            "text/html": [
              "<div>\n",
              "<style scoped>\n",
              "    .dataframe tbody tr th:only-of-type {\n",
              "        vertical-align: middle;\n",
              "    }\n",
              "\n",
              "    .dataframe tbody tr th {\n",
              "        vertical-align: top;\n",
              "    }\n",
              "\n",
              "    .dataframe thead th {\n",
              "        text-align: right;\n",
              "    }\n",
              "</style>\n",
              "<table border=\"1\" class=\"dataframe\">\n",
              "  <thead>\n",
              "    <tr style=\"text-align: right;\">\n",
              "      <th></th>\n",
              "      <th>0</th>\n",
              "      <th>1</th>\n",
              "      <th>2</th>\n",
              "      <th>3</th>\n",
              "      <th>4</th>\n",
              "      <th>5</th>\n",
              "      <th>6</th>\n",
              "    </tr>\n",
              "  </thead>\n",
              "  <tbody>\n",
              "    <tr>\n",
              "      <th>0</th>\n",
              "      <td>NaN</td>\n",
              "      <td>Cafe</td>\n",
              "      <td>NaN</td>\n",
              "      <td>Pao</td>\n",
              "      <td>Manteiga</td>\n",
              "      <td>NaN</td>\n",
              "      <td>NaN</td>\n",
              "    </tr>\n",
              "    <tr>\n",
              "      <th>1</th>\n",
              "      <td>Leite</td>\n",
              "      <td>NaN</td>\n",
              "      <td>Cerveja</td>\n",
              "      <td>Pao</td>\n",
              "      <td>Manteiga</td>\n",
              "      <td>NaN</td>\n",
              "      <td>NaN</td>\n",
              "    </tr>\n",
              "    <tr>\n",
              "      <th>2</th>\n",
              "      <td>NaN</td>\n",
              "      <td>Cafe</td>\n",
              "      <td>NaN</td>\n",
              "      <td>Pao</td>\n",
              "      <td>Manteiga</td>\n",
              "      <td>NaN</td>\n",
              "      <td>NaN</td>\n",
              "    </tr>\n",
              "    <tr>\n",
              "      <th>3</th>\n",
              "      <td>Leite</td>\n",
              "      <td>Cafe</td>\n",
              "      <td>NaN</td>\n",
              "      <td>Pao</td>\n",
              "      <td>Manteiga</td>\n",
              "      <td>NaN</td>\n",
              "      <td>NaN</td>\n",
              "    </tr>\n",
              "    <tr>\n",
              "      <th>4</th>\n",
              "      <td>NaN</td>\n",
              "      <td>NaN</td>\n",
              "      <td>Cerveja</td>\n",
              "      <td>NaN</td>\n",
              "      <td>NaN</td>\n",
              "      <td>NaN</td>\n",
              "      <td>NaN</td>\n",
              "    </tr>\n",
              "    <tr>\n",
              "      <th>5</th>\n",
              "      <td>NaN</td>\n",
              "      <td>NaN</td>\n",
              "      <td>NaN</td>\n",
              "      <td>NaN</td>\n",
              "      <td>Manteiga</td>\n",
              "      <td>NaN</td>\n",
              "      <td>NaN</td>\n",
              "    </tr>\n",
              "    <tr>\n",
              "      <th>6</th>\n",
              "      <td>NaN</td>\n",
              "      <td>NaN</td>\n",
              "      <td>NaN</td>\n",
              "      <td>Pao</td>\n",
              "      <td>NaN</td>\n",
              "      <td>NaN</td>\n",
              "      <td>NaN</td>\n",
              "    </tr>\n",
              "    <tr>\n",
              "      <th>7</th>\n",
              "      <td>NaN</td>\n",
              "      <td>NaN</td>\n",
              "      <td>NaN</td>\n",
              "      <td>NaN</td>\n",
              "      <td>NaN</td>\n",
              "      <td>NaN</td>\n",
              "      <td>Feijao</td>\n",
              "    </tr>\n",
              "    <tr>\n",
              "      <th>8</th>\n",
              "      <td>NaN</td>\n",
              "      <td>NaN</td>\n",
              "      <td>NaN</td>\n",
              "      <td>NaN</td>\n",
              "      <td>NaN</td>\n",
              "      <td>Arroz</td>\n",
              "      <td>Feijao</td>\n",
              "    </tr>\n",
              "    <tr>\n",
              "      <th>9</th>\n",
              "      <td>NaN</td>\n",
              "      <td>NaN</td>\n",
              "      <td>NaN</td>\n",
              "      <td>NaN</td>\n",
              "      <td>NaN</td>\n",
              "      <td>Arroz</td>\n",
              "      <td>NaN</td>\n",
              "    </tr>\n",
              "  </tbody>\n",
              "</table>\n",
              "</div>"
            ],
            "text/plain": [
              "       0     1        2    3         4      5       6\n",
              "0    NaN  Cafe      NaN  Pao  Manteiga    NaN     NaN\n",
              "1  Leite   NaN  Cerveja  Pao  Manteiga    NaN     NaN\n",
              "2    NaN  Cafe      NaN  Pao  Manteiga    NaN     NaN\n",
              "3  Leite  Cafe      NaN  Pao  Manteiga    NaN     NaN\n",
              "4    NaN   NaN  Cerveja  NaN       NaN    NaN     NaN\n",
              "5    NaN   NaN      NaN  NaN  Manteiga    NaN     NaN\n",
              "6    NaN   NaN      NaN  Pao       NaN    NaN     NaN\n",
              "7    NaN   NaN      NaN  NaN       NaN    NaN  Feijao\n",
              "8    NaN   NaN      NaN  NaN       NaN  Arroz  Feijao\n",
              "9    NaN   NaN      NaN  NaN       NaN  Arroz     NaN"
            ]
          },
          "execution_count": 38,
          "metadata": {},
          "output_type": "execute_result"
        }
      ],
      "source": [
        "#encoding = \"cp1252\", encoding='utf-8', encoding='latin1'etc\n",
        "base= pd.read_csv('../bases/MercadoSim.csv', sep=';',header=None)\n",
        "base"
      ]
    },
    {
      "cell_type": "code",
      "execution_count": 39,
      "metadata": {
        "colab": {
          "base_uri": "https://localhost:8080/"
        },
        "id": "oIBsczbGCxWf",
        "outputId": "73984404-3585-4e7c-8d5e-e77c36f87e81"
      },
      "outputs": [
        {
          "data": {
            "text/plain": [
              "(10, 7)"
            ]
          },
          "execution_count": 39,
          "metadata": {},
          "output_type": "execute_result"
        }
      ],
      "source": [
        "base.shape"
      ]
    },
    {
      "cell_type": "markdown",
      "metadata": {
        "id": "cQyNolxV37tx"
      },
      "source": [
        "**Como estaremos treinando um modelo a priori, que recebe entradas em formato de lista, precisamos transformar o dataframe em uma lista de transações.**"
      ]
    },
    {
      "cell_type": "code",
      "execution_count": 40,
      "metadata": {
        "id": "ZF8i0EdWCMjY"
      },
      "outputs": [],
      "source": [
        "transacoes = [] \n",
        "for i in range(len(base)):\n",
        "    transacoes.append([ str(base.values[i, j]) for j in range(base.shape[1]) if not pd.isna(base.values[i, j])])"
      ]
    },
    {
      "cell_type": "code",
      "execution_count": 41,
      "metadata": {},
      "outputs": [
        {
          "data": {
            "text/plain": [
              "[['Cafe', 'Pao', 'Manteiga'],\n",
              " ['Leite', 'Cerveja', 'Pao', 'Manteiga'],\n",
              " ['Cafe', 'Pao', 'Manteiga'],\n",
              " ['Leite', 'Cafe', 'Pao', 'Manteiga'],\n",
              " ['Cerveja'],\n",
              " ['Manteiga'],\n",
              " ['Pao'],\n",
              " ['Feijao'],\n",
              " ['Arroz', 'Feijao'],\n",
              " ['Arroz']]"
            ]
          },
          "execution_count": 41,
          "metadata": {},
          "output_type": "execute_result"
        }
      ],
      "source": [
        "transacoes"
      ]
    },
    {
      "cell_type": "code",
      "execution_count": 42,
      "metadata": {},
      "outputs": [],
      "source": [
        "todos_itens = set()\n",
        "for transacao in transacoes:\n",
        "    for item in transacao:\n",
        "        todos_itens.add(item)\n",
        "todos_itens = list(todos_itens)"
      ]
    },
    {
      "cell_type": "code",
      "execution_count": 43,
      "metadata": {},
      "outputs": [
        {
          "data": {
            "text/plain": [
              "['Cafe', 'Arroz', 'Feijao', 'Cerveja', 'Manteiga', 'Pao', 'Leite']"
            ]
          },
          "execution_count": 43,
          "metadata": {},
          "output_type": "execute_result"
        }
      ],
      "source": [
        "todos_itens"
      ]
    },
    {
      "cell_type": "code",
      "execution_count": 44,
      "metadata": {},
      "outputs": [],
      "source": [
        "transacoes_expandidas = []\n",
        "for transacao in transacoes:\n",
        "    transacao_expandida = transacao.copy()\n",
        "    for item in todos_itens:\n",
        "        if item not in transacao:\n",
        "            transacao_expandida.append(f\"NÃO_{item}\")\n",
        "    transacoes_expandidas.append(transacao_expandida)\n"
      ]
    },
    {
      "cell_type": "code",
      "execution_count": 45,
      "metadata": {},
      "outputs": [
        {
          "data": {
            "text/plain": [
              "['Arroz',\n",
              " 'NÃO_Cafe',\n",
              " 'NÃO_Feijao',\n",
              " 'NÃO_Cerveja',\n",
              " 'NÃO_Manteiga',\n",
              " 'NÃO_Pao',\n",
              " 'NÃO_Leite']"
            ]
          },
          "execution_count": 45,
          "metadata": {},
          "output_type": "execute_result"
        }
      ],
      "source": [
        "transacao_expandida"
      ]
    },
    {
      "cell_type": "markdown",
      "metadata": {
        "id": "ggzA0uJg_3Ns"
      },
      "source": [
        "**Vamos chamar executar o algoritmo apriori e armazenar as regras obtidas**"
      ]
    },
    {
      "cell_type": "code",
      "execution_count": 46,
      "metadata": {
        "colab": {
          "base_uri": "https://localhost:8080/"
        },
        "id": "DuX5YuabzqfQ",
        "outputId": "02c6a77b-140d-4d4c-c5ea-166abbcd7c8b"
      },
      "outputs": [
        {
          "data": {
            "text/plain": [
              "117"
            ]
          },
          "execution_count": 46,
          "metadata": {},
          "output_type": "execute_result"
        }
      ],
      "source": [
        "regras = apriori(transacoes_expandidas, min_support=0.3, min_confidence=0.8)\n",
        "saida = list(regras)\n",
        "len(saida)"
      ]
    },
    {
      "cell_type": "markdown",
      "metadata": {
        "id": "soknidg94a2y"
      },
      "source": [
        "**Para facilitar a visualização, veja como transformar isso em um dataframe** \n",
        "\n",
        "Extraído de:\n",
        "\n",
        "https://www.section.io/engineering-education/apriori-algorithm-in-python/\n",
        "\n",
        "https://splunktool.com/understanding-apyoris-output"
      ]
    },
    {
      "cell_type": "code",
      "execution_count": 47,
      "metadata": {},
      "outputs": [
        {
          "name": "stdout",
          "output_type": "stream",
          "text": [
            "Itemsets gerados com seus respectivos suportes:\n",
            "                                               Itemset  Suporte\n",
            "0                                          [NÃO_Arroz]      0.8\n",
            "1                                        [NÃO_Cerveja]      0.8\n",
            "2                                         [NÃO_Feijao]      0.8\n",
            "3                                          [NÃO_Leite]      0.8\n",
            "4                                     [Cafe, Manteiga]      0.3\n",
            "..                                                 ...      ...\n",
            "112  [NÃO_Leite, NÃO_Cerveja, Manteiga, NÃO_Feijao,...      0.3\n",
            "113  [NÃO_Cerveja, Manteiga, NÃO_Feijao, NÃO_Arroz,...      0.3\n",
            "114  [NÃO_Leite, NÃO_Cerveja, NÃO_Feijao, NÃO_Arroz...      0.3\n",
            "115  [NÃO_Leite, NÃO_Cerveja, NÃO_Cafe, NÃO_Pao, NÃ...      0.3\n",
            "116  [NÃO_Cerveja, Cafe, Manteiga, NÃO_Feijao, NÃO_...      0.3\n",
            "\n",
            "[117 rows x 2 columns]\n"
          ]
        }
      ],
      "source": [
        "itemsets_com_suporte = []\n",
        "for resultado in saida:\n",
        "    itemset = list(resultado[0]) \n",
        "    suporte = resultado[1]        \n",
        "    itemsets_com_suporte.append((itemset, suporte))\n",
        "\n",
        "df_itemsets = pd.DataFrame(itemsets_com_suporte, columns=['Itemset', 'Suporte'])\n",
        "\n",
        "#df_itemsets = df_itemsets.sort_values(by='Suporte', ascending=False)\n",
        "\n",
        "print(\"Itemsets gerados com seus respectivos suportes:\")\n",
        "print(df_itemsets)"
      ]
    },
    {
      "cell_type": "code",
      "execution_count": 48,
      "metadata": {},
      "outputs": [
        {
          "data": {
            "application/vnd.microsoft.datawrangler.viewer.v0+json": {
              "columns": [
                {
                  "name": "index",
                  "rawType": "int64",
                  "type": "integer"
                },
                {
                  "name": "Itemset",
                  "rawType": "object",
                  "type": "unknown"
                },
                {
                  "name": "Suporte",
                  "rawType": "float64",
                  "type": "float"
                }
              ],
              "conversionMethod": "pd.DataFrame",
              "ref": "73d2f642-9615-487d-a868-7e150435aebd",
              "rows": [
                [
                  "0",
                  "['NÃO_Arroz']",
                  "0.8"
                ],
                [
                  "1",
                  "['NÃO_Cerveja']",
                  "0.8"
                ],
                [
                  "2",
                  "['NÃO_Feijao']",
                  "0.8"
                ],
                [
                  "3",
                  "['NÃO_Leite']",
                  "0.8"
                ],
                [
                  "4",
                  "['Cafe', 'Manteiga']",
                  "0.3"
                ],
                [
                  "5",
                  "['Cafe', 'NÃO_Arroz']",
                  "0.3"
                ],
                [
                  "6",
                  "['Cafe', 'NÃO_Cerveja']",
                  "0.3"
                ],
                [
                  "7",
                  "['Cafe', 'NÃO_Feijao']",
                  "0.3"
                ],
                [
                  "8",
                  "['Cafe', 'Pao']",
                  "0.3"
                ],
                [
                  "9",
                  "['Manteiga', 'NÃO_Arroz']",
                  "0.5"
                ],
                [
                  "10",
                  "['Manteiga', 'NÃO_Cerveja']",
                  "0.4"
                ],
                [
                  "11",
                  "['Manteiga', 'NÃO_Feijao']",
                  "0.5"
                ],
                [
                  "12",
                  "['Manteiga', 'Pao']",
                  "0.4"
                ],
                [
                  "13",
                  "['NÃO_Feijao', 'NÃO_Arroz']",
                  "0.7"
                ],
                [
                  "14",
                  "['Pao', 'NÃO_Arroz']",
                  "0.5"
                ],
                [
                  "15",
                  "['NÃO_Leite', 'NÃO_Cafe']",
                  "0.6"
                ],
                [
                  "16",
                  "['NÃO_Manteiga', 'NÃO_Cafe']",
                  "0.5"
                ],
                [
                  "17",
                  "['NÃO_Pao', 'NÃO_Cafe']",
                  "0.5"
                ],
                [
                  "18",
                  "['NÃO_Leite', 'NÃO_Cerveja']",
                  "0.7"
                ],
                [
                  "19",
                  "['NÃO_Manteiga', 'NÃO_Cerveja']",
                  "0.4"
                ],
                [
                  "20",
                  "['NÃO_Pao', 'NÃO_Cerveja']",
                  "0.4"
                ],
                [
                  "21",
                  "['Pao', 'NÃO_Cerveja']",
                  "0.4"
                ],
                [
                  "22",
                  "['NÃO_Feijao', 'Pao']",
                  "0.5"
                ],
                [
                  "23",
                  "['NÃO_Manteiga', 'NÃO_Leite']",
                  "0.5"
                ],
                [
                  "24",
                  "['NÃO_Pao', 'NÃO_Leite']",
                  "0.5"
                ],
                [
                  "25",
                  "['NÃO_Manteiga', 'NÃO_Pao']",
                  "0.4"
                ],
                [
                  "26",
                  "['Cafe', 'Manteiga', 'NÃO_Arroz']",
                  "0.3"
                ],
                [
                  "27",
                  "['Cafe', 'Manteiga', 'NÃO_Cerveja']",
                  "0.3"
                ],
                [
                  "28",
                  "['Cafe', 'NÃO_Feijao', 'Manteiga']",
                  "0.3"
                ],
                [
                  "29",
                  "['Cafe', 'Manteiga', 'Pao']",
                  "0.3"
                ],
                [
                  "30",
                  "['Cafe', 'NÃO_Arroz', 'NÃO_Cerveja']",
                  "0.3"
                ],
                [
                  "31",
                  "['Cafe', 'NÃO_Feijao', 'NÃO_Arroz']",
                  "0.3"
                ],
                [
                  "32",
                  "['Cafe', 'Pao', 'NÃO_Arroz']",
                  "0.3"
                ],
                [
                  "33",
                  "['Cafe', 'NÃO_Feijao', 'NÃO_Cerveja']",
                  "0.3"
                ],
                [
                  "34",
                  "['Cafe', 'Pao', 'NÃO_Cerveja']",
                  "0.3"
                ],
                [
                  "35",
                  "['Cafe', 'NÃO_Feijao', 'Pao']",
                  "0.3"
                ],
                [
                  "36",
                  "['Manteiga', 'NÃO_Arroz', 'NÃO_Cerveja']",
                  "0.4"
                ],
                [
                  "37",
                  "['Manteiga', 'NÃO_Feijao', 'NÃO_Arroz']",
                  "0.5"
                ],
                [
                  "38",
                  "['Manteiga', 'NÃO_Arroz', 'NÃO_Leite']",
                  "0.3"
                ],
                [
                  "39",
                  "['Manteiga', 'Pao', 'NÃO_Arroz']",
                  "0.4"
                ],
                [
                  "40",
                  "['Manteiga', 'NÃO_Feijao', 'NÃO_Cerveja']",
                  "0.4"
                ],
                [
                  "41",
                  "['Manteiga', 'NÃO_Leite', 'NÃO_Cerveja']",
                  "0.3"
                ],
                [
                  "42",
                  "['Manteiga', 'NÃO_Feijao', 'NÃO_Leite']",
                  "0.3"
                ],
                [
                  "43",
                  "['Manteiga', 'NÃO_Feijao', 'Pao']",
                  "0.4"
                ],
                [
                  "44",
                  "['NÃO_Feijao', 'NÃO_Arroz', 'NÃO_Cafe']",
                  "0.4"
                ],
                [
                  "45",
                  "['NÃO_Leite', 'NÃO_Arroz', 'NÃO_Cafe']",
                  "0.4"
                ],
                [
                  "46",
                  "['NÃO_Manteiga', 'NÃO_Arroz', 'NÃO_Cafe']",
                  "0.3"
                ],
                [
                  "47",
                  "['NÃO_Pao', 'NÃO_Arroz', 'NÃO_Cafe']",
                  "0.3"
                ],
                [
                  "48",
                  "['NÃO_Feijao', 'NÃO_Arroz', 'NÃO_Cerveja']",
                  "0.5"
                ],
                [
                  "49",
                  "['NÃO_Leite', 'NÃO_Arroz', 'NÃO_Cerveja']",
                  "0.5"
                ]
              ],
              "shape": {
                "columns": 2,
                "rows": 117
              }
            },
            "text/html": [
              "<div>\n",
              "<style scoped>\n",
              "    .dataframe tbody tr th:only-of-type {\n",
              "        vertical-align: middle;\n",
              "    }\n",
              "\n",
              "    .dataframe tbody tr th {\n",
              "        vertical-align: top;\n",
              "    }\n",
              "\n",
              "    .dataframe thead th {\n",
              "        text-align: right;\n",
              "    }\n",
              "</style>\n",
              "<table border=\"1\" class=\"dataframe\">\n",
              "  <thead>\n",
              "    <tr style=\"text-align: right;\">\n",
              "      <th></th>\n",
              "      <th>Itemset</th>\n",
              "      <th>Suporte</th>\n",
              "    </tr>\n",
              "  </thead>\n",
              "  <tbody>\n",
              "    <tr>\n",
              "      <th>0</th>\n",
              "      <td>[NÃO_Arroz]</td>\n",
              "      <td>0.8</td>\n",
              "    </tr>\n",
              "    <tr>\n",
              "      <th>1</th>\n",
              "      <td>[NÃO_Cerveja]</td>\n",
              "      <td>0.8</td>\n",
              "    </tr>\n",
              "    <tr>\n",
              "      <th>2</th>\n",
              "      <td>[NÃO_Feijao]</td>\n",
              "      <td>0.8</td>\n",
              "    </tr>\n",
              "    <tr>\n",
              "      <th>3</th>\n",
              "      <td>[NÃO_Leite]</td>\n",
              "      <td>0.8</td>\n",
              "    </tr>\n",
              "    <tr>\n",
              "      <th>4</th>\n",
              "      <td>[Cafe, Manteiga]</td>\n",
              "      <td>0.3</td>\n",
              "    </tr>\n",
              "    <tr>\n",
              "      <th>...</th>\n",
              "      <td>...</td>\n",
              "      <td>...</td>\n",
              "    </tr>\n",
              "    <tr>\n",
              "      <th>112</th>\n",
              "      <td>[NÃO_Leite, NÃO_Cerveja, Manteiga, NÃO_Feijao,...</td>\n",
              "      <td>0.3</td>\n",
              "    </tr>\n",
              "    <tr>\n",
              "      <th>113</th>\n",
              "      <td>[NÃO_Cerveja, Manteiga, NÃO_Feijao, NÃO_Arroz,...</td>\n",
              "      <td>0.3</td>\n",
              "    </tr>\n",
              "    <tr>\n",
              "      <th>114</th>\n",
              "      <td>[NÃO_Leite, NÃO_Cerveja, NÃO_Feijao, NÃO_Arroz...</td>\n",
              "      <td>0.3</td>\n",
              "    </tr>\n",
              "    <tr>\n",
              "      <th>115</th>\n",
              "      <td>[NÃO_Leite, NÃO_Cerveja, NÃO_Cafe, NÃO_Pao, NÃ...</td>\n",
              "      <td>0.3</td>\n",
              "    </tr>\n",
              "    <tr>\n",
              "      <th>116</th>\n",
              "      <td>[NÃO_Cerveja, Cafe, Manteiga, NÃO_Feijao, NÃO_...</td>\n",
              "      <td>0.3</td>\n",
              "    </tr>\n",
              "  </tbody>\n",
              "</table>\n",
              "<p>117 rows × 2 columns</p>\n",
              "</div>"
            ],
            "text/plain": [
              "                                               Itemset  Suporte\n",
              "0                                          [NÃO_Arroz]      0.8\n",
              "1                                        [NÃO_Cerveja]      0.8\n",
              "2                                         [NÃO_Feijao]      0.8\n",
              "3                                          [NÃO_Leite]      0.8\n",
              "4                                     [Cafe, Manteiga]      0.3\n",
              "..                                                 ...      ...\n",
              "112  [NÃO_Leite, NÃO_Cerveja, Manteiga, NÃO_Feijao,...      0.3\n",
              "113  [NÃO_Cerveja, Manteiga, NÃO_Feijao, NÃO_Arroz,...      0.3\n",
              "114  [NÃO_Leite, NÃO_Cerveja, NÃO_Feijao, NÃO_Arroz...      0.3\n",
              "115  [NÃO_Leite, NÃO_Cerveja, NÃO_Cafe, NÃO_Pao, NÃ...      0.3\n",
              "116  [NÃO_Cerveja, Cafe, Manteiga, NÃO_Feijao, NÃO_...      0.3\n",
              "\n",
              "[117 rows x 2 columns]"
            ]
          },
          "execution_count": 48,
          "metadata": {},
          "output_type": "execute_result"
        }
      ],
      "source": [
        "df_itemsets"
      ]
    },
    {
      "cell_type": "code",
      "execution_count": 49,
      "metadata": {
        "id": "UWDno2uo4aL0"
      },
      "outputs": [],
      "source": [
        "lhs = []\n",
        "rhs = []\n",
        "suporte = []\n",
        "confianca = []\n",
        "lift = []\n",
        "\n",
        "for resultado in saida:\n",
        "    s = resultado[1]\n",
        "    result_rules = resultado[2]\n",
        "    for result_rule in result_rules:\n",
        "        a = list(result_rule[0])\n",
        "        b = list(result_rule[1])\n",
        "        c = result_rule[2]\n",
        "        l = result_rule[3]\n",
        "        \n",
        "        # Filtrar para incluir apenas regras que envolvem ausência de itens\n",
        "        if any(item.startswith(\"NÃO_\") for item in a + b):\n",
        "            lhs.append(a)\n",
        "            rhs.append(b)\n",
        "            suporte.append(s)\n",
        "            confianca.append(c)\n",
        "            lift.append(l)\n",
        "\n",
        "# Criar DataFrame com as regras\n",
        "RegrasFinais = pd.DataFrame({\n",
        "    'Lhs': lhs,\n",
        "    'Rhs': rhs,\n",
        "    'suporte': suporte,\n",
        "    'confianca': confianca,\n",
        "    'lift': lift\n",
        "})\n",
        "\n",
        "RegrasFinais = RegrasFinais[\n",
        "    (RegrasFinais['lift'] != 1.0) &  # Remove lift neutro\n",
        "    (RegrasFinais['Lhs'].apply(len) > 1)  # Mantém apenas regras com combinações de itens\n",
        "]"
      ]
    },
    {
      "cell_type": "code",
      "execution_count": 50,
      "metadata": {
        "colab": {
          "base_uri": "https://localhost:8080/",
          "height": 959
        },
        "id": "QW7wcZbe431-",
        "outputId": "4034cc1b-c464-498d-e722-0acd0f868550"
      },
      "outputs": [
        {
          "data": {
            "application/vnd.microsoft.datawrangler.viewer.v0+json": {
              "columns": [
                {
                  "name": "index",
                  "rawType": "int64",
                  "type": "integer"
                },
                {
                  "name": "Lhs",
                  "rawType": "object",
                  "type": "unknown"
                },
                {
                  "name": "Rhs",
                  "rawType": "object",
                  "type": "unknown"
                },
                {
                  "name": "suporte",
                  "rawType": "float64",
                  "type": "float"
                },
                {
                  "name": "confianca",
                  "rawType": "float64",
                  "type": "float"
                },
                {
                  "name": "lift",
                  "rawType": "float64",
                  "type": "float"
                }
              ],
              "conversionMethod": "pd.DataFrame",
              "ref": "4400f132-308c-4a6d-81d2-1f43ffac1212",
              "rows": [
                [
                  "27",
                  "['Cafe', 'Manteiga']",
                  "['NÃO_Arroz']",
                  "0.3",
                  "1.0",
                  "1.25"
                ],
                [
                  "28",
                  "['Cafe', 'NÃO_Arroz']",
                  "['Manteiga']",
                  "0.3",
                  "1.0",
                  "2.0"
                ],
                [
                  "30",
                  "['Cafe', 'Manteiga']",
                  "['NÃO_Cerveja']",
                  "0.3",
                  "1.0",
                  "1.25"
                ],
                [
                  "31",
                  "['Cafe', 'NÃO_Cerveja']",
                  "['Manteiga']",
                  "0.3",
                  "1.0",
                  "2.0"
                ],
                [
                  "33",
                  "['Cafe', 'Manteiga']",
                  "['NÃO_Feijao']",
                  "0.3",
                  "1.0",
                  "1.25"
                ],
                [
                  "34",
                  "['Cafe', 'NÃO_Feijao']",
                  "['Manteiga']",
                  "0.3",
                  "1.0",
                  "2.0"
                ],
                [
                  "36",
                  "['Cafe', 'NÃO_Arroz']",
                  "['NÃO_Cerveja']",
                  "0.3",
                  "1.0",
                  "1.25"
                ],
                [
                  "37",
                  "['Cafe', 'NÃO_Cerveja']",
                  "['NÃO_Arroz']",
                  "0.3",
                  "1.0",
                  "1.25"
                ],
                [
                  "39",
                  "['Cafe', 'NÃO_Arroz']",
                  "['NÃO_Feijao']",
                  "0.3",
                  "1.0",
                  "1.25"
                ],
                [
                  "40",
                  "['Cafe', 'NÃO_Feijao']",
                  "['NÃO_Arroz']",
                  "0.3",
                  "1.0",
                  "1.25"
                ],
                [
                  "42",
                  "['Cafe', 'NÃO_Arroz']",
                  "['Pao']",
                  "0.3",
                  "1.0",
                  "2.0"
                ],
                [
                  "43",
                  "['Cafe', 'Pao']",
                  "['NÃO_Arroz']",
                  "0.3",
                  "1.0",
                  "1.25"
                ],
                [
                  "45",
                  "['Cafe', 'NÃO_Cerveja']",
                  "['NÃO_Feijao']",
                  "0.3",
                  "1.0",
                  "1.25"
                ],
                [
                  "46",
                  "['Cafe', 'NÃO_Feijao']",
                  "['NÃO_Cerveja']",
                  "0.3",
                  "1.0",
                  "1.25"
                ],
                [
                  "48",
                  "['Cafe', 'NÃO_Cerveja']",
                  "['Pao']",
                  "0.3",
                  "1.0",
                  "2.0"
                ],
                [
                  "49",
                  "['Cafe', 'Pao']",
                  "['NÃO_Cerveja']",
                  "0.3",
                  "1.0",
                  "1.25"
                ],
                [
                  "51",
                  "['Cafe', 'NÃO_Feijao']",
                  "['Pao']",
                  "0.3",
                  "1.0",
                  "2.0"
                ],
                [
                  "52",
                  "['Cafe', 'Pao']",
                  "['NÃO_Feijao']",
                  "0.3",
                  "1.0",
                  "1.25"
                ],
                [
                  "55",
                  "['Manteiga', 'NÃO_Cerveja']",
                  "['NÃO_Arroz']",
                  "0.4",
                  "1.0",
                  "1.25"
                ],
                [
                  "57",
                  "['Manteiga', 'NÃO_Arroz']",
                  "['NÃO_Feijao']",
                  "0.5",
                  "1.0",
                  "1.25"
                ],
                [
                  "58",
                  "['Manteiga', 'NÃO_Feijao']",
                  "['NÃO_Arroz']",
                  "0.5",
                  "1.0",
                  "1.25"
                ],
                [
                  "59",
                  "['Manteiga', 'NÃO_Leite']",
                  "['NÃO_Arroz']",
                  "0.3",
                  "1.0",
                  "1.25"
                ],
                [
                  "62",
                  "['Manteiga', 'NÃO_Arroz']",
                  "['Pao']",
                  "0.4",
                  "0.8",
                  "1.6"
                ],
                [
                  "63",
                  "['Manteiga', 'Pao']",
                  "['NÃO_Arroz']",
                  "0.4",
                  "1.0",
                  "1.25"
                ],
                [
                  "64",
                  "['Pao', 'NÃO_Arroz']",
                  "['Manteiga']",
                  "0.4",
                  "0.8",
                  "1.6"
                ],
                [
                  "66",
                  "['Manteiga', 'NÃO_Cerveja']",
                  "['NÃO_Feijao']",
                  "0.4",
                  "1.0",
                  "1.25"
                ],
                [
                  "68",
                  "['Manteiga', 'NÃO_Leite']",
                  "['NÃO_Cerveja']",
                  "0.3",
                  "1.0",
                  "1.25"
                ],
                [
                  "69",
                  "['Manteiga', 'NÃO_Leite']",
                  "['NÃO_Feijao']",
                  "0.3",
                  "1.0",
                  "1.25"
                ],
                [
                  "72",
                  "['Manteiga', 'NÃO_Feijao']",
                  "['Pao']",
                  "0.4",
                  "0.8",
                  "1.6"
                ],
                [
                  "73",
                  "['Manteiga', 'Pao']",
                  "['NÃO_Feijao']",
                  "0.4",
                  "1.0",
                  "1.25"
                ],
                [
                  "74",
                  "['NÃO_Feijao', 'Pao']",
                  "['Manteiga']",
                  "0.4",
                  "0.8",
                  "1.6"
                ],
                [
                  "78",
                  "['NÃO_Manteiga', 'NÃO_Arroz']",
                  "['NÃO_Cafe']",
                  "0.3",
                  "1.0",
                  "1.4285714285714286"
                ],
                [
                  "79",
                  "['NÃO_Pao', 'NÃO_Arroz']",
                  "['NÃO_Cafe']",
                  "0.3",
                  "1.0",
                  "1.4285714285714286"
                ],
                [
                  "80",
                  "['NÃO_Arroz', 'NÃO_Cerveja']",
                  "['NÃO_Feijao']",
                  "0.5",
                  "0.8333333333333334",
                  "1.0416666666666667"
                ],
                [
                  "81",
                  "['NÃO_Feijao', 'NÃO_Cerveja']",
                  "['NÃO_Arroz']",
                  "0.5",
                  "0.8333333333333334",
                  "1.0416666666666667"
                ],
                [
                  "82",
                  "['NÃO_Arroz', 'NÃO_Cerveja']",
                  "['NÃO_Leite']",
                  "0.5",
                  "0.8333333333333334",
                  "1.0416666666666667"
                ],
                [
                  "83",
                  "['NÃO_Leite', 'NÃO_Arroz']",
                  "['NÃO_Cerveja']",
                  "0.5",
                  "0.8333333333333334",
                  "1.0416666666666667"
                ],
                [
                  "86",
                  "['Pao', 'NÃO_Cerveja']",
                  "['NÃO_Arroz']",
                  "0.4",
                  "1.0",
                  "1.25"
                ],
                [
                  "87",
                  "['NÃO_Leite', 'NÃO_Arroz']",
                  "['NÃO_Feijao']",
                  "0.5",
                  "0.8333333333333334",
                  "1.0416666666666667"
                ],
                [
                  "88",
                  "['NÃO_Feijao', 'NÃO_Leite']",
                  "['NÃO_Arroz']",
                  "0.5",
                  "0.8333333333333334",
                  "1.0416666666666667"
                ],
                [
                  "90",
                  "['Pao', 'NÃO_Arroz']",
                  "['NÃO_Feijao']",
                  "0.5",
                  "1.0",
                  "1.25"
                ],
                [
                  "91",
                  "['NÃO_Feijao', 'Pao']",
                  "['NÃO_Arroz']",
                  "0.5",
                  "1.0",
                  "1.25"
                ],
                [
                  "92",
                  "['NÃO_Manteiga', 'NÃO_Arroz']",
                  "['NÃO_Leite']",
                  "0.3",
                  "1.0",
                  "1.25"
                ],
                [
                  "93",
                  "['NÃO_Pao', 'NÃO_Arroz']",
                  "['NÃO_Leite']",
                  "0.3",
                  "1.0",
                  "1.25"
                ],
                [
                  "94",
                  "['Pao', 'NÃO_Leite']",
                  "['NÃO_Arroz']",
                  "0.3",
                  "1.0",
                  "1.25"
                ],
                [
                  "95",
                  "['NÃO_Cerveja', 'NÃO_Cafe']",
                  "['NÃO_Leite']",
                  "0.5",
                  "1.0",
                  "1.25"
                ],
                [
                  "96",
                  "['NÃO_Leite', 'NÃO_Cafe']",
                  "['NÃO_Cerveja']",
                  "0.5",
                  "0.8333333333333334",
                  "1.0416666666666667"
                ],
                [
                  "98",
                  "['NÃO_Cerveja', 'NÃO_Cafe']",
                  "['NÃO_Manteiga']",
                  "0.4",
                  "0.8",
                  "1.6"
                ],
                [
                  "100",
                  "['NÃO_Manteiga', 'NÃO_Cerveja']",
                  "['NÃO_Cafe']",
                  "0.4",
                  "1.0",
                  "1.4285714285714286"
                ],
                [
                  "102",
                  "['NÃO_Cerveja', 'NÃO_Cafe']",
                  "['NÃO_Pao']",
                  "0.4",
                  "0.8",
                  "1.6"
                ]
              ],
              "shape": {
                "columns": 5,
                "rows": 343
              }
            },
            "text/html": [
              "<div>\n",
              "<style scoped>\n",
              "    .dataframe tbody tr th:only-of-type {\n",
              "        vertical-align: middle;\n",
              "    }\n",
              "\n",
              "    .dataframe tbody tr th {\n",
              "        vertical-align: top;\n",
              "    }\n",
              "\n",
              "    .dataframe thead th {\n",
              "        text-align: right;\n",
              "    }\n",
              "</style>\n",
              "<table border=\"1\" class=\"dataframe\">\n",
              "  <thead>\n",
              "    <tr style=\"text-align: right;\">\n",
              "      <th></th>\n",
              "      <th>Lhs</th>\n",
              "      <th>Rhs</th>\n",
              "      <th>suporte</th>\n",
              "      <th>confianca</th>\n",
              "      <th>lift</th>\n",
              "    </tr>\n",
              "  </thead>\n",
              "  <tbody>\n",
              "    <tr>\n",
              "      <th>27</th>\n",
              "      <td>[Cafe, Manteiga]</td>\n",
              "      <td>[NÃO_Arroz]</td>\n",
              "      <td>0.3</td>\n",
              "      <td>1.0</td>\n",
              "      <td>1.250000</td>\n",
              "    </tr>\n",
              "    <tr>\n",
              "      <th>28</th>\n",
              "      <td>[Cafe, NÃO_Arroz]</td>\n",
              "      <td>[Manteiga]</td>\n",
              "      <td>0.3</td>\n",
              "      <td>1.0</td>\n",
              "      <td>2.000000</td>\n",
              "    </tr>\n",
              "    <tr>\n",
              "      <th>30</th>\n",
              "      <td>[Cafe, Manteiga]</td>\n",
              "      <td>[NÃO_Cerveja]</td>\n",
              "      <td>0.3</td>\n",
              "      <td>1.0</td>\n",
              "      <td>1.250000</td>\n",
              "    </tr>\n",
              "    <tr>\n",
              "      <th>31</th>\n",
              "      <td>[Cafe, NÃO_Cerveja]</td>\n",
              "      <td>[Manteiga]</td>\n",
              "      <td>0.3</td>\n",
              "      <td>1.0</td>\n",
              "      <td>2.000000</td>\n",
              "    </tr>\n",
              "    <tr>\n",
              "      <th>33</th>\n",
              "      <td>[Cafe, Manteiga]</td>\n",
              "      <td>[NÃO_Feijao]</td>\n",
              "      <td>0.3</td>\n",
              "      <td>1.0</td>\n",
              "      <td>1.250000</td>\n",
              "    </tr>\n",
              "    <tr>\n",
              "      <th>...</th>\n",
              "      <td>...</td>\n",
              "      <td>...</td>\n",
              "      <td>...</td>\n",
              "      <td>...</td>\n",
              "      <td>...</td>\n",
              "    </tr>\n",
              "    <tr>\n",
              "      <th>437</th>\n",
              "      <td>[NÃO_Cerveja, Cafe, Manteiga, NÃO_Arroz, Pao]</td>\n",
              "      <td>[NÃO_Feijao]</td>\n",
              "      <td>0.3</td>\n",
              "      <td>1.0</td>\n",
              "      <td>1.250000</td>\n",
              "    </tr>\n",
              "    <tr>\n",
              "      <th>438</th>\n",
              "      <td>[Cafe, Manteiga, NÃO_Feijao, NÃO_Arroz, Pao]</td>\n",
              "      <td>[NÃO_Cerveja]</td>\n",
              "      <td>0.3</td>\n",
              "      <td>1.0</td>\n",
              "      <td>1.250000</td>\n",
              "    </tr>\n",
              "    <tr>\n",
              "      <th>439</th>\n",
              "      <td>[NÃO_Cerveja, Cafe, Manteiga, NÃO_Feijao, Pao]</td>\n",
              "      <td>[NÃO_Arroz]</td>\n",
              "      <td>0.3</td>\n",
              "      <td>1.0</td>\n",
              "      <td>1.250000</td>\n",
              "    </tr>\n",
              "    <tr>\n",
              "      <th>440</th>\n",
              "      <td>[NÃO_Cerveja, Cafe, NÃO_Feijao, NÃO_Arroz, Pao]</td>\n",
              "      <td>[Manteiga]</td>\n",
              "      <td>0.3</td>\n",
              "      <td>1.0</td>\n",
              "      <td>2.000000</td>\n",
              "    </tr>\n",
              "    <tr>\n",
              "      <th>441</th>\n",
              "      <td>[NÃO_Cerveja, Manteiga, NÃO_Feijao, NÃO_Arroz,...</td>\n",
              "      <td>[Cafe]</td>\n",
              "      <td>0.3</td>\n",
              "      <td>1.0</td>\n",
              "      <td>3.333333</td>\n",
              "    </tr>\n",
              "  </tbody>\n",
              "</table>\n",
              "<p>343 rows × 5 columns</p>\n",
              "</div>"
            ],
            "text/plain": [
              "                                                   Lhs            Rhs  \\\n",
              "27                                    [Cafe, Manteiga]    [NÃO_Arroz]   \n",
              "28                                   [Cafe, NÃO_Arroz]     [Manteiga]   \n",
              "30                                    [Cafe, Manteiga]  [NÃO_Cerveja]   \n",
              "31                                 [Cafe, NÃO_Cerveja]     [Manteiga]   \n",
              "33                                    [Cafe, Manteiga]   [NÃO_Feijao]   \n",
              "..                                                 ...            ...   \n",
              "437      [NÃO_Cerveja, Cafe, Manteiga, NÃO_Arroz, Pao]   [NÃO_Feijao]   \n",
              "438       [Cafe, Manteiga, NÃO_Feijao, NÃO_Arroz, Pao]  [NÃO_Cerveja]   \n",
              "439     [NÃO_Cerveja, Cafe, Manteiga, NÃO_Feijao, Pao]    [NÃO_Arroz]   \n",
              "440    [NÃO_Cerveja, Cafe, NÃO_Feijao, NÃO_Arroz, Pao]     [Manteiga]   \n",
              "441  [NÃO_Cerveja, Manteiga, NÃO_Feijao, NÃO_Arroz,...         [Cafe]   \n",
              "\n",
              "     suporte  confianca      lift  \n",
              "27       0.3        1.0  1.250000  \n",
              "28       0.3        1.0  2.000000  \n",
              "30       0.3        1.0  1.250000  \n",
              "31       0.3        1.0  2.000000  \n",
              "33       0.3        1.0  1.250000  \n",
              "..       ...        ...       ...  \n",
              "437      0.3        1.0  1.250000  \n",
              "438      0.3        1.0  1.250000  \n",
              "439      0.3        1.0  1.250000  \n",
              "440      0.3        1.0  2.000000  \n",
              "441      0.3        1.0  3.333333  \n",
              "\n",
              "[343 rows x 5 columns]"
            ]
          },
          "execution_count": 50,
          "metadata": {},
          "output_type": "execute_result"
        }
      ],
      "source": [
        "RegrasFinais"
      ]
    },
    {
      "cell_type": "markdown",
      "metadata": {
        "id": "DJUXykHjhbJ0"
      },
      "source": [
        "**Podemos ordenar estas regras por uma métrica desejada**"
      ]
    },
    {
      "cell_type": "code",
      "execution_count": 51,
      "metadata": {
        "colab": {
          "base_uri": "https://localhost:8080/",
          "height": 959
        },
        "id": "A7X_YwVHhaxf",
        "outputId": "95d4e72b-cfa5-4bba-b5fa-e0f0ae8da836"
      },
      "outputs": [
        {
          "data": {
            "application/vnd.microsoft.datawrangler.viewer.v0+json": {
              "columns": [
                {
                  "name": "index",
                  "rawType": "int64",
                  "type": "integer"
                },
                {
                  "name": "Lhs",
                  "rawType": "object",
                  "type": "unknown"
                },
                {
                  "name": "Rhs",
                  "rawType": "object",
                  "type": "unknown"
                },
                {
                  "name": "suporte",
                  "rawType": "float64",
                  "type": "float"
                },
                {
                  "name": "confianca",
                  "rawType": "float64",
                  "type": "float"
                },
                {
                  "name": "lift",
                  "rawType": "float64",
                  "type": "float"
                }
              ],
              "conversionMethod": "pd.DataFrame",
              "ref": "87dee9f9-aca3-49ed-a06b-4b5315c700cf",
              "rows": [
                [
                  "441",
                  "['NÃO_Cerveja', 'Manteiga', 'NÃO_Feijao', 'NÃO_Arroz', 'Pao']",
                  "['Cafe']",
                  "0.3",
                  "1.0",
                  "3.3333333333333335"
                ],
                [
                  "325",
                  "['Cafe', 'NÃO_Arroz']",
                  "['Manteiga', 'Pao', 'NÃO_Cerveja']",
                  "0.3",
                  "1.0",
                  "3.3333333333333335"
                ],
                [
                  "339",
                  "['Manteiga', 'Pao', 'NÃO_Arroz', 'NÃO_Cerveja']",
                  "['Cafe']",
                  "0.3",
                  "1.0",
                  "3.3333333333333335"
                ],
                [
                  "423",
                  "['Manteiga', 'Pao', 'NÃO_Cerveja']",
                  "['Cafe', 'NÃO_Feijao', 'NÃO_Arroz']",
                  "0.3",
                  "1.0",
                  "3.3333333333333335"
                ],
                [
                  "176",
                  "['Manteiga', 'Pao', 'NÃO_Cerveja']",
                  "['Cafe']",
                  "0.3",
                  "1.0",
                  "3.3333333333333335"
                ],
                [
                  "334",
                  "['Manteiga', 'Pao', 'NÃO_Cerveja']",
                  "['Cafe', 'NÃO_Arroz']",
                  "0.3",
                  "1.0",
                  "3.3333333333333335"
                ],
                [
                  "411",
                  "['Cafe', 'NÃO_Feijao']",
                  "['Manteiga', 'Pao', 'NÃO_Arroz', 'NÃO_Cerveja']",
                  "0.3",
                  "1.0",
                  "3.3333333333333335"
                ],
                [
                  "358",
                  "['Cafe', 'NÃO_Feijao']",
                  "['Manteiga', 'Pao', 'NÃO_Cerveja']",
                  "0.3",
                  "1.0",
                  "3.3333333333333335"
                ],
                [
                  "418",
                  "['Cafe', 'NÃO_Feijao', 'NÃO_Arroz']",
                  "['Manteiga', 'Pao', 'NÃO_Cerveja']",
                  "0.3",
                  "1.0",
                  "3.3333333333333335"
                ],
                [
                  "409",
                  "['Cafe', 'NÃO_Arroz']",
                  "['Manteiga', 'NÃO_Feijao', 'Pao', 'NÃO_Cerveja']",
                  "0.3",
                  "1.0",
                  "3.3333333333333335"
                ],
                [
                  "434",
                  "['Manteiga', 'Pao', 'NÃO_Arroz', 'NÃO_Cerveja']",
                  "['Cafe', 'NÃO_Feijao']",
                  "0.3",
                  "1.0",
                  "3.3333333333333335"
                ],
                [
                  "435",
                  "['Manteiga', 'NÃO_Feijao', 'Pao', 'NÃO_Cerveja']",
                  "['Cafe', 'NÃO_Arroz']",
                  "0.3",
                  "1.0",
                  "3.3333333333333335"
                ],
                [
                  "366",
                  "['Manteiga', 'Pao', 'NÃO_Cerveja']",
                  "['Cafe', 'NÃO_Feijao']",
                  "0.3",
                  "1.0",
                  "3.3333333333333335"
                ],
                [
                  "371",
                  "['Manteiga', 'NÃO_Feijao', 'Pao', 'NÃO_Cerveja']",
                  "['Cafe']",
                  "0.3",
                  "1.0",
                  "3.3333333333333335"
                ],
                [
                  "361",
                  "['Cafe', 'NÃO_Feijao', 'Manteiga']",
                  "['Pao', 'NÃO_Cerveja']",
                  "0.3",
                  "1.0",
                  "2.5"
                ],
                [
                  "359",
                  "['Cafe', 'Pao']",
                  "['Manteiga', 'NÃO_Feijao', 'NÃO_Cerveja']",
                  "0.3",
                  "1.0",
                  "2.5"
                ],
                [
                  "363",
                  "['Cafe', 'NÃO_Feijao', 'NÃO_Cerveja']",
                  "['Manteiga', 'Pao']",
                  "0.3",
                  "1.0",
                  "2.5"
                ],
                [
                  "357",
                  "['Cafe', 'NÃO_Cerveja']",
                  "['Manteiga', 'NÃO_Feijao', 'Pao']",
                  "0.3",
                  "1.0",
                  "2.5"
                ],
                [
                  "365",
                  "['Cafe', 'NÃO_Feijao', 'Pao']",
                  "['Manteiga', 'NÃO_Cerveja']",
                  "0.3",
                  "1.0",
                  "2.5"
                ],
                [
                  "356",
                  "['Cafe', 'Manteiga']",
                  "['NÃO_Feijao', 'Pao', 'NÃO_Cerveja']",
                  "0.3",
                  "1.0",
                  "2.5"
                ],
                [
                  "348",
                  "['Cafe', 'NÃO_Feijao', 'NÃO_Arroz']",
                  "['Manteiga', 'Pao']",
                  "0.3",
                  "1.0",
                  "2.5"
                ],
                [
                  "143",
                  "['Cafe', 'NÃO_Arroz']",
                  "['Manteiga', 'NÃO_Cerveja']",
                  "0.3",
                  "1.0",
                  "2.5"
                ],
                [
                  "342",
                  "['Cafe', 'NÃO_Arroz']",
                  "['Manteiga', 'NÃO_Feijao', 'Pao']",
                  "0.3",
                  "1.0",
                  "2.5"
                ],
                [
                  "373",
                  "['Cafe', 'NÃO_Arroz']",
                  "['NÃO_Feijao', 'Pao', 'NÃO_Cerveja']",
                  "0.3",
                  "1.0",
                  "2.5"
                ],
                [
                  "157",
                  "['Cafe', 'NÃO_Arroz']",
                  "['Manteiga', 'Pao']",
                  "0.3",
                  "1.0",
                  "2.5"
                ],
                [
                  "171",
                  "['Cafe', 'NÃO_Cerveja']",
                  "['Manteiga', 'Pao']",
                  "0.3",
                  "1.0",
                  "2.5"
                ],
                [
                  "165",
                  "['Cafe', 'NÃO_Feijao']",
                  "['Manteiga', 'NÃO_Cerveja']",
                  "0.3",
                  "1.0",
                  "2.5"
                ],
                [
                  "327",
                  "['Cafe', 'Pao']",
                  "['Manteiga', 'NÃO_Arroz', 'NÃO_Cerveja']",
                  "0.3",
                  "1.0",
                  "2.5"
                ],
                [
                  "310",
                  "['Cafe', 'NÃO_Arroz']",
                  "['Manteiga', 'NÃO_Feijao', 'NÃO_Cerveja']",
                  "0.3",
                  "1.0",
                  "2.5"
                ],
                [
                  "312",
                  "['Cafe', 'NÃO_Feijao']",
                  "['Manteiga', 'NÃO_Arroz', 'NÃO_Cerveja']",
                  "0.3",
                  "1.0",
                  "2.5"
                ],
                [
                  "317",
                  "['Cafe', 'NÃO_Feijao', 'NÃO_Arroz']",
                  "['Manteiga', 'NÃO_Cerveja']",
                  "0.3",
                  "1.0",
                  "2.5"
                ],
                [
                  "324",
                  "['Cafe', 'Manteiga']",
                  "['Pao', 'NÃO_Arroz', 'NÃO_Cerveja']",
                  "0.3",
                  "1.0",
                  "2.5"
                ],
                [
                  "207",
                  "['Cafe', 'NÃO_Feijao']",
                  "['Pao', 'NÃO_Cerveja']",
                  "0.3",
                  "1.0",
                  "2.5"
                ],
                [
                  "326",
                  "['Cafe', 'NÃO_Cerveja']",
                  "['Manteiga', 'Pao', 'NÃO_Arroz']",
                  "0.3",
                  "1.0",
                  "2.5"
                ],
                [
                  "328",
                  "['Cafe', 'Manteiga', 'NÃO_Arroz']",
                  "['Pao', 'NÃO_Cerveja']",
                  "0.3",
                  "1.0",
                  "2.5"
                ],
                [
                  "170",
                  "['Cafe', 'Manteiga']",
                  "['Pao', 'NÃO_Cerveja']",
                  "0.3",
                  "1.0",
                  "2.5"
                ],
                [
                  "192",
                  "['Cafe', 'NÃO_Arroz']",
                  "['Pao', 'NÃO_Cerveja']",
                  "0.3",
                  "1.0",
                  "2.5"
                ],
                [
                  "331",
                  "['Cafe', 'NÃO_Arroz', 'NÃO_Cerveja']",
                  "['Manteiga', 'Pao']",
                  "0.3",
                  "1.0",
                  "2.5"
                ],
                [
                  "332",
                  "['Cafe', 'Pao', 'NÃO_Arroz']",
                  "['Manteiga', 'NÃO_Cerveja']",
                  "0.3",
                  "1.0",
                  "2.5"
                ],
                [
                  "179",
                  "['Cafe', 'NÃO_Feijao']",
                  "['Manteiga', 'Pao']",
                  "0.3",
                  "1.0",
                  "2.5"
                ],
                [
                  "172",
                  "['Cafe', 'Pao']",
                  "['Manteiga', 'NÃO_Cerveja']",
                  "0.3",
                  "1.0",
                  "2.5"
                ],
                [
                  "378",
                  "['Cafe', 'NÃO_Feijao', 'NÃO_Arroz']",
                  "['Pao', 'NÃO_Cerveja']",
                  "0.3",
                  "1.0",
                  "2.5"
                ],
                [
                  "375",
                  "['Cafe', 'NÃO_Feijao']",
                  "['Pao', 'NÃO_Arroz', 'NÃO_Cerveja']",
                  "0.3",
                  "1.0",
                  "2.5"
                ],
                [
                  "343",
                  "['Cafe', 'NÃO_Feijao']",
                  "['Manteiga', 'Pao', 'NÃO_Arroz']",
                  "0.3",
                  "1.0",
                  "2.5"
                ],
                [
                  "412",
                  "['Cafe', 'Pao']",
                  "['Manteiga', 'NÃO_Feijao', 'NÃO_Arroz', 'NÃO_Cerveja']",
                  "0.3",
                  "1.0",
                  "2.5"
                ],
                [
                  "422",
                  "['Cafe', 'NÃO_Feijao', 'Pao']",
                  "['Manteiga', 'NÃO_Arroz', 'NÃO_Cerveja']",
                  "0.3",
                  "1.0",
                  "2.5"
                ],
                [
                  "413",
                  "['Cafe', 'Manteiga', 'NÃO_Arroz']",
                  "['NÃO_Feijao', 'Pao', 'NÃO_Cerveja']",
                  "0.3",
                  "1.0",
                  "2.5"
                ],
                [
                  "410",
                  "['Cafe', 'NÃO_Cerveja']",
                  "['Manteiga', 'Pao', 'NÃO_Feijao', 'NÃO_Arroz']",
                  "0.3",
                  "1.0",
                  "2.5"
                ],
                [
                  "408",
                  "['Cafe', 'Manteiga']",
                  "['Pao', 'NÃO_Feijao', 'NÃO_Arroz', 'NÃO_Cerveja']",
                  "0.3",
                  "1.0",
                  "2.5"
                ],
                [
                  "415",
                  "['Cafe', 'NÃO_Feijao', 'Manteiga']",
                  "['Pao', 'NÃO_Arroz', 'NÃO_Cerveja']",
                  "0.3",
                  "1.0",
                  "2.5"
                ]
              ],
              "shape": {
                "columns": 5,
                "rows": 343
              }
            },
            "text/html": [
              "<div>\n",
              "<style scoped>\n",
              "    .dataframe tbody tr th:only-of-type {\n",
              "        vertical-align: middle;\n",
              "    }\n",
              "\n",
              "    .dataframe tbody tr th {\n",
              "        vertical-align: top;\n",
              "    }\n",
              "\n",
              "    .dataframe thead th {\n",
              "        text-align: right;\n",
              "    }\n",
              "</style>\n",
              "<table border=\"1\" class=\"dataframe\">\n",
              "  <thead>\n",
              "    <tr style=\"text-align: right;\">\n",
              "      <th></th>\n",
              "      <th>Lhs</th>\n",
              "      <th>Rhs</th>\n",
              "      <th>suporte</th>\n",
              "      <th>confianca</th>\n",
              "      <th>lift</th>\n",
              "    </tr>\n",
              "  </thead>\n",
              "  <tbody>\n",
              "    <tr>\n",
              "      <th>441</th>\n",
              "      <td>[NÃO_Cerveja, Manteiga, NÃO_Feijao, NÃO_Arroz,...</td>\n",
              "      <td>[Cafe]</td>\n",
              "      <td>0.3</td>\n",
              "      <td>1.000000</td>\n",
              "      <td>3.333333</td>\n",
              "    </tr>\n",
              "    <tr>\n",
              "      <th>325</th>\n",
              "      <td>[Cafe, NÃO_Arroz]</td>\n",
              "      <td>[Manteiga, Pao, NÃO_Cerveja]</td>\n",
              "      <td>0.3</td>\n",
              "      <td>1.000000</td>\n",
              "      <td>3.333333</td>\n",
              "    </tr>\n",
              "    <tr>\n",
              "      <th>339</th>\n",
              "      <td>[Manteiga, Pao, NÃO_Arroz, NÃO_Cerveja]</td>\n",
              "      <td>[Cafe]</td>\n",
              "      <td>0.3</td>\n",
              "      <td>1.000000</td>\n",
              "      <td>3.333333</td>\n",
              "    </tr>\n",
              "    <tr>\n",
              "      <th>423</th>\n",
              "      <td>[Manteiga, Pao, NÃO_Cerveja]</td>\n",
              "      <td>[Cafe, NÃO_Feijao, NÃO_Arroz]</td>\n",
              "      <td>0.3</td>\n",
              "      <td>1.000000</td>\n",
              "      <td>3.333333</td>\n",
              "    </tr>\n",
              "    <tr>\n",
              "      <th>176</th>\n",
              "      <td>[Manteiga, Pao, NÃO_Cerveja]</td>\n",
              "      <td>[Cafe]</td>\n",
              "      <td>0.3</td>\n",
              "      <td>1.000000</td>\n",
              "      <td>3.333333</td>\n",
              "    </tr>\n",
              "    <tr>\n",
              "      <th>...</th>\n",
              "      <td>...</td>\n",
              "      <td>...</td>\n",
              "      <td>...</td>\n",
              "      <td>...</td>\n",
              "      <td>...</td>\n",
              "    </tr>\n",
              "    <tr>\n",
              "      <th>122</th>\n",
              "      <td>[NÃO_Feijao, NÃO_Leite]</td>\n",
              "      <td>[NÃO_Cerveja]</td>\n",
              "      <td>0.5</td>\n",
              "      <td>0.833333</td>\n",
              "      <td>1.041667</td>\n",
              "    </tr>\n",
              "    <tr>\n",
              "      <th>87</th>\n",
              "      <td>[NÃO_Leite, NÃO_Arroz]</td>\n",
              "      <td>[NÃO_Feijao]</td>\n",
              "      <td>0.5</td>\n",
              "      <td>0.833333</td>\n",
              "      <td>1.041667</td>\n",
              "    </tr>\n",
              "    <tr>\n",
              "      <th>88</th>\n",
              "      <td>[NÃO_Feijao, NÃO_Leite]</td>\n",
              "      <td>[NÃO_Arroz]</td>\n",
              "      <td>0.5</td>\n",
              "      <td>0.833333</td>\n",
              "      <td>1.041667</td>\n",
              "    </tr>\n",
              "    <tr>\n",
              "      <th>96</th>\n",
              "      <td>[NÃO_Leite, NÃO_Cafe]</td>\n",
              "      <td>[NÃO_Cerveja]</td>\n",
              "      <td>0.5</td>\n",
              "      <td>0.833333</td>\n",
              "      <td>1.041667</td>\n",
              "    </tr>\n",
              "    <tr>\n",
              "      <th>83</th>\n",
              "      <td>[NÃO_Leite, NÃO_Arroz]</td>\n",
              "      <td>[NÃO_Cerveja]</td>\n",
              "      <td>0.5</td>\n",
              "      <td>0.833333</td>\n",
              "      <td>1.041667</td>\n",
              "    </tr>\n",
              "  </tbody>\n",
              "</table>\n",
              "<p>343 rows × 5 columns</p>\n",
              "</div>"
            ],
            "text/plain": [
              "                                                   Lhs  \\\n",
              "441  [NÃO_Cerveja, Manteiga, NÃO_Feijao, NÃO_Arroz,...   \n",
              "325                                  [Cafe, NÃO_Arroz]   \n",
              "339            [Manteiga, Pao, NÃO_Arroz, NÃO_Cerveja]   \n",
              "423                       [Manteiga, Pao, NÃO_Cerveja]   \n",
              "176                       [Manteiga, Pao, NÃO_Cerveja]   \n",
              "..                                                 ...   \n",
              "122                            [NÃO_Feijao, NÃO_Leite]   \n",
              "87                              [NÃO_Leite, NÃO_Arroz]   \n",
              "88                             [NÃO_Feijao, NÃO_Leite]   \n",
              "96                               [NÃO_Leite, NÃO_Cafe]   \n",
              "83                              [NÃO_Leite, NÃO_Arroz]   \n",
              "\n",
              "                               Rhs  suporte  confianca      lift  \n",
              "441                         [Cafe]      0.3   1.000000  3.333333  \n",
              "325   [Manteiga, Pao, NÃO_Cerveja]      0.3   1.000000  3.333333  \n",
              "339                         [Cafe]      0.3   1.000000  3.333333  \n",
              "423  [Cafe, NÃO_Feijao, NÃO_Arroz]      0.3   1.000000  3.333333  \n",
              "176                         [Cafe]      0.3   1.000000  3.333333  \n",
              "..                             ...      ...        ...       ...  \n",
              "122                  [NÃO_Cerveja]      0.5   0.833333  1.041667  \n",
              "87                    [NÃO_Feijao]      0.5   0.833333  1.041667  \n",
              "88                     [NÃO_Arroz]      0.5   0.833333  1.041667  \n",
              "96                   [NÃO_Cerveja]      0.5   0.833333  1.041667  \n",
              "83                   [NÃO_Cerveja]      0.5   0.833333  1.041667  \n",
              "\n",
              "[343 rows x 5 columns]"
            ]
          },
          "execution_count": 51,
          "metadata": {},
          "output_type": "execute_result"
        }
      ],
      "source": [
        "RegrasFinais.sort_values(by='lift', ascending =False)"
      ]
    }
  ],
  "metadata": {
    "colab": {
      "collapsed_sections": [],
      "provenance": []
    },
    "kernelspec": {
      "display_name": "Python 3",
      "name": "python3"
    },
    "language_info": {
      "codemirror_mode": {
        "name": "ipython",
        "version": 3
      },
      "file_extension": ".py",
      "mimetype": "text/x-python",
      "name": "python",
      "nbconvert_exporter": "python",
      "pygments_lexer": "ipython3",
      "version": "3.12.3"
    }
  },
  "nbformat": 4,
  "nbformat_minor": 0
}
