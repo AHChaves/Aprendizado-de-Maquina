{
  "cells": [
    {
      "cell_type": "markdown",
      "metadata": {
        "id": "vWFW_ECYPktU"
      },
      "source": [
        "**Importando bibliotecas**"
      ]
    },
    {
      "cell_type": "code",
      "execution_count": 1,
      "metadata": {
        "id": "kkOvJnL-P1QQ"
      },
      "outputs": [],
      "source": [
        "import pandas as pd\n",
        "import numpy as np\n",
        "import seaborn as sns\n",
        "import matplotlib.pyplot as plt\n",
        "import plotly.express as px"
      ]
    },
    {
      "cell_type": "markdown",
      "metadata": {
        "id": "A5YB5ubEQfaE"
      },
      "source": [
        "**Abrindo um arquivo CSV do drive**"
      ]
    },
    {
      "cell_type": "code",
      "execution_count": 2,
      "metadata": {
        "id": "3rzDkhcBQddF"
      },
      "outputs": [],
      "source": [
        "base = pd.read_csv('restaurantev2.csv', sep=';', encoding='latin-1')"
      ]
    },
    {
      "cell_type": "markdown",
      "metadata": {
        "id": "y-g8wDMln18q"
      },
      "source": [
        "**Você também pode carregar seu arquivo e já selecionar as colunas que desejar... investigue esta função**"
      ]
    },
    {
      "cell_type": "code",
      "execution_count": 3,
      "metadata": {
        "id": "i8-ualmHV-VU"
      },
      "outputs": [],
      "source": [
        "#base2 = pd.read_csv('/content/sample_data/restaurante_correto.csv', ';', usecols=['Alternativo', 'Bar'])\n",
        "#base2"
      ]
    },
    {
      "cell_type": "code",
      "execution_count": 4,
      "metadata": {
        "colab": {
          "base_uri": "https://localhost:8080/",
          "height": 425
        },
        "id": "SFVtNXxPUAnR",
        "outputId": "1c9864b1-8306-4e7d-9638-cd46867f2fbc"
      },
      "outputs": [
        {
          "data": {
            "application/vnd.microsoft.datawrangler.viewer.v0+json": {
              "columns": [
                {
                  "name": "index",
                  "rawType": "int64",
                  "type": "integer"
                },
                {
                  "name": "Exemplo",
                  "rawType": "object",
                  "type": "string"
                },
                {
                  "name": "Alternativo",
                  "rawType": "object",
                  "type": "string"
                },
                {
                  "name": "Bar",
                  "rawType": "object",
                  "type": "string"
                },
                {
                  "name": "Sex/Sab",
                  "rawType": "object",
                  "type": "string"
                },
                {
                  "name": "fome",
                  "rawType": "object",
                  "type": "string"
                },
                {
                  "name": "Cliente",
                  "rawType": "object",
                  "type": "string"
                },
                {
                  "name": "Preço",
                  "rawType": "object",
                  "type": "string"
                },
                {
                  "name": "Chuva",
                  "rawType": "object",
                  "type": "string"
                },
                {
                  "name": "Res",
                  "rawType": "object",
                  "type": "string"
                },
                {
                  "name": "Tipo",
                  "rawType": "object",
                  "type": "string"
                },
                {
                  "name": "Tempo",
                  "rawType": "object",
                  "type": "string"
                },
                {
                  "name": "conc",
                  "rawType": "object",
                  "type": "string"
                }
              ],
              "conversionMethod": "pd.DataFrame",
              "ref": "80040d35-244e-43a5-8baa-7b0f4b8f32d7",
              "rows": [
                [
                  "0",
                  "X1",
                  "Sim",
                  "Não",
                  "Não",
                  "Sim",
                  "Alguns",
                  "RRR",
                  "Não",
                  "Sim",
                  "Francês",
                  "0-10",
                  "Sim"
                ],
                [
                  "1",
                  "x2",
                  "Sim",
                  "Não",
                  "Não",
                  "Sim",
                  "Cheio",
                  "R",
                  "Não",
                  "Não",
                  "Tailandês",
                  "30-60",
                  "Não"
                ],
                [
                  "2",
                  "x3",
                  "Não",
                  "Sim",
                  "Não",
                  "Não",
                  "Alguns",
                  "R",
                  "Não",
                  "Não",
                  "Hamburger",
                  "0-10",
                  "Sim"
                ],
                [
                  "3",
                  "x4",
                  "Sim",
                  "Não",
                  "Sim",
                  "Sim",
                  "Cheio",
                  "R",
                  "Sim",
                  "Não",
                  "Tailandês",
                  "out/30",
                  "Sim"
                ],
                [
                  "4",
                  "X5",
                  "Sim",
                  "Não",
                  "Sim",
                  "Não",
                  "Cheio",
                  "RRR",
                  "Não",
                  "Sim",
                  "Francês",
                  ">60",
                  "Não"
                ],
                [
                  "5",
                  "X6",
                  "Não",
                  "Sim",
                  "Não",
                  "Sim",
                  "Alguns",
                  "RR",
                  "Sim",
                  "Sim",
                  "Italiano",
                  "0-10",
                  "Sim"
                ],
                [
                  "6",
                  "X7",
                  "Não",
                  "Sim",
                  "Não",
                  "Não",
                  "Nenhum",
                  "R",
                  "Sim",
                  "Não",
                  "Hamburger",
                  "0-10",
                  "Não"
                ],
                [
                  "7",
                  "X8",
                  "Não",
                  "Não",
                  "Não",
                  "Sim",
                  "Alguns",
                  "RR",
                  "Sim",
                  "Sim",
                  "Tailandês",
                  "0-10",
                  "Sim"
                ],
                [
                  "8",
                  "X9",
                  "Não",
                  "Sim",
                  "Sim",
                  "Não",
                  "Cheio",
                  "R",
                  "Sim",
                  "Não",
                  "Hamburger",
                  ">60",
                  "Não"
                ],
                [
                  "9",
                  "X10",
                  "Sim",
                  "Sim",
                  "Sim",
                  "Sim",
                  "Cheio",
                  "RRR",
                  "Não",
                  "Sim",
                  "Italiano",
                  "out/30",
                  "Não"
                ],
                [
                  "10",
                  "X11",
                  "Não",
                  "Não",
                  "Não",
                  "Não",
                  "Nenhum",
                  "R",
                  "Não",
                  "Não",
                  "Tailandês",
                  "0-10",
                  "Não"
                ],
                [
                  "11",
                  "X12",
                  "Sim",
                  "Sim",
                  "Sim",
                  "Sim",
                  "Cheio",
                  "R",
                  "Não",
                  "Não",
                  "Hamburger",
                  "30-60",
                  "Sim"
                ]
              ],
              "shape": {
                "columns": 12,
                "rows": 12
              }
            },
            "text/html": [
              "<div>\n",
              "<style scoped>\n",
              "    .dataframe tbody tr th:only-of-type {\n",
              "        vertical-align: middle;\n",
              "    }\n",
              "\n",
              "    .dataframe tbody tr th {\n",
              "        vertical-align: top;\n",
              "    }\n",
              "\n",
              "    .dataframe thead th {\n",
              "        text-align: right;\n",
              "    }\n",
              "</style>\n",
              "<table border=\"1\" class=\"dataframe\">\n",
              "  <thead>\n",
              "    <tr style=\"text-align: right;\">\n",
              "      <th></th>\n",
              "      <th>Exemplo</th>\n",
              "      <th>Alternativo</th>\n",
              "      <th>Bar</th>\n",
              "      <th>Sex/Sab</th>\n",
              "      <th>fome</th>\n",
              "      <th>Cliente</th>\n",
              "      <th>Preço</th>\n",
              "      <th>Chuva</th>\n",
              "      <th>Res</th>\n",
              "      <th>Tipo</th>\n",
              "      <th>Tempo</th>\n",
              "      <th>conc</th>\n",
              "    </tr>\n",
              "  </thead>\n",
              "  <tbody>\n",
              "    <tr>\n",
              "      <th>0</th>\n",
              "      <td>X1</td>\n",
              "      <td>Sim</td>\n",
              "      <td>Não</td>\n",
              "      <td>Não</td>\n",
              "      <td>Sim</td>\n",
              "      <td>Alguns</td>\n",
              "      <td>RRR</td>\n",
              "      <td>Não</td>\n",
              "      <td>Sim</td>\n",
              "      <td>Francês</td>\n",
              "      <td>0-10</td>\n",
              "      <td>Sim</td>\n",
              "    </tr>\n",
              "    <tr>\n",
              "      <th>1</th>\n",
              "      <td>x2</td>\n",
              "      <td>Sim</td>\n",
              "      <td>Não</td>\n",
              "      <td>Não</td>\n",
              "      <td>Sim</td>\n",
              "      <td>Cheio</td>\n",
              "      <td>R</td>\n",
              "      <td>Não</td>\n",
              "      <td>Não</td>\n",
              "      <td>Tailandês</td>\n",
              "      <td>30-60</td>\n",
              "      <td>Não</td>\n",
              "    </tr>\n",
              "    <tr>\n",
              "      <th>2</th>\n",
              "      <td>x3</td>\n",
              "      <td>Não</td>\n",
              "      <td>Sim</td>\n",
              "      <td>Não</td>\n",
              "      <td>Não</td>\n",
              "      <td>Alguns</td>\n",
              "      <td>R</td>\n",
              "      <td>Não</td>\n",
              "      <td>Não</td>\n",
              "      <td>Hamburger</td>\n",
              "      <td>0-10</td>\n",
              "      <td>Sim</td>\n",
              "    </tr>\n",
              "    <tr>\n",
              "      <th>3</th>\n",
              "      <td>x4</td>\n",
              "      <td>Sim</td>\n",
              "      <td>Não</td>\n",
              "      <td>Sim</td>\n",
              "      <td>Sim</td>\n",
              "      <td>Cheio</td>\n",
              "      <td>R</td>\n",
              "      <td>Sim</td>\n",
              "      <td>Não</td>\n",
              "      <td>Tailandês</td>\n",
              "      <td>out/30</td>\n",
              "      <td>Sim</td>\n",
              "    </tr>\n",
              "    <tr>\n",
              "      <th>4</th>\n",
              "      <td>X5</td>\n",
              "      <td>Sim</td>\n",
              "      <td>Não</td>\n",
              "      <td>Sim</td>\n",
              "      <td>Não</td>\n",
              "      <td>Cheio</td>\n",
              "      <td>RRR</td>\n",
              "      <td>Não</td>\n",
              "      <td>Sim</td>\n",
              "      <td>Francês</td>\n",
              "      <td>&gt;60</td>\n",
              "      <td>Não</td>\n",
              "    </tr>\n",
              "    <tr>\n",
              "      <th>5</th>\n",
              "      <td>X6</td>\n",
              "      <td>Não</td>\n",
              "      <td>Sim</td>\n",
              "      <td>Não</td>\n",
              "      <td>Sim</td>\n",
              "      <td>Alguns</td>\n",
              "      <td>RR</td>\n",
              "      <td>Sim</td>\n",
              "      <td>Sim</td>\n",
              "      <td>Italiano</td>\n",
              "      <td>0-10</td>\n",
              "      <td>Sim</td>\n",
              "    </tr>\n",
              "    <tr>\n",
              "      <th>6</th>\n",
              "      <td>X7</td>\n",
              "      <td>Não</td>\n",
              "      <td>Sim</td>\n",
              "      <td>Não</td>\n",
              "      <td>Não</td>\n",
              "      <td>Nenhum</td>\n",
              "      <td>R</td>\n",
              "      <td>Sim</td>\n",
              "      <td>Não</td>\n",
              "      <td>Hamburger</td>\n",
              "      <td>0-10</td>\n",
              "      <td>Não</td>\n",
              "    </tr>\n",
              "    <tr>\n",
              "      <th>7</th>\n",
              "      <td>X8</td>\n",
              "      <td>Não</td>\n",
              "      <td>Não</td>\n",
              "      <td>Não</td>\n",
              "      <td>Sim</td>\n",
              "      <td>Alguns</td>\n",
              "      <td>RR</td>\n",
              "      <td>Sim</td>\n",
              "      <td>Sim</td>\n",
              "      <td>Tailandês</td>\n",
              "      <td>0-10</td>\n",
              "      <td>Sim</td>\n",
              "    </tr>\n",
              "    <tr>\n",
              "      <th>8</th>\n",
              "      <td>X9</td>\n",
              "      <td>Não</td>\n",
              "      <td>Sim</td>\n",
              "      <td>Sim</td>\n",
              "      <td>Não</td>\n",
              "      <td>Cheio</td>\n",
              "      <td>R</td>\n",
              "      <td>Sim</td>\n",
              "      <td>Não</td>\n",
              "      <td>Hamburger</td>\n",
              "      <td>&gt;60</td>\n",
              "      <td>Não</td>\n",
              "    </tr>\n",
              "    <tr>\n",
              "      <th>9</th>\n",
              "      <td>X10</td>\n",
              "      <td>Sim</td>\n",
              "      <td>Sim</td>\n",
              "      <td>Sim</td>\n",
              "      <td>Sim</td>\n",
              "      <td>Cheio</td>\n",
              "      <td>RRR</td>\n",
              "      <td>Não</td>\n",
              "      <td>Sim</td>\n",
              "      <td>Italiano</td>\n",
              "      <td>out/30</td>\n",
              "      <td>Não</td>\n",
              "    </tr>\n",
              "    <tr>\n",
              "      <th>10</th>\n",
              "      <td>X11</td>\n",
              "      <td>Não</td>\n",
              "      <td>Não</td>\n",
              "      <td>Não</td>\n",
              "      <td>Não</td>\n",
              "      <td>Nenhum</td>\n",
              "      <td>R</td>\n",
              "      <td>Não</td>\n",
              "      <td>Não</td>\n",
              "      <td>Tailandês</td>\n",
              "      <td>0-10</td>\n",
              "      <td>Não</td>\n",
              "    </tr>\n",
              "    <tr>\n",
              "      <th>11</th>\n",
              "      <td>X12</td>\n",
              "      <td>Sim</td>\n",
              "      <td>Sim</td>\n",
              "      <td>Sim</td>\n",
              "      <td>Sim</td>\n",
              "      <td>Cheio</td>\n",
              "      <td>R</td>\n",
              "      <td>Não</td>\n",
              "      <td>Não</td>\n",
              "      <td>Hamburger</td>\n",
              "      <td>30-60</td>\n",
              "      <td>Sim</td>\n",
              "    </tr>\n",
              "  </tbody>\n",
              "</table>\n",
              "</div>"
            ],
            "text/plain": [
              "   Exemplo Alternativo  Bar Sex/Sab fome Cliente Preço Chuva  Res       Tipo  \\\n",
              "0       X1         Sim  Não     Não  Sim  Alguns   RRR   Não  Sim    Francês   \n",
              "1       x2         Sim  Não     Não  Sim   Cheio     R   Não  Não  Tailandês   \n",
              "2       x3         Não  Sim     Não  Não  Alguns     R   Não  Não  Hamburger   \n",
              "3       x4         Sim  Não     Sim  Sim   Cheio     R   Sim  Não  Tailandês   \n",
              "4       X5         Sim  Não     Sim  Não   Cheio   RRR   Não  Sim    Francês   \n",
              "5       X6         Não  Sim     Não  Sim  Alguns    RR   Sim  Sim   Italiano   \n",
              "6       X7         Não  Sim     Não  Não  Nenhum     R   Sim  Não  Hamburger   \n",
              "7       X8         Não  Não     Não  Sim  Alguns    RR   Sim  Sim  Tailandês   \n",
              "8       X9         Não  Sim     Sim  Não   Cheio     R   Sim  Não  Hamburger   \n",
              "9      X10         Sim  Sim     Sim  Sim   Cheio   RRR   Não  Sim   Italiano   \n",
              "10     X11         Não  Não     Não  Não  Nenhum     R   Não  Não  Tailandês   \n",
              "11     X12         Sim  Sim     Sim  Sim   Cheio     R   Não  Não  Hamburger   \n",
              "\n",
              "     Tempo conc  \n",
              "0     0-10  Sim  \n",
              "1    30-60  Não  \n",
              "2     0-10  Sim  \n",
              "3   out/30  Sim  \n",
              "4      >60  Não  \n",
              "5     0-10  Sim  \n",
              "6     0-10  Não  \n",
              "7     0-10  Sim  \n",
              "8      >60  Não  \n",
              "9   out/30  Não  \n",
              "10    0-10  Não  \n",
              "11   30-60  Sim  "
            ]
          },
          "execution_count": 4,
          "metadata": {},
          "output_type": "execute_result"
        }
      ],
      "source": [
        "base"
      ]
    },
    {
      "cell_type": "code",
      "execution_count": 5,
      "metadata": {},
      "outputs": [],
      "source": [
        "base.drop(columns='Exemplo',inplace=True)"
      ]
    },
    {
      "cell_type": "code",
      "execution_count": 6,
      "metadata": {
        "colab": {
          "base_uri": "https://localhost:8080/",
          "height": 143
        },
        "id": "WtFD-X3YVI4B",
        "outputId": "0d18c95c-5153-48d7-d862-7e1ad7a3ba2a"
      },
      "outputs": [
        {
          "data": {
            "application/vnd.microsoft.datawrangler.viewer.v0+json": {
              "columns": [
                {
                  "name": "index",
                  "rawType": "int64",
                  "type": "integer"
                },
                {
                  "name": "Alternativo",
                  "rawType": "object",
                  "type": "string"
                },
                {
                  "name": "Bar",
                  "rawType": "object",
                  "type": "string"
                },
                {
                  "name": "Sex/Sab",
                  "rawType": "object",
                  "type": "string"
                },
                {
                  "name": "fome",
                  "rawType": "object",
                  "type": "string"
                },
                {
                  "name": "Cliente",
                  "rawType": "object",
                  "type": "string"
                },
                {
                  "name": "Preço",
                  "rawType": "object",
                  "type": "string"
                },
                {
                  "name": "Chuva",
                  "rawType": "object",
                  "type": "string"
                },
                {
                  "name": "Res",
                  "rawType": "object",
                  "type": "string"
                },
                {
                  "name": "Tipo",
                  "rawType": "object",
                  "type": "string"
                },
                {
                  "name": "Tempo",
                  "rawType": "object",
                  "type": "string"
                },
                {
                  "name": "conc",
                  "rawType": "object",
                  "type": "string"
                }
              ],
              "conversionMethod": "pd.DataFrame",
              "ref": "ff075d37-deb5-4292-8989-324dac6866e3",
              "rows": [
                [
                  "0",
                  "Sim",
                  "Não",
                  "Não",
                  "Sim",
                  "Alguns",
                  "RRR",
                  "Não",
                  "Sim",
                  "Francês",
                  "0-10",
                  "Sim"
                ],
                [
                  "1",
                  "Sim",
                  "Não",
                  "Não",
                  "Sim",
                  "Cheio",
                  "R",
                  "Não",
                  "Não",
                  "Tailandês",
                  "30-60",
                  "Não"
                ],
                [
                  "2",
                  "Não",
                  "Sim",
                  "Não",
                  "Não",
                  "Alguns",
                  "R",
                  "Não",
                  "Não",
                  "Hamburger",
                  "0-10",
                  "Sim"
                ]
              ],
              "shape": {
                "columns": 11,
                "rows": 3
              }
            },
            "text/html": [
              "<div>\n",
              "<style scoped>\n",
              "    .dataframe tbody tr th:only-of-type {\n",
              "        vertical-align: middle;\n",
              "    }\n",
              "\n",
              "    .dataframe tbody tr th {\n",
              "        vertical-align: top;\n",
              "    }\n",
              "\n",
              "    .dataframe thead th {\n",
              "        text-align: right;\n",
              "    }\n",
              "</style>\n",
              "<table border=\"1\" class=\"dataframe\">\n",
              "  <thead>\n",
              "    <tr style=\"text-align: right;\">\n",
              "      <th></th>\n",
              "      <th>Alternativo</th>\n",
              "      <th>Bar</th>\n",
              "      <th>Sex/Sab</th>\n",
              "      <th>fome</th>\n",
              "      <th>Cliente</th>\n",
              "      <th>Preço</th>\n",
              "      <th>Chuva</th>\n",
              "      <th>Res</th>\n",
              "      <th>Tipo</th>\n",
              "      <th>Tempo</th>\n",
              "      <th>conc</th>\n",
              "    </tr>\n",
              "  </thead>\n",
              "  <tbody>\n",
              "    <tr>\n",
              "      <th>0</th>\n",
              "      <td>Sim</td>\n",
              "      <td>Não</td>\n",
              "      <td>Não</td>\n",
              "      <td>Sim</td>\n",
              "      <td>Alguns</td>\n",
              "      <td>RRR</td>\n",
              "      <td>Não</td>\n",
              "      <td>Sim</td>\n",
              "      <td>Francês</td>\n",
              "      <td>0-10</td>\n",
              "      <td>Sim</td>\n",
              "    </tr>\n",
              "    <tr>\n",
              "      <th>1</th>\n",
              "      <td>Sim</td>\n",
              "      <td>Não</td>\n",
              "      <td>Não</td>\n",
              "      <td>Sim</td>\n",
              "      <td>Cheio</td>\n",
              "      <td>R</td>\n",
              "      <td>Não</td>\n",
              "      <td>Não</td>\n",
              "      <td>Tailandês</td>\n",
              "      <td>30-60</td>\n",
              "      <td>Não</td>\n",
              "    </tr>\n",
              "    <tr>\n",
              "      <th>2</th>\n",
              "      <td>Não</td>\n",
              "      <td>Sim</td>\n",
              "      <td>Não</td>\n",
              "      <td>Não</td>\n",
              "      <td>Alguns</td>\n",
              "      <td>R</td>\n",
              "      <td>Não</td>\n",
              "      <td>Não</td>\n",
              "      <td>Hamburger</td>\n",
              "      <td>0-10</td>\n",
              "      <td>Sim</td>\n",
              "    </tr>\n",
              "  </tbody>\n",
              "</table>\n",
              "</div>"
            ],
            "text/plain": [
              "  Alternativo  Bar Sex/Sab fome Cliente Preço Chuva  Res       Tipo  Tempo  \\\n",
              "0         Sim  Não     Não  Sim  Alguns   RRR   Não  Sim    Francês   0-10   \n",
              "1         Sim  Não     Não  Sim   Cheio     R   Não  Não  Tailandês  30-60   \n",
              "2         Não  Sim     Não  Não  Alguns     R   Não  Não  Hamburger   0-10   \n",
              "\n",
              "  conc  \n",
              "0  Sim  \n",
              "1  Não  \n",
              "2  Sim  "
            ]
          },
          "execution_count": 6,
          "metadata": {},
          "output_type": "execute_result"
        }
      ],
      "source": [
        "base.head(3)"
      ]
    },
    {
      "cell_type": "code",
      "execution_count": 7,
      "metadata": {
        "colab": {
          "base_uri": "https://localhost:8080/",
          "height": 112
        },
        "id": "0VKCjaDIVTMc",
        "outputId": "ea1373c5-5890-4711-9f62-d5c67450bf0b"
      },
      "outputs": [
        {
          "data": {
            "application/vnd.microsoft.datawrangler.viewer.v0+json": {
              "columns": [
                {
                  "name": "index",
                  "rawType": "int64",
                  "type": "integer"
                },
                {
                  "name": "Alternativo",
                  "rawType": "object",
                  "type": "string"
                },
                {
                  "name": "Bar",
                  "rawType": "object",
                  "type": "string"
                },
                {
                  "name": "Sex/Sab",
                  "rawType": "object",
                  "type": "string"
                },
                {
                  "name": "fome",
                  "rawType": "object",
                  "type": "string"
                },
                {
                  "name": "Cliente",
                  "rawType": "object",
                  "type": "string"
                },
                {
                  "name": "Preço",
                  "rawType": "object",
                  "type": "string"
                },
                {
                  "name": "Chuva",
                  "rawType": "object",
                  "type": "string"
                },
                {
                  "name": "Res",
                  "rawType": "object",
                  "type": "string"
                },
                {
                  "name": "Tipo",
                  "rawType": "object",
                  "type": "string"
                },
                {
                  "name": "Tempo",
                  "rawType": "object",
                  "type": "string"
                },
                {
                  "name": "conc",
                  "rawType": "object",
                  "type": "string"
                }
              ],
              "conversionMethod": "pd.DataFrame",
              "ref": "8d244c86-35b5-4c92-abdc-eaccf7fd3a92",
              "rows": [
                [
                  "10",
                  "Não",
                  "Não",
                  "Não",
                  "Não",
                  "Nenhum",
                  "R",
                  "Não",
                  "Não",
                  "Tailandês",
                  "0-10",
                  "Não"
                ],
                [
                  "11",
                  "Sim",
                  "Sim",
                  "Sim",
                  "Sim",
                  "Cheio",
                  "R",
                  "Não",
                  "Não",
                  "Hamburger",
                  "30-60",
                  "Sim"
                ]
              ],
              "shape": {
                "columns": 11,
                "rows": 2
              }
            },
            "text/html": [
              "<div>\n",
              "<style scoped>\n",
              "    .dataframe tbody tr th:only-of-type {\n",
              "        vertical-align: middle;\n",
              "    }\n",
              "\n",
              "    .dataframe tbody tr th {\n",
              "        vertical-align: top;\n",
              "    }\n",
              "\n",
              "    .dataframe thead th {\n",
              "        text-align: right;\n",
              "    }\n",
              "</style>\n",
              "<table border=\"1\" class=\"dataframe\">\n",
              "  <thead>\n",
              "    <tr style=\"text-align: right;\">\n",
              "      <th></th>\n",
              "      <th>Alternativo</th>\n",
              "      <th>Bar</th>\n",
              "      <th>Sex/Sab</th>\n",
              "      <th>fome</th>\n",
              "      <th>Cliente</th>\n",
              "      <th>Preço</th>\n",
              "      <th>Chuva</th>\n",
              "      <th>Res</th>\n",
              "      <th>Tipo</th>\n",
              "      <th>Tempo</th>\n",
              "      <th>conc</th>\n",
              "    </tr>\n",
              "  </thead>\n",
              "  <tbody>\n",
              "    <tr>\n",
              "      <th>10</th>\n",
              "      <td>Não</td>\n",
              "      <td>Não</td>\n",
              "      <td>Não</td>\n",
              "      <td>Não</td>\n",
              "      <td>Nenhum</td>\n",
              "      <td>R</td>\n",
              "      <td>Não</td>\n",
              "      <td>Não</td>\n",
              "      <td>Tailandês</td>\n",
              "      <td>0-10</td>\n",
              "      <td>Não</td>\n",
              "    </tr>\n",
              "    <tr>\n",
              "      <th>11</th>\n",
              "      <td>Sim</td>\n",
              "      <td>Sim</td>\n",
              "      <td>Sim</td>\n",
              "      <td>Sim</td>\n",
              "      <td>Cheio</td>\n",
              "      <td>R</td>\n",
              "      <td>Não</td>\n",
              "      <td>Não</td>\n",
              "      <td>Hamburger</td>\n",
              "      <td>30-60</td>\n",
              "      <td>Sim</td>\n",
              "    </tr>\n",
              "  </tbody>\n",
              "</table>\n",
              "</div>"
            ],
            "text/plain": [
              "   Alternativo  Bar Sex/Sab fome Cliente Preço Chuva  Res       Tipo  Tempo  \\\n",
              "10         Não  Não     Não  Não  Nenhum     R   Não  Não  Tailandês   0-10   \n",
              "11         Sim  Sim     Sim  Sim   Cheio     R   Não  Não  Hamburger  30-60   \n",
              "\n",
              "   conc  \n",
              "10  Não  \n",
              "11  Sim  "
            ]
          },
          "execution_count": 7,
          "metadata": {},
          "output_type": "execute_result"
        }
      ],
      "source": [
        "base.tail(2)"
      ]
    },
    {
      "cell_type": "markdown",
      "metadata": {
        "id": "nnxpN2abg5eN"
      },
      "source": [
        "**Contando quantidade de instâncias**\n"
      ]
    },
    {
      "cell_type": "code",
      "execution_count": 8,
      "metadata": {
        "colab": {
          "base_uri": "https://localhost:8080/"
        },
        "id": "xgR2Os49WO3d",
        "outputId": "9c635981-921d-4d91-a6e6-f64f389f4eee"
      },
      "outputs": [
        {
          "data": {
            "text/plain": [
              "(array(['Não', 'Sim'], dtype=object), array([6, 6]))"
            ]
          },
          "execution_count": 8,
          "metadata": {},
          "output_type": "execute_result"
        }
      ],
      "source": [
        "Classificação = base.columns[-1]\n",
        "np.unique(base[Classificação], return_counts=True)"
      ]
    },
    {
      "cell_type": "code",
      "execution_count": 9,
      "metadata": {
        "colab": {
          "base_uri": "https://localhost:8080/",
          "height": 449
        },
        "id": "n-DOy3oXXG4N",
        "outputId": "21cd50bc-396a-45a2-db21-70a8194306be"
      },
      "outputs": [
        {
          "data": {
            "image/png": "[encoded data removed]",
            "text/plain": [
              "<Figure size 640x480 with 1 Axes>"
            ]
          },
          "metadata": {},
          "output_type": "display_data"
        }
      ],
      "source": [
        "sns.countplot(x = base[Classificação]);"
      ]
    },
    {
      "cell_type": "markdown",
      "metadata": {
        "id": "xeaEnJuOij1V"
      },
      "source": [
        "**Tratamento de dados categóricos**"
      ]
    },
    {
      "cell_type": "markdown",
      "metadata": {
        "id": "3lW1I_-TiwUi"
      },
      "source": [
        "> *LabelEncoder - Vamos tratar os dados categóricos colocando 1, 2, 3 e etc**\n",
        "\n"
      ]
    },
    {
      "cell_type": "code",
      "execution_count": 10,
      "metadata": {
        "id": "bJftEzSbiorG"
      },
      "outputs": [],
      "source": [
        "from sklearn.preprocessing import LabelEncoder"
      ]
    },
    {
      "cell_type": "code",
      "execution_count": 11,
      "metadata": {
        "id": "UT9lJj0e94AJ"
      },
      "outputs": [],
      "source": [
        "#para codificar todos os atributos para laberEncoder de uma única vez\n",
        "#base_encoded = base.apply(LabelEncoder().fit_transform)\n",
        "cols_label_encode = ['Alternativo', 'Bar', 'Sex/Sab','fome', 'Cliente','Preço', 'Chuva', 'Res','Tempo']\n",
        "base[cols_label_encode] = base[cols_label_encode].apply(LabelEncoder().fit_transform)"
      ]
    },
    {
      "cell_type": "code",
      "execution_count": 12,
      "metadata": {
        "colab": {
          "base_uri": "https://localhost:8080/",
          "height": 425
        },
        "id": "hgi132NcAPy6",
        "outputId": "d1f274d8-5a60-4926-b4d6-04b93399056c"
      },
      "outputs": [
        {
          "data": {
            "application/vnd.microsoft.datawrangler.viewer.v0+json": {
              "columns": [
                {
                  "name": "index",
                  "rawType": "int64",
                  "type": "integer"
                },
                {
                  "name": "Alternativo",
                  "rawType": "int64",
                  "type": "integer"
                },
                {
                  "name": "Bar",
                  "rawType": "int64",
                  "type": "integer"
                },
                {
                  "name": "Sex/Sab",
                  "rawType": "int64",
                  "type": "integer"
                },
                {
                  "name": "fome",
                  "rawType": "int64",
                  "type": "integer"
                },
                {
                  "name": "Cliente",
                  "rawType": "int64",
                  "type": "integer"
                },
                {
                  "name": "Preço",
                  "rawType": "int64",
                  "type": "integer"
                },
                {
                  "name": "Chuva",
                  "rawType": "int64",
                  "type": "integer"
                },
                {
                  "name": "Res",
                  "rawType": "int64",
                  "type": "integer"
                },
                {
                  "name": "Tipo",
                  "rawType": "object",
                  "type": "string"
                },
                {
                  "name": "Tempo",
                  "rawType": "int64",
                  "type": "integer"
                },
                {
                  "name": "conc",
                  "rawType": "object",
                  "type": "string"
                }
              ],
              "conversionMethod": "pd.DataFrame",
              "ref": "7039ebac-f626-48db-849c-93e0d04df31f",
              "rows": [
                [
                  "0",
                  "1",
                  "0",
                  "0",
                  "1",
                  "0",
                  "2",
                  "0",
                  "1",
                  "Francês",
                  "0",
                  "Sim"
                ],
                [
                  "1",
                  "1",
                  "0",
                  "0",
                  "1",
                  "1",
                  "0",
                  "0",
                  "0",
                  "Tailandês",
                  "1",
                  "Não"
                ],
                [
                  "2",
                  "0",
                  "1",
                  "0",
                  "0",
                  "0",
                  "0",
                  "0",
                  "0",
                  "Hamburger",
                  "0",
                  "Sim"
                ],
                [
                  "3",
                  "1",
                  "0",
                  "1",
                  "1",
                  "1",
                  "0",
                  "1",
                  "0",
                  "Tailandês",
                  "3",
                  "Sim"
                ],
                [
                  "4",
                  "1",
                  "0",
                  "1",
                  "0",
                  "1",
                  "2",
                  "0",
                  "1",
                  "Francês",
                  "2",
                  "Não"
                ],
                [
                  "5",
                  "0",
                  "1",
                  "0",
                  "1",
                  "0",
                  "1",
                  "1",
                  "1",
                  "Italiano",
                  "0",
                  "Sim"
                ],
                [
                  "6",
                  "0",
                  "1",
                  "0",
                  "0",
                  "2",
                  "0",
                  "1",
                  "0",
                  "Hamburger",
                  "0",
                  "Não"
                ],
                [
                  "7",
                  "0",
                  "0",
                  "0",
                  "1",
                  "0",
                  "1",
                  "1",
                  "1",
                  "Tailandês",
                  "0",
                  "Sim"
                ],
                [
                  "8",
                  "0",
                  "1",
                  "1",
                  "0",
                  "1",
                  "0",
                  "1",
                  "0",
                  "Hamburger",
                  "2",
                  "Não"
                ],
                [
                  "9",
                  "1",
                  "1",
                  "1",
                  "1",
                  "1",
                  "2",
                  "0",
                  "1",
                  "Italiano",
                  "3",
                  "Não"
                ],
                [
                  "10",
                  "0",
                  "0",
                  "0",
                  "0",
                  "2",
                  "0",
                  "0",
                  "0",
                  "Tailandês",
                  "0",
                  "Não"
                ],
                [
                  "11",
                  "1",
                  "1",
                  "1",
                  "1",
                  "1",
                  "0",
                  "0",
                  "0",
                  "Hamburger",
                  "1",
                  "Sim"
                ]
              ],
              "shape": {
                "columns": 11,
                "rows": 12
              }
            },
            "text/html": [
              "<div>\n",
              "<style scoped>\n",
              "    .dataframe tbody tr th:only-of-type {\n",
              "        vertical-align: middle;\n",
              "    }\n",
              "\n",
              "    .dataframe tbody tr th {\n",
              "        vertical-align: top;\n",
              "    }\n",
              "\n",
              "    .dataframe thead th {\n",
              "        text-align: right;\n",
              "    }\n",
              "</style>\n",
              "<table border=\"1\" class=\"dataframe\">\n",
              "  <thead>\n",
              "    <tr style=\"text-align: right;\">\n",
              "      <th></th>\n",
              "      <th>Alternativo</th>\n",
              "      <th>Bar</th>\n",
              "      <th>Sex/Sab</th>\n",
              "      <th>fome</th>\n",
              "      <th>Cliente</th>\n",
              "      <th>Preço</th>\n",
              "      <th>Chuva</th>\n",
              "      <th>Res</th>\n",
              "      <th>Tipo</th>\n",
              "      <th>Tempo</th>\n",
              "      <th>conc</th>\n",
              "    </tr>\n",
              "  </thead>\n",
              "  <tbody>\n",
              "    <tr>\n",
              "      <th>0</th>\n",
              "      <td>1</td>\n",
              "      <td>0</td>\n",
              "      <td>0</td>\n",
              "      <td>1</td>\n",
              "      <td>0</td>\n",
              "      <td>2</td>\n",
              "      <td>0</td>\n",
              "      <td>1</td>\n",
              "      <td>Francês</td>\n",
              "      <td>0</td>\n",
              "      <td>Sim</td>\n",
              "    </tr>\n",
              "    <tr>\n",
              "      <th>1</th>\n",
              "      <td>1</td>\n",
              "      <td>0</td>\n",
              "      <td>0</td>\n",
              "      <td>1</td>\n",
              "      <td>1</td>\n",
              "      <td>0</td>\n",
              "      <td>0</td>\n",
              "      <td>0</td>\n",
              "      <td>Tailandês</td>\n",
              "      <td>1</td>\n",
              "      <td>Não</td>\n",
              "    </tr>\n",
              "    <tr>\n",
              "      <th>2</th>\n",
              "      <td>0</td>\n",
              "      <td>1</td>\n",
              "      <td>0</td>\n",
              "      <td>0</td>\n",
              "      <td>0</td>\n",
              "      <td>0</td>\n",
              "      <td>0</td>\n",
              "      <td>0</td>\n",
              "      <td>Hamburger</td>\n",
              "      <td>0</td>\n",
              "      <td>Sim</td>\n",
              "    </tr>\n",
              "    <tr>\n",
              "      <th>3</th>\n",
              "      <td>1</td>\n",
              "      <td>0</td>\n",
              "      <td>1</td>\n",
              "      <td>1</td>\n",
              "      <td>1</td>\n",
              "      <td>0</td>\n",
              "      <td>1</td>\n",
              "      <td>0</td>\n",
              "      <td>Tailandês</td>\n",
              "      <td>3</td>\n",
              "      <td>Sim</td>\n",
              "    </tr>\n",
              "    <tr>\n",
              "      <th>4</th>\n",
              "      <td>1</td>\n",
              "      <td>0</td>\n",
              "      <td>1</td>\n",
              "      <td>0</td>\n",
              "      <td>1</td>\n",
              "      <td>2</td>\n",
              "      <td>0</td>\n",
              "      <td>1</td>\n",
              "      <td>Francês</td>\n",
              "      <td>2</td>\n",
              "      <td>Não</td>\n",
              "    </tr>\n",
              "    <tr>\n",
              "      <th>5</th>\n",
              "      <td>0</td>\n",
              "      <td>1</td>\n",
              "      <td>0</td>\n",
              "      <td>1</td>\n",
              "      <td>0</td>\n",
              "      <td>1</td>\n",
              "      <td>1</td>\n",
              "      <td>1</td>\n",
              "      <td>Italiano</td>\n",
              "      <td>0</td>\n",
              "      <td>Sim</td>\n",
              "    </tr>\n",
              "    <tr>\n",
              "      <th>6</th>\n",
              "      <td>0</td>\n",
              "      <td>1</td>\n",
              "      <td>0</td>\n",
              "      <td>0</td>\n",
              "      <td>2</td>\n",
              "      <td>0</td>\n",
              "      <td>1</td>\n",
              "      <td>0</td>\n",
              "      <td>Hamburger</td>\n",
              "      <td>0</td>\n",
              "      <td>Não</td>\n",
              "    </tr>\n",
              "    <tr>\n",
              "      <th>7</th>\n",
              "      <td>0</td>\n",
              "      <td>0</td>\n",
              "      <td>0</td>\n",
              "      <td>1</td>\n",
              "      <td>0</td>\n",
              "      <td>1</td>\n",
              "      <td>1</td>\n",
              "      <td>1</td>\n",
              "      <td>Tailandês</td>\n",
              "      <td>0</td>\n",
              "      <td>Sim</td>\n",
              "    </tr>\n",
              "    <tr>\n",
              "      <th>8</th>\n",
              "      <td>0</td>\n",
              "      <td>1</td>\n",
              "      <td>1</td>\n",
              "      <td>0</td>\n",
              "      <td>1</td>\n",
              "      <td>0</td>\n",
              "      <td>1</td>\n",
              "      <td>0</td>\n",
              "      <td>Hamburger</td>\n",
              "      <td>2</td>\n",
              "      <td>Não</td>\n",
              "    </tr>\n",
              "    <tr>\n",
              "      <th>9</th>\n",
              "      <td>1</td>\n",
              "      <td>1</td>\n",
              "      <td>1</td>\n",
              "      <td>1</td>\n",
              "      <td>1</td>\n",
              "      <td>2</td>\n",
              "      <td>0</td>\n",
              "      <td>1</td>\n",
              "      <td>Italiano</td>\n",
              "      <td>3</td>\n",
              "      <td>Não</td>\n",
              "    </tr>\n",
              "    <tr>\n",
              "      <th>10</th>\n",
              "      <td>0</td>\n",
              "      <td>0</td>\n",
              "      <td>0</td>\n",
              "      <td>0</td>\n",
              "      <td>2</td>\n",
              "      <td>0</td>\n",
              "      <td>0</td>\n",
              "      <td>0</td>\n",
              "      <td>Tailandês</td>\n",
              "      <td>0</td>\n",
              "      <td>Não</td>\n",
              "    </tr>\n",
              "    <tr>\n",
              "      <th>11</th>\n",
              "      <td>1</td>\n",
              "      <td>1</td>\n",
              "      <td>1</td>\n",
              "      <td>1</td>\n",
              "      <td>1</td>\n",
              "      <td>0</td>\n",
              "      <td>0</td>\n",
              "      <td>0</td>\n",
              "      <td>Hamburger</td>\n",
              "      <td>1</td>\n",
              "      <td>Sim</td>\n",
              "    </tr>\n",
              "  </tbody>\n",
              "</table>\n",
              "</div>"
            ],
            "text/plain": [
              "    Alternativo  Bar  Sex/Sab  fome  Cliente  Preço  Chuva  Res       Tipo  \\\n",
              "0             1    0        0     1        0      2      0    1    Francês   \n",
              "1             1    0        0     1        1      0      0    0  Tailandês   \n",
              "2             0    1        0     0        0      0      0    0  Hamburger   \n",
              "3             1    0        1     1        1      0      1    0  Tailandês   \n",
              "4             1    0        1     0        1      2      0    1    Francês   \n",
              "5             0    1        0     1        0      1      1    1   Italiano   \n",
              "6             0    1        0     0        2      0      1    0  Hamburger   \n",
              "7             0    0        0     1        0      1      1    1  Tailandês   \n",
              "8             0    1        1     0        1      0      1    0  Hamburger   \n",
              "9             1    1        1     1        1      2      0    1   Italiano   \n",
              "10            0    0        0     0        2      0      0    0  Tailandês   \n",
              "11            1    1        1     1        1      0      0    0  Hamburger   \n",
              "\n",
              "    Tempo conc  \n",
              "0       0  Sim  \n",
              "1       1  Não  \n",
              "2       0  Sim  \n",
              "3       3  Sim  \n",
              "4       2  Não  \n",
              "5       0  Sim  \n",
              "6       0  Não  \n",
              "7       0  Sim  \n",
              "8       2  Não  \n",
              "9       3  Não  \n",
              "10      0  Não  \n",
              "11      1  Sim  "
            ]
          },
          "execution_count": 12,
          "metadata": {},
          "output_type": "execute_result"
        }
      ],
      "source": [
        "base"
      ]
    },
    {
      "cell_type": "markdown",
      "metadata": {
        "id": "CdvWmHBWpNVf"
      },
      "source": [
        "\n",
        "\n",
        ">** OneHotEncoder - Agora vamos binarizar atributos não ordinais**"
      ]
    },
    {
      "cell_type": "markdown",
      "metadata": {
        "id": "tyfOlRYpuc9b"
      },
      "source": [
        "**Contando quantas opções de resposta tem cada atributo**"
      ]
    },
    {
      "cell_type": "code",
      "execution_count": 13,
      "metadata": {
        "colab": {
          "base_uri": "https://localhost:8080/"
        },
        "id": "aJkbkyXquPr1",
        "outputId": "a088c090-552d-447b-e5ab-3b3953052fd2"
      },
      "outputs": [
        {
          "data": {
            "text/plain": [
              "3"
            ]
          },
          "execution_count": 13,
          "metadata": {},
          "output_type": "execute_result"
        }
      ],
      "source": [
        "len(np.unique(base['Cliente']))"
      ]
    },
    {
      "cell_type": "code",
      "execution_count": 14,
      "metadata": {
        "id": "abl6WdNRurkE"
      },
      "outputs": [],
      "source": [
        "from sklearn.preprocessing import OneHotEncoder\n",
        "from sklearn.compose import ColumnTransformer"
      ]
    },
    {
      "cell_type": "code",
      "execution_count": 15,
      "metadata": {
        "id": "KkfPEjxsJRf9"
      },
      "outputs": [],
      "source": [
        "cols_onehot_encode = ['Tipo']\n",
        "# Inicializar o OneHotEncoder (sparse_output=False retorna um array denso)\n",
        "onehot = OneHotEncoder(sparse_output=False)\n",
        "\n",
        "# Aplicar o OneHotEncoder apenas nas colunas categóricas\n",
        "df_onehot = onehot.fit_transform(base[cols_onehot_encode])\n",
        "\n",
        "# Obter os novos nomes das colunas após a codificação\n",
        "nomes_das_colunas = onehot.get_feature_names_out(cols_onehot_encode)\n",
        "\n",
        "# Criar um DataFrame com os dados codificados e as novas colunas\n",
        "df_onehot = pd.DataFrame(df_onehot, columns=nomes_das_colunas)\n",
        "\n",
        "# Combinar as colunas codificadas com as colunas que não foram transformadas\n",
        "base_encoded= pd.concat([df_onehot, base.drop(columns=cols_onehot_encode)], axis=1)"
      ]
    },
    {
      "cell_type": "code",
      "execution_count": 16,
      "metadata": {
        "colab": {
          "base_uri": "https://localhost:8080/",
          "height": 425
        },
        "id": "aHwstBIPCEb7",
        "outputId": "5fb64361-9c53-44ee-9420-29aa9d2bd4c6"
      },
      "outputs": [
        {
          "data": {
            "application/vnd.microsoft.datawrangler.viewer.v0+json": {
              "columns": [
                {
                  "name": "index",
                  "rawType": "int64",
                  "type": "integer"
                },
                {
                  "name": "Tipo_Francês",
                  "rawType": "float64",
                  "type": "float"
                },
                {
                  "name": "Tipo_Hamburger",
                  "rawType": "float64",
                  "type": "float"
                },
                {
                  "name": "Tipo_Italiano",
                  "rawType": "float64",
                  "type": "float"
                },
                {
                  "name": "Tipo_Tailandês",
                  "rawType": "float64",
                  "type": "float"
                },
                {
                  "name": "Alternativo",
                  "rawType": "int64",
                  "type": "integer"
                },
                {
                  "name": "Bar",
                  "rawType": "int64",
                  "type": "integer"
                },
                {
                  "name": "Sex/Sab",
                  "rawType": "int64",
                  "type": "integer"
                },
                {
                  "name": "fome",
                  "rawType": "int64",
                  "type": "integer"
                },
                {
                  "name": "Cliente",
                  "rawType": "int64",
                  "type": "integer"
                },
                {
                  "name": "Preço",
                  "rawType": "int64",
                  "type": "integer"
                },
                {
                  "name": "Chuva",
                  "rawType": "int64",
                  "type": "integer"
                },
                {
                  "name": "Res",
                  "rawType": "int64",
                  "type": "integer"
                },
                {
                  "name": "Tempo",
                  "rawType": "int64",
                  "type": "integer"
                },
                {
                  "name": "conc",
                  "rawType": "object",
                  "type": "string"
                }
              ],
              "conversionMethod": "pd.DataFrame",
              "ref": "6a5c5c41-cc84-4f00-8978-650b5b54b4e6",
              "rows": [
                [
                  "0",
                  "1.0",
                  "0.0",
                  "0.0",
                  "0.0",
                  "1",
                  "0",
                  "0",
                  "1",
                  "0",
                  "2",
                  "0",
                  "1",
                  "0",
                  "Sim"
                ],
                [
                  "1",
                  "0.0",
                  "0.0",
                  "0.0",
                  "1.0",
                  "1",
                  "0",
                  "0",
                  "1",
                  "1",
                  "0",
                  "0",
                  "0",
                  "1",
                  "Não"
                ],
                [
                  "2",
                  "0.0",
                  "1.0",
                  "0.0",
                  "0.0",
                  "0",
                  "1",
                  "0",
                  "0",
                  "0",
                  "0",
                  "0",
                  "0",
                  "0",
                  "Sim"
                ],
                [
                  "3",
                  "0.0",
                  "0.0",
                  "0.0",
                  "1.0",
                  "1",
                  "0",
                  "1",
                  "1",
                  "1",
                  "0",
                  "1",
                  "0",
                  "3",
                  "Sim"
                ],
                [
                  "4",
                  "1.0",
                  "0.0",
                  "0.0",
                  "0.0",
                  "1",
                  "0",
                  "1",
                  "0",
                  "1",
                  "2",
                  "0",
                  "1",
                  "2",
                  "Não"
                ],
                [
                  "5",
                  "0.0",
                  "0.0",
                  "1.0",
                  "0.0",
                  "0",
                  "1",
                  "0",
                  "1",
                  "0",
                  "1",
                  "1",
                  "1",
                  "0",
                  "Sim"
                ],
                [
                  "6",
                  "0.0",
                  "1.0",
                  "0.0",
                  "0.0",
                  "0",
                  "1",
                  "0",
                  "0",
                  "2",
                  "0",
                  "1",
                  "0",
                  "0",
                  "Não"
                ],
                [
                  "7",
                  "0.0",
                  "0.0",
                  "0.0",
                  "1.0",
                  "0",
                  "0",
                  "0",
                  "1",
                  "0",
                  "1",
                  "1",
                  "1",
                  "0",
                  "Sim"
                ],
                [
                  "8",
                  "0.0",
                  "1.0",
                  "0.0",
                  "0.0",
                  "0",
                  "1",
                  "1",
                  "0",
                  "1",
                  "0",
                  "1",
                  "0",
                  "2",
                  "Não"
                ],
                [
                  "9",
                  "0.0",
                  "0.0",
                  "1.0",
                  "0.0",
                  "1",
                  "1",
                  "1",
                  "1",
                  "1",
                  "2",
                  "0",
                  "1",
                  "3",
                  "Não"
                ],
                [
                  "10",
                  "0.0",
                  "0.0",
                  "0.0",
                  "1.0",
                  "0",
                  "0",
                  "0",
                  "0",
                  "2",
                  "0",
                  "0",
                  "0",
                  "0",
                  "Não"
                ],
                [
                  "11",
                  "0.0",
                  "1.0",
                  "0.0",
                  "0.0",
                  "1",
                  "1",
                  "1",
                  "1",
                  "1",
                  "0",
                  "0",
                  "0",
                  "1",
                  "Sim"
                ]
              ],
              "shape": {
                "columns": 14,
                "rows": 12
              }
            },
            "text/html": [
              "<div>\n",
              "<style scoped>\n",
              "    .dataframe tbody tr th:only-of-type {\n",
              "        vertical-align: middle;\n",
              "    }\n",
              "\n",
              "    .dataframe tbody tr th {\n",
              "        vertical-align: top;\n",
              "    }\n",
              "\n",
              "    .dataframe thead th {\n",
              "        text-align: right;\n",
              "    }\n",
              "</style>\n",
              "<table border=\"1\" class=\"dataframe\">\n",
              "  <thead>\n",
              "    <tr style=\"text-align: right;\">\n",
              "      <th></th>\n",
              "      <th>Tipo_Francês</th>\n",
              "      <th>Tipo_Hamburger</th>\n",
              "      <th>Tipo_Italiano</th>\n",
              "      <th>Tipo_Tailandês</th>\n",
              "      <th>Alternativo</th>\n",
              "      <th>Bar</th>\n",
              "      <th>Sex/Sab</th>\n",
              "      <th>fome</th>\n",
              "      <th>Cliente</th>\n",
              "      <th>Preço</th>\n",
              "      <th>Chuva</th>\n",
              "      <th>Res</th>\n",
              "      <th>Tempo</th>\n",
              "      <th>conc</th>\n",
              "    </tr>\n",
              "  </thead>\n",
              "  <tbody>\n",
              "    <tr>\n",
              "      <th>0</th>\n",
              "      <td>1.0</td>\n",
              "      <td>0.0</td>\n",
              "      <td>0.0</td>\n",
              "      <td>0.0</td>\n",
              "      <td>1</td>\n",
              "      <td>0</td>\n",
              "      <td>0</td>\n",
              "      <td>1</td>\n",
              "      <td>0</td>\n",
              "      <td>2</td>\n",
              "      <td>0</td>\n",
              "      <td>1</td>\n",
              "      <td>0</td>\n",
              "      <td>Sim</td>\n",
              "    </tr>\n",
              "    <tr>\n",
              "      <th>1</th>\n",
              "      <td>0.0</td>\n",
              "      <td>0.0</td>\n",
              "      <td>0.0</td>\n",
              "      <td>1.0</td>\n",
              "      <td>1</td>\n",
              "      <td>0</td>\n",
              "      <td>0</td>\n",
              "      <td>1</td>\n",
              "      <td>1</td>\n",
              "      <td>0</td>\n",
              "      <td>0</td>\n",
              "      <td>0</td>\n",
              "      <td>1</td>\n",
              "      <td>Não</td>\n",
              "    </tr>\n",
              "    <tr>\n",
              "      <th>2</th>\n",
              "      <td>0.0</td>\n",
              "      <td>1.0</td>\n",
              "      <td>0.0</td>\n",
              "      <td>0.0</td>\n",
              "      <td>0</td>\n",
              "      <td>1</td>\n",
              "      <td>0</td>\n",
              "      <td>0</td>\n",
              "      <td>0</td>\n",
              "      <td>0</td>\n",
              "      <td>0</td>\n",
              "      <td>0</td>\n",
              "      <td>0</td>\n",
              "      <td>Sim</td>\n",
              "    </tr>\n",
              "    <tr>\n",
              "      <th>3</th>\n",
              "      <td>0.0</td>\n",
              "      <td>0.0</td>\n",
              "      <td>0.0</td>\n",
              "      <td>1.0</td>\n",
              "      <td>1</td>\n",
              "      <td>0</td>\n",
              "      <td>1</td>\n",
              "      <td>1</td>\n",
              "      <td>1</td>\n",
              "      <td>0</td>\n",
              "      <td>1</td>\n",
              "      <td>0</td>\n",
              "      <td>3</td>\n",
              "      <td>Sim</td>\n",
              "    </tr>\n",
              "    <tr>\n",
              "      <th>4</th>\n",
              "      <td>1.0</td>\n",
              "      <td>0.0</td>\n",
              "      <td>0.0</td>\n",
              "      <td>0.0</td>\n",
              "      <td>1</td>\n",
              "      <td>0</td>\n",
              "      <td>1</td>\n",
              "      <td>0</td>\n",
              "      <td>1</td>\n",
              "      <td>2</td>\n",
              "      <td>0</td>\n",
              "      <td>1</td>\n",
              "      <td>2</td>\n",
              "      <td>Não</td>\n",
              "    </tr>\n",
              "    <tr>\n",
              "      <th>5</th>\n",
              "      <td>0.0</td>\n",
              "      <td>0.0</td>\n",
              "      <td>1.0</td>\n",
              "      <td>0.0</td>\n",
              "      <td>0</td>\n",
              "      <td>1</td>\n",
              "      <td>0</td>\n",
              "      <td>1</td>\n",
              "      <td>0</td>\n",
              "      <td>1</td>\n",
              "      <td>1</td>\n",
              "      <td>1</td>\n",
              "      <td>0</td>\n",
              "      <td>Sim</td>\n",
              "    </tr>\n",
              "    <tr>\n",
              "      <th>6</th>\n",
              "      <td>0.0</td>\n",
              "      <td>1.0</td>\n",
              "      <td>0.0</td>\n",
              "      <td>0.0</td>\n",
              "      <td>0</td>\n",
              "      <td>1</td>\n",
              "      <td>0</td>\n",
              "      <td>0</td>\n",
              "      <td>2</td>\n",
              "      <td>0</td>\n",
              "      <td>1</td>\n",
              "      <td>0</td>\n",
              "      <td>0</td>\n",
              "      <td>Não</td>\n",
              "    </tr>\n",
              "    <tr>\n",
              "      <th>7</th>\n",
              "      <td>0.0</td>\n",
              "      <td>0.0</td>\n",
              "      <td>0.0</td>\n",
              "      <td>1.0</td>\n",
              "      <td>0</td>\n",
              "      <td>0</td>\n",
              "      <td>0</td>\n",
              "      <td>1</td>\n",
              "      <td>0</td>\n",
              "      <td>1</td>\n",
              "      <td>1</td>\n",
              "      <td>1</td>\n",
              "      <td>0</td>\n",
              "      <td>Sim</td>\n",
              "    </tr>\n",
              "    <tr>\n",
              "      <th>8</th>\n",
              "      <td>0.0</td>\n",
              "      <td>1.0</td>\n",
              "      <td>0.0</td>\n",
              "      <td>0.0</td>\n",
              "      <td>0</td>\n",
              "      <td>1</td>\n",
              "      <td>1</td>\n",
              "      <td>0</td>\n",
              "      <td>1</td>\n",
              "      <td>0</td>\n",
              "      <td>1</td>\n",
              "      <td>0</td>\n",
              "      <td>2</td>\n",
              "      <td>Não</td>\n",
              "    </tr>\n",
              "    <tr>\n",
              "      <th>9</th>\n",
              "      <td>0.0</td>\n",
              "      <td>0.0</td>\n",
              "      <td>1.0</td>\n",
              "      <td>0.0</td>\n",
              "      <td>1</td>\n",
              "      <td>1</td>\n",
              "      <td>1</td>\n",
              "      <td>1</td>\n",
              "      <td>1</td>\n",
              "      <td>2</td>\n",
              "      <td>0</td>\n",
              "      <td>1</td>\n",
              "      <td>3</td>\n",
              "      <td>Não</td>\n",
              "    </tr>\n",
              "    <tr>\n",
              "      <th>10</th>\n",
              "      <td>0.0</td>\n",
              "      <td>0.0</td>\n",
              "      <td>0.0</td>\n",
              "      <td>1.0</td>\n",
              "      <td>0</td>\n",
              "      <td>0</td>\n",
              "      <td>0</td>\n",
              "      <td>0</td>\n",
              "      <td>2</td>\n",
              "      <td>0</td>\n",
              "      <td>0</td>\n",
              "      <td>0</td>\n",
              "      <td>0</td>\n",
              "      <td>Não</td>\n",
              "    </tr>\n",
              "    <tr>\n",
              "      <th>11</th>\n",
              "      <td>0.0</td>\n",
              "      <td>1.0</td>\n",
              "      <td>0.0</td>\n",
              "      <td>0.0</td>\n",
              "      <td>1</td>\n",
              "      <td>1</td>\n",
              "      <td>1</td>\n",
              "      <td>1</td>\n",
              "      <td>1</td>\n",
              "      <td>0</td>\n",
              "      <td>0</td>\n",
              "      <td>0</td>\n",
              "      <td>1</td>\n",
              "      <td>Sim</td>\n",
              "    </tr>\n",
              "  </tbody>\n",
              "</table>\n",
              "</div>"
            ],
            "text/plain": [
              "    Tipo_Francês  Tipo_Hamburger  Tipo_Italiano  Tipo_Tailandês  Alternativo  \\\n",
              "0            1.0             0.0            0.0             0.0            1   \n",
              "1            0.0             0.0            0.0             1.0            1   \n",
              "2            0.0             1.0            0.0             0.0            0   \n",
              "3            0.0             0.0            0.0             1.0            1   \n",
              "4            1.0             0.0            0.0             0.0            1   \n",
              "5            0.0             0.0            1.0             0.0            0   \n",
              "6            0.0             1.0            0.0             0.0            0   \n",
              "7            0.0             0.0            0.0             1.0            0   \n",
              "8            0.0             1.0            0.0             0.0            0   \n",
              "9            0.0             0.0            1.0             0.0            1   \n",
              "10           0.0             0.0            0.0             1.0            0   \n",
              "11           0.0             1.0            0.0             0.0            1   \n",
              "\n",
              "    Bar  Sex/Sab  fome  Cliente  Preço  Chuva  Res  Tempo conc  \n",
              "0     0        0     1        0      2      0    1      0  Sim  \n",
              "1     0        0     1        1      0      0    0      1  Não  \n",
              "2     1        0     0        0      0      0    0      0  Sim  \n",
              "3     0        1     1        1      0      1    0      3  Sim  \n",
              "4     0        1     0        1      2      0    1      2  Não  \n",
              "5     1        0     1        0      1      1    1      0  Sim  \n",
              "6     1        0     0        2      0      1    0      0  Não  \n",
              "7     0        0     1        0      1      1    1      0  Sim  \n",
              "8     1        1     0        1      0      1    0      2  Não  \n",
              "9     1        1     1        1      2      0    1      3  Não  \n",
              "10    0        0     0        2      0      0    0      0  Não  \n",
              "11    1        1     1        1      0      0    0      1  Sim  "
            ]
          },
          "execution_count": 16,
          "metadata": {},
          "output_type": "execute_result"
        }
      ],
      "source": [
        "base_encoded"
      ]
    },
    {
      "cell_type": "code",
      "execution_count": 17,
      "metadata": {
        "colab": {
          "base_uri": "https://localhost:8080/"
        },
        "id": "6YoPu2Vt8mMY",
        "outputId": "98753e2c-6488-4026-babc-83af1ba2aeaf"
      },
      "outputs": [
        {
          "data": {
            "text/plain": [
              "(12, 14)"
            ]
          },
          "execution_count": 17,
          "metadata": {},
          "output_type": "execute_result"
        }
      ],
      "source": [
        "base_encoded.shape"
      ]
    },
    {
      "cell_type": "markdown",
      "metadata": {
        "id": "B4E-8e1pDrlc"
      },
      "source": [
        "**Separar o dataset em variáveis independentes (X_prev) e dependentes (y_classe)**"
      ]
    },
    {
      "cell_type": "code",
      "execution_count": 18,
      "metadata": {
        "id": "tbLO2NDSJuNZ"
      },
      "outputs": [],
      "source": [
        "# Supondo que a última coluna seja o target\n",
        "X_prev= base_encoded.iloc[:, :-1]\n",
        "y_classe = base_encoded.iloc[:, -1]"
      ]
    },
    {
      "cell_type": "markdown",
      "metadata": {
        "id": "9dxbazZBDX6H"
      },
      "source": [
        "**Método de amostragem Holdout**"
      ]
    },
    {
      "cell_type": "code",
      "execution_count": 19,
      "metadata": {
        "id": "_qGk4N4CK7LQ"
      },
      "outputs": [],
      "source": [
        "from sklearn.model_selection import train_test_split"
      ]
    },
    {
      "cell_type": "code",
      "execution_count": 20,
      "metadata": {
        "colab": {
          "base_uri": "https://localhost:8080/",
          "height": 425
        },
        "id": "iSw7DIn3GuYn",
        "outputId": "73a86163-0125-4d40-f218-ad577f3c38ed"
      },
      "outputs": [
        {
          "data": {
            "application/vnd.microsoft.datawrangler.viewer.v0+json": {
              "columns": [
                {
                  "name": "index",
                  "rawType": "int64",
                  "type": "integer"
                },
                {
                  "name": "Tipo_Francês",
                  "rawType": "float64",
                  "type": "float"
                },
                {
                  "name": "Tipo_Hamburger",
                  "rawType": "float64",
                  "type": "float"
                },
                {
                  "name": "Tipo_Italiano",
                  "rawType": "float64",
                  "type": "float"
                },
                {
                  "name": "Tipo_Tailandês",
                  "rawType": "float64",
                  "type": "float"
                },
                {
                  "name": "Alternativo",
                  "rawType": "int64",
                  "type": "integer"
                },
                {
                  "name": "Bar",
                  "rawType": "int64",
                  "type": "integer"
                },
                {
                  "name": "Sex/Sab",
                  "rawType": "int64",
                  "type": "integer"
                },
                {
                  "name": "fome",
                  "rawType": "int64",
                  "type": "integer"
                },
                {
                  "name": "Cliente",
                  "rawType": "int64",
                  "type": "integer"
                },
                {
                  "name": "Preço",
                  "rawType": "int64",
                  "type": "integer"
                },
                {
                  "name": "Chuva",
                  "rawType": "int64",
                  "type": "integer"
                },
                {
                  "name": "Res",
                  "rawType": "int64",
                  "type": "integer"
                },
                {
                  "name": "Tempo",
                  "rawType": "int64",
                  "type": "integer"
                }
              ],
              "conversionMethod": "pd.DataFrame",
              "ref": "b5b08e4d-27cf-4d12-bffd-ff0e52fb1de7",
              "rows": [
                [
                  "0",
                  "1.0",
                  "0.0",
                  "0.0",
                  "0.0",
                  "1",
                  "0",
                  "0",
                  "1",
                  "0",
                  "2",
                  "0",
                  "1",
                  "0"
                ],
                [
                  "1",
                  "0.0",
                  "0.0",
                  "0.0",
                  "1.0",
                  "1",
                  "0",
                  "0",
                  "1",
                  "1",
                  "0",
                  "0",
                  "0",
                  "1"
                ],
                [
                  "2",
                  "0.0",
                  "1.0",
                  "0.0",
                  "0.0",
                  "0",
                  "1",
                  "0",
                  "0",
                  "0",
                  "0",
                  "0",
                  "0",
                  "0"
                ],
                [
                  "3",
                  "0.0",
                  "0.0",
                  "0.0",
                  "1.0",
                  "1",
                  "0",
                  "1",
                  "1",
                  "1",
                  "0",
                  "1",
                  "0",
                  "3"
                ],
                [
                  "4",
                  "1.0",
                  "0.0",
                  "0.0",
                  "0.0",
                  "1",
                  "0",
                  "1",
                  "0",
                  "1",
                  "2",
                  "0",
                  "1",
                  "2"
                ],
                [
                  "5",
                  "0.0",
                  "0.0",
                  "1.0",
                  "0.0",
                  "0",
                  "1",
                  "0",
                  "1",
                  "0",
                  "1",
                  "1",
                  "1",
                  "0"
                ],
                [
                  "6",
                  "0.0",
                  "1.0",
                  "0.0",
                  "0.0",
                  "0",
                  "1",
                  "0",
                  "0",
                  "2",
                  "0",
                  "1",
                  "0",
                  "0"
                ],
                [
                  "7",
                  "0.0",
                  "0.0",
                  "0.0",
                  "1.0",
                  "0",
                  "0",
                  "0",
                  "1",
                  "0",
                  "1",
                  "1",
                  "1",
                  "0"
                ],
                [
                  "8",
                  "0.0",
                  "1.0",
                  "0.0",
                  "0.0",
                  "0",
                  "1",
                  "1",
                  "0",
                  "1",
                  "0",
                  "1",
                  "0",
                  "2"
                ],
                [
                  "9",
                  "0.0",
                  "0.0",
                  "1.0",
                  "0.0",
                  "1",
                  "1",
                  "1",
                  "1",
                  "1",
                  "2",
                  "0",
                  "1",
                  "3"
                ],
                [
                  "10",
                  "0.0",
                  "0.0",
                  "0.0",
                  "1.0",
                  "0",
                  "0",
                  "0",
                  "0",
                  "2",
                  "0",
                  "0",
                  "0",
                  "0"
                ],
                [
                  "11",
                  "0.0",
                  "1.0",
                  "0.0",
                  "0.0",
                  "1",
                  "1",
                  "1",
                  "1",
                  "1",
                  "0",
                  "0",
                  "0",
                  "1"
                ]
              ],
              "shape": {
                "columns": 13,
                "rows": 12
              }
            },
            "text/html": [
              "<div>\n",
              "<style scoped>\n",
              "    .dataframe tbody tr th:only-of-type {\n",
              "        vertical-align: middle;\n",
              "    }\n",
              "\n",
              "    .dataframe tbody tr th {\n",
              "        vertical-align: top;\n",
              "    }\n",
              "\n",
              "    .dataframe thead th {\n",
              "        text-align: right;\n",
              "    }\n",
              "</style>\n",
              "<table border=\"1\" class=\"dataframe\">\n",
              "  <thead>\n",
              "    <tr style=\"text-align: right;\">\n",
              "      <th></th>\n",
              "      <th>Tipo_Francês</th>\n",
              "      <th>Tipo_Hamburger</th>\n",
              "      <th>Tipo_Italiano</th>\n",
              "      <th>Tipo_Tailandês</th>\n",
              "      <th>Alternativo</th>\n",
              "      <th>Bar</th>\n",
              "      <th>Sex/Sab</th>\n",
              "      <th>fome</th>\n",
              "      <th>Cliente</th>\n",
              "      <th>Preço</th>\n",
              "      <th>Chuva</th>\n",
              "      <th>Res</th>\n",
              "      <th>Tempo</th>\n",
              "    </tr>\n",
              "  </thead>\n",
              "  <tbody>\n",
              "    <tr>\n",
              "      <th>0</th>\n",
              "      <td>1.0</td>\n",
              "      <td>0.0</td>\n",
              "      <td>0.0</td>\n",
              "      <td>0.0</td>\n",
              "      <td>1</td>\n",
              "      <td>0</td>\n",
              "      <td>0</td>\n",
              "      <td>1</td>\n",
              "      <td>0</td>\n",
              "      <td>2</td>\n",
              "      <td>0</td>\n",
              "      <td>1</td>\n",
              "      <td>0</td>\n",
              "    </tr>\n",
              "    <tr>\n",
              "      <th>1</th>\n",
              "      <td>0.0</td>\n",
              "      <td>0.0</td>\n",
              "      <td>0.0</td>\n",
              "      <td>1.0</td>\n",
              "      <td>1</td>\n",
              "      <td>0</td>\n",
              "      <td>0</td>\n",
              "      <td>1</td>\n",
              "      <td>1</td>\n",
              "      <td>0</td>\n",
              "      <td>0</td>\n",
              "      <td>0</td>\n",
              "      <td>1</td>\n",
              "    </tr>\n",
              "    <tr>\n",
              "      <th>2</th>\n",
              "      <td>0.0</td>\n",
              "      <td>1.0</td>\n",
              "      <td>0.0</td>\n",
              "      <td>0.0</td>\n",
              "      <td>0</td>\n",
              "      <td>1</td>\n",
              "      <td>0</td>\n",
              "      <td>0</td>\n",
              "      <td>0</td>\n",
              "      <td>0</td>\n",
              "      <td>0</td>\n",
              "      <td>0</td>\n",
              "      <td>0</td>\n",
              "    </tr>\n",
              "    <tr>\n",
              "      <th>3</th>\n",
              "      <td>0.0</td>\n",
              "      <td>0.0</td>\n",
              "      <td>0.0</td>\n",
              "      <td>1.0</td>\n",
              "      <td>1</td>\n",
              "      <td>0</td>\n",
              "      <td>1</td>\n",
              "      <td>1</td>\n",
              "      <td>1</td>\n",
              "      <td>0</td>\n",
              "      <td>1</td>\n",
              "      <td>0</td>\n",
              "      <td>3</td>\n",
              "    </tr>\n",
              "    <tr>\n",
              "      <th>4</th>\n",
              "      <td>1.0</td>\n",
              "      <td>0.0</td>\n",
              "      <td>0.0</td>\n",
              "      <td>0.0</td>\n",
              "      <td>1</td>\n",
              "      <td>0</td>\n",
              "      <td>1</td>\n",
              "      <td>0</td>\n",
              "      <td>1</td>\n",
              "      <td>2</td>\n",
              "      <td>0</td>\n",
              "      <td>1</td>\n",
              "      <td>2</td>\n",
              "    </tr>\n",
              "    <tr>\n",
              "      <th>5</th>\n",
              "      <td>0.0</td>\n",
              "      <td>0.0</td>\n",
              "      <td>1.0</td>\n",
              "      <td>0.0</td>\n",
              "      <td>0</td>\n",
              "      <td>1</td>\n",
              "      <td>0</td>\n",
              "      <td>1</td>\n",
              "      <td>0</td>\n",
              "      <td>1</td>\n",
              "      <td>1</td>\n",
              "      <td>1</td>\n",
              "      <td>0</td>\n",
              "    </tr>\n",
              "    <tr>\n",
              "      <th>6</th>\n",
              "      <td>0.0</td>\n",
              "      <td>1.0</td>\n",
              "      <td>0.0</td>\n",
              "      <td>0.0</td>\n",
              "      <td>0</td>\n",
              "      <td>1</td>\n",
              "      <td>0</td>\n",
              "      <td>0</td>\n",
              "      <td>2</td>\n",
              "      <td>0</td>\n",
              "      <td>1</td>\n",
              "      <td>0</td>\n",
              "      <td>0</td>\n",
              "    </tr>\n",
              "    <tr>\n",
              "      <th>7</th>\n",
              "      <td>0.0</td>\n",
              "      <td>0.0</td>\n",
              "      <td>0.0</td>\n",
              "      <td>1.0</td>\n",
              "      <td>0</td>\n",
              "      <td>0</td>\n",
              "      <td>0</td>\n",
              "      <td>1</td>\n",
              "      <td>0</td>\n",
              "      <td>1</td>\n",
              "      <td>1</td>\n",
              "      <td>1</td>\n",
              "      <td>0</td>\n",
              "    </tr>\n",
              "    <tr>\n",
              "      <th>8</th>\n",
              "      <td>0.0</td>\n",
              "      <td>1.0</td>\n",
              "      <td>0.0</td>\n",
              "      <td>0.0</td>\n",
              "      <td>0</td>\n",
              "      <td>1</td>\n",
              "      <td>1</td>\n",
              "      <td>0</td>\n",
              "      <td>1</td>\n",
              "      <td>0</td>\n",
              "      <td>1</td>\n",
              "      <td>0</td>\n",
              "      <td>2</td>\n",
              "    </tr>\n",
              "    <tr>\n",
              "      <th>9</th>\n",
              "      <td>0.0</td>\n",
              "      <td>0.0</td>\n",
              "      <td>1.0</td>\n",
              "      <td>0.0</td>\n",
              "      <td>1</td>\n",
              "      <td>1</td>\n",
              "      <td>1</td>\n",
              "      <td>1</td>\n",
              "      <td>1</td>\n",
              "      <td>2</td>\n",
              "      <td>0</td>\n",
              "      <td>1</td>\n",
              "      <td>3</td>\n",
              "    </tr>\n",
              "    <tr>\n",
              "      <th>10</th>\n",
              "      <td>0.0</td>\n",
              "      <td>0.0</td>\n",
              "      <td>0.0</td>\n",
              "      <td>1.0</td>\n",
              "      <td>0</td>\n",
              "      <td>0</td>\n",
              "      <td>0</td>\n",
              "      <td>0</td>\n",
              "      <td>2</td>\n",
              "      <td>0</td>\n",
              "      <td>0</td>\n",
              "      <td>0</td>\n",
              "      <td>0</td>\n",
              "    </tr>\n",
              "    <tr>\n",
              "      <th>11</th>\n",
              "      <td>0.0</td>\n",
              "      <td>1.0</td>\n",
              "      <td>0.0</td>\n",
              "      <td>0.0</td>\n",
              "      <td>1</td>\n",
              "      <td>1</td>\n",
              "      <td>1</td>\n",
              "      <td>1</td>\n",
              "      <td>1</td>\n",
              "      <td>0</td>\n",
              "      <td>0</td>\n",
              "      <td>0</td>\n",
              "      <td>1</td>\n",
              "    </tr>\n",
              "  </tbody>\n",
              "</table>\n",
              "</div>"
            ],
            "text/plain": [
              "    Tipo_Francês  Tipo_Hamburger  Tipo_Italiano  Tipo_Tailandês  Alternativo  \\\n",
              "0            1.0             0.0            0.0             0.0            1   \n",
              "1            0.0             0.0            0.0             1.0            1   \n",
              "2            0.0             1.0            0.0             0.0            0   \n",
              "3            0.0             0.0            0.0             1.0            1   \n",
              "4            1.0             0.0            0.0             0.0            1   \n",
              "5            0.0             0.0            1.0             0.0            0   \n",
              "6            0.0             1.0            0.0             0.0            0   \n",
              "7            0.0             0.0            0.0             1.0            0   \n",
              "8            0.0             1.0            0.0             0.0            0   \n",
              "9            0.0             0.0            1.0             0.0            1   \n",
              "10           0.0             0.0            0.0             1.0            0   \n",
              "11           0.0             1.0            0.0             0.0            1   \n",
              "\n",
              "    Bar  Sex/Sab  fome  Cliente  Preço  Chuva  Res  Tempo  \n",
              "0     0        0     1        0      2      0    1      0  \n",
              "1     0        0     1        1      0      0    0      1  \n",
              "2     1        0     0        0      0      0    0      0  \n",
              "3     0        1     1        1      0      1    0      3  \n",
              "4     0        1     0        1      2      0    1      2  \n",
              "5     1        0     1        0      1      1    1      0  \n",
              "6     1        0     0        2      0      1    0      0  \n",
              "7     0        0     1        0      1      1    1      0  \n",
              "8     1        1     0        1      0      1    0      2  \n",
              "9     1        1     1        1      2      0    1      3  \n",
              "10    0        0     0        2      0      0    0      0  \n",
              "11    1        1     1        1      0      0    0      1  "
            ]
          },
          "execution_count": 20,
          "metadata": {},
          "output_type": "execute_result"
        }
      ],
      "source": [
        "X_prev"
      ]
    },
    {
      "cell_type": "code",
      "execution_count": 21,
      "metadata": {
        "colab": {
          "base_uri": "https://localhost:8080/",
          "height": 460
        },
        "id": "y9YbfO5mGyuN",
        "outputId": "9b67ee02-675f-4d53-e5e0-c62f781877af"
      },
      "outputs": [
        {
          "data": {
            "text/plain": [
              "0     Sim\n",
              "1     Não\n",
              "2     Sim\n",
              "3     Sim\n",
              "4     Não\n",
              "5     Sim\n",
              "6     Não\n",
              "7     Sim\n",
              "8     Não\n",
              "9     Não\n",
              "10    Não\n",
              "11    Sim\n",
              "Name: conc, dtype: object"
            ]
          },
          "execution_count": 21,
          "metadata": {},
          "output_type": "execute_result"
        }
      ],
      "source": [
        "y_classe"
      ]
    },
    {
      "cell_type": "code",
      "execution_count": 22,
      "metadata": {
        "colab": {
          "base_uri": "https://localhost:8080/"
        },
        "id": "BBaT0pZRIocD",
        "outputId": "f7ca3b45-5122-47ac-f2ef-9a9f0055f500"
      },
      "outputs": [
        {
          "data": {
            "text/plain": [
              "(12,)"
            ]
          },
          "execution_count": 22,
          "metadata": {},
          "output_type": "execute_result"
        }
      ],
      "source": [
        "y_classe.shape"
      ]
    },
    {
      "cell_type": "code",
      "execution_count": 23,
      "metadata": {
        "id": "BQ7sHFHmDz_b"
      },
      "outputs": [],
      "source": [
        "#X_train_ds, X_test_ds, y_train_ds, y_test_ds = train_test_split(X, y, test_size=0.3, random_state=123, shuffle=True, stratify=y)\n",
        "X_treino, X_teste, y_treino, y_teste = train_test_split(X_prev, y_classe, test_size = 0.20, random_state = 42)"
      ]
    },
    {
      "cell_type": "code",
      "execution_count": 24,
      "metadata": {
        "colab": {
          "base_uri": "https://localhost:8080/"
        },
        "id": "nXswVGPeK_HB",
        "outputId": "e7db7cf6-ea86-49a8-dcb5-149455fbb33a"
      },
      "outputs": [
        {
          "data": {
            "text/plain": [
              "(9, 13)"
            ]
          },
          "execution_count": 24,
          "metadata": {},
          "output_type": "execute_result"
        }
      ],
      "source": [
        "X_treino.shape"
      ]
    },
    {
      "cell_type": "code",
      "execution_count": 25,
      "metadata": {
        "colab": {
          "base_uri": "https://localhost:8080/"
        },
        "id": "Qt1gTVyxLAvS",
        "outputId": "145a419a-d99c-4dc6-9d96-5ab674b7d382"
      },
      "outputs": [
        {
          "data": {
            "text/plain": [
              "(3, 13)"
            ]
          },
          "execution_count": 25,
          "metadata": {},
          "output_type": "execute_result"
        }
      ],
      "source": [
        "X_teste.shape"
      ]
    },
    {
      "cell_type": "code",
      "execution_count": 26,
      "metadata": {
        "colab": {
          "base_uri": "https://localhost:8080/",
          "height": 143
        },
        "id": "XmMPjC6A21vr",
        "outputId": "136ac586-852d-46da-8704-f7355fcbe1c0"
      },
      "outputs": [
        {
          "data": {
            "application/vnd.microsoft.datawrangler.viewer.v0+json": {
              "columns": [
                {
                  "name": "index",
                  "rawType": "int64",
                  "type": "integer"
                },
                {
                  "name": "Tipo_Francês",
                  "rawType": "float64",
                  "type": "float"
                },
                {
                  "name": "Tipo_Hamburger",
                  "rawType": "float64",
                  "type": "float"
                },
                {
                  "name": "Tipo_Italiano",
                  "rawType": "float64",
                  "type": "float"
                },
                {
                  "name": "Tipo_Tailandês",
                  "rawType": "float64",
                  "type": "float"
                },
                {
                  "name": "Alternativo",
                  "rawType": "int64",
                  "type": "integer"
                },
                {
                  "name": "Bar",
                  "rawType": "int64",
                  "type": "integer"
                },
                {
                  "name": "Sex/Sab",
                  "rawType": "int64",
                  "type": "integer"
                },
                {
                  "name": "fome",
                  "rawType": "int64",
                  "type": "integer"
                },
                {
                  "name": "Cliente",
                  "rawType": "int64",
                  "type": "integer"
                },
                {
                  "name": "Preço",
                  "rawType": "int64",
                  "type": "integer"
                },
                {
                  "name": "Chuva",
                  "rawType": "int64",
                  "type": "integer"
                },
                {
                  "name": "Res",
                  "rawType": "int64",
                  "type": "integer"
                },
                {
                  "name": "Tempo",
                  "rawType": "int64",
                  "type": "integer"
                }
              ],
              "conversionMethod": "pd.DataFrame",
              "ref": "46bcc380-2bfb-4504-b9cf-2de361934d9d",
              "rows": [
                [
                  "10",
                  "0.0",
                  "0.0",
                  "0.0",
                  "1.0",
                  "0",
                  "0",
                  "0",
                  "0",
                  "2",
                  "0",
                  "0",
                  "0",
                  "0"
                ],
                [
                  "9",
                  "0.0",
                  "0.0",
                  "1.0",
                  "0.0",
                  "1",
                  "1",
                  "1",
                  "1",
                  "1",
                  "2",
                  "0",
                  "1",
                  "3"
                ],
                [
                  "0",
                  "1.0",
                  "0.0",
                  "0.0",
                  "0.0",
                  "1",
                  "0",
                  "0",
                  "1",
                  "0",
                  "2",
                  "0",
                  "1",
                  "0"
                ]
              ],
              "shape": {
                "columns": 13,
                "rows": 3
              }
            },
            "text/html": [
              "<div>\n",
              "<style scoped>\n",
              "    .dataframe tbody tr th:only-of-type {\n",
              "        vertical-align: middle;\n",
              "    }\n",
              "\n",
              "    .dataframe tbody tr th {\n",
              "        vertical-align: top;\n",
              "    }\n",
              "\n",
              "    .dataframe thead th {\n",
              "        text-align: right;\n",
              "    }\n",
              "</style>\n",
              "<table border=\"1\" class=\"dataframe\">\n",
              "  <thead>\n",
              "    <tr style=\"text-align: right;\">\n",
              "      <th></th>\n",
              "      <th>Tipo_Francês</th>\n",
              "      <th>Tipo_Hamburger</th>\n",
              "      <th>Tipo_Italiano</th>\n",
              "      <th>Tipo_Tailandês</th>\n",
              "      <th>Alternativo</th>\n",
              "      <th>Bar</th>\n",
              "      <th>Sex/Sab</th>\n",
              "      <th>fome</th>\n",
              "      <th>Cliente</th>\n",
              "      <th>Preço</th>\n",
              "      <th>Chuva</th>\n",
              "      <th>Res</th>\n",
              "      <th>Tempo</th>\n",
              "    </tr>\n",
              "  </thead>\n",
              "  <tbody>\n",
              "    <tr>\n",
              "      <th>10</th>\n",
              "      <td>0.0</td>\n",
              "      <td>0.0</td>\n",
              "      <td>0.0</td>\n",
              "      <td>1.0</td>\n",
              "      <td>0</td>\n",
              "      <td>0</td>\n",
              "      <td>0</td>\n",
              "      <td>0</td>\n",
              "      <td>2</td>\n",
              "      <td>0</td>\n",
              "      <td>0</td>\n",
              "      <td>0</td>\n",
              "      <td>0</td>\n",
              "    </tr>\n",
              "    <tr>\n",
              "      <th>9</th>\n",
              "      <td>0.0</td>\n",
              "      <td>0.0</td>\n",
              "      <td>1.0</td>\n",
              "      <td>0.0</td>\n",
              "      <td>1</td>\n",
              "      <td>1</td>\n",
              "      <td>1</td>\n",
              "      <td>1</td>\n",
              "      <td>1</td>\n",
              "      <td>2</td>\n",
              "      <td>0</td>\n",
              "      <td>1</td>\n",
              "      <td>3</td>\n",
              "    </tr>\n",
              "    <tr>\n",
              "      <th>0</th>\n",
              "      <td>1.0</td>\n",
              "      <td>0.0</td>\n",
              "      <td>0.0</td>\n",
              "      <td>0.0</td>\n",
              "      <td>1</td>\n",
              "      <td>0</td>\n",
              "      <td>0</td>\n",
              "      <td>1</td>\n",
              "      <td>0</td>\n",
              "      <td>2</td>\n",
              "      <td>0</td>\n",
              "      <td>1</td>\n",
              "      <td>0</td>\n",
              "    </tr>\n",
              "  </tbody>\n",
              "</table>\n",
              "</div>"
            ],
            "text/plain": [
              "    Tipo_Francês  Tipo_Hamburger  Tipo_Italiano  Tipo_Tailandês  Alternativo  \\\n",
              "10           0.0             0.0            0.0             1.0            0   \n",
              "9            0.0             0.0            1.0             0.0            1   \n",
              "0            1.0             0.0            0.0             0.0            1   \n",
              "\n",
              "    Bar  Sex/Sab  fome  Cliente  Preço  Chuva  Res  Tempo  \n",
              "10    0        0     0        2      0      0    0      0  \n",
              "9     1        1     1        1      2      0    1      3  \n",
              "0     0        0     1        0      2      0    1      0  "
            ]
          },
          "execution_count": 26,
          "metadata": {},
          "output_type": "execute_result"
        }
      ],
      "source": [
        "X_teste"
      ]
    },
    {
      "cell_type": "code",
      "execution_count": 27,
      "metadata": {
        "colab": {
          "base_uri": "https://localhost:8080/",
          "height": 366
        },
        "id": "Nd8g6k2ALDbU",
        "outputId": "ad971edd-3a3b-4a03-dfcd-53b73aafb7d6"
      },
      "outputs": [
        {
          "data": {
            "text/plain": [
              "8     Não\n",
              "5     Sim\n",
              "2     Sim\n",
              "1     Não\n",
              "11    Sim\n",
              "4     Não\n",
              "7     Sim\n",
              "3     Sim\n",
              "6     Não\n",
              "Name: conc, dtype: object"
            ]
          },
          "execution_count": 27,
          "metadata": {},
          "output_type": "execute_result"
        }
      ],
      "source": [
        "y_treino"
      ]
    },
    {
      "cell_type": "code",
      "execution_count": 28,
      "metadata": {
        "colab": {
          "base_uri": "https://localhost:8080/",
          "height": 178
        },
        "id": "8VliUzP_LH5G",
        "outputId": "52b05016-49c1-4dec-9c3a-ea9c21cede0f"
      },
      "outputs": [
        {
          "data": {
            "text/plain": [
              "10    Não\n",
              "9     Não\n",
              "0     Sim\n",
              "Name: conc, dtype: object"
            ]
          },
          "execution_count": 28,
          "metadata": {},
          "output_type": "execute_result"
        }
      ],
      "source": [
        "y_teste"
      ]
    },
    {
      "cell_type": "code",
      "execution_count": 29,
      "metadata": {
        "id": "zbE73RVVVPbW"
      },
      "outputs": [],
      "source": [
        "import pickle"
      ]
    },
    {
      "cell_type": "code",
      "execution_count": 30,
      "metadata": {
        "id": "v6E--H7lViHH"
      },
      "outputs": [],
      "source": [
        "with open('Restaurante.pkl', mode = 'wb') as f:\n",
        "  pickle.dump([X_treino, X_teste, y_treino, y_teste], f)"
      ]
    }
  ],
  "metadata": {
    "colab": {
      "provenance": []
    },
    "kernelspec": {
      "display_name": "Python 3",
      "name": "python3"
    },
    "language_info": {
      "codemirror_mode": {
        "name": "ipython",
        "version": 3
      },
      "file_extension": ".py",
      "mimetype": "text/x-python",
      "name": "python",
      "nbconvert_exporter": "python",
      "pygments_lexer": "ipython3",
      "version": "3.12.3"
    }
  },
  "nbformat": 4,
  "nbformat_minor": 0
}
